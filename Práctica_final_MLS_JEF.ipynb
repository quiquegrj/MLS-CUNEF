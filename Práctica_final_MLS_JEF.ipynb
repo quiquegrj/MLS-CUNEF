{
  "cells": [
    {
      "cell_type": "markdown",
      "source": [
        "**PRACTICA FINAL - Machine Learning: Modelos Supervisados:**\n",
        "\n",
        "ALUMNOS:\n",
        "*   Enrique González Rodríguez\n",
        "*   Jose Luis González Rodríguez\n",
        "*   Francisco Díaz Andreu\n",
        "\n",
        "\n",
        "\n",
        "\n",
        "\n",
        "\n"
      ],
      "metadata": {
        "id": "d9NLUVKI2lMd"
      }
    },
    {
      "cell_type": "markdown",
      "source": [
        "Importamos las librerias"
      ],
      "metadata": {
        "id": "mYt_dMjM3j1z"
      }
    },
    {
      "cell_type": "code",
      "execution_count": null,
      "metadata": {
        "id": "qEVVoMNZEkB3",
        "colab": {
          "base_uri": "https://localhost:8080/"
        },
        "outputId": "c3a1a0d9-9a39-4ad4-d337-b334d62a2100"
      },
      "outputs": [
        {
          "output_type": "stream",
          "name": "stdout",
          "text": [
            "\u001b[33mWARNING: Skipping umap as it is not installed.\u001b[0m\u001b[33m\n",
            "\u001b[0mLooking in indexes: https://pypi.org/simple, https://us-python.pkg.dev/colab-wheels/public/simple/\n",
            "Requirement already satisfied: umap-learn in /usr/local/lib/python3.10/dist-packages (0.5.3)\n",
            "Requirement already satisfied: numpy>=1.17 in /usr/local/lib/python3.10/dist-packages (from umap-learn) (1.22.4)\n",
            "Requirement already satisfied: scikit-learn>=0.22 in /usr/local/lib/python3.10/dist-packages (from umap-learn) (1.2.2)\n",
            "Requirement already satisfied: scipy>=1.0 in /usr/local/lib/python3.10/dist-packages (from umap-learn) (1.10.1)\n",
            "Requirement already satisfied: numba>=0.49 in /usr/local/lib/python3.10/dist-packages (from umap-learn) (0.56.4)\n",
            "Requirement already satisfied: pynndescent>=0.5 in /usr/local/lib/python3.10/dist-packages (from umap-learn) (0.5.10)\n",
            "Requirement already satisfied: tqdm in /usr/local/lib/python3.10/dist-packages (from umap-learn) (4.65.0)\n",
            "Requirement already satisfied: llvmlite<0.40,>=0.39.0dev0 in /usr/local/lib/python3.10/dist-packages (from numba>=0.49->umap-learn) (0.39.1)\n",
            "Requirement already satisfied: setuptools in /usr/local/lib/python3.10/dist-packages (from numba>=0.49->umap-learn) (67.7.2)\n",
            "Requirement already satisfied: joblib>=0.11 in /usr/local/lib/python3.10/dist-packages (from pynndescent>=0.5->umap-learn) (1.2.0)\n",
            "Requirement already satisfied: threadpoolctl>=2.0.0 in /usr/local/lib/python3.10/dist-packages (from scikit-learn>=0.22->umap-learn) (3.1.0)\n"
          ]
        }
      ],
      "source": [
        "!pip3 uninstall umap\n",
        "!pip3 install umap-learn\n",
        "import numpy as np\n",
        "import pandas as pd\n",
        "import matplotlib.pyplot as plt\n",
        "import warnings\n",
        "import seaborn as sns\n",
        "import plotly.graph_objects as go\n",
        "warnings.filterwarnings('ignore')\n",
        "\n",
        "from time import sleep\n",
        "from random import shuffle\n",
        "\n",
        "import numpy as np\n",
        "from numpy import atleast_2d\n",
        "import pandas as pd\n",
        "\n",
        "import time\n",
        "from sklearn.decomposition import PCA, SparsePCA\n",
        "from sklearn.manifold import TSNE, Isomap\n",
        "from sklearn.discriminant_analysis import LinearDiscriminantAnalysis as LDA\n",
        "from sklearn.preprocessing import StandardScaler\n",
        "from sklearn.decomposition import PCA\n",
        "from sklearn.decomposition import KernelPCA\n",
        "from sklearn.cluster import DBSCAN\n",
        "from sklearn.metrics import adjusted_mutual_info_score\n",
        "from sklearn.datasets import load_iris\n",
        "from sklearn.pipeline import make_pipeline\n",
        "from sklearn.neighbors import KDTree\n",
        "from sklearn.model_selection import train_test_split\n",
        "import matplotlib.pyplot as plt\n",
        "from sklearn.metrics import confusion_matrix\n",
        "\n",
        "from umap import UMAP\n",
        "\n",
        "import matplotlib.pyplot as plt\n",
        "from matplotlib.colors import ListedColormap\n",
        "from matplotlib import cm\n",
        "import matplotlib.ticker as ticker\n",
        "import seaborn as sns\n",
        "import matplotlib\n",
        "import matplotlib.pyplot as plt\n",
        "import pandas as pd\n",
        "import numpy as np\n",
        "import seaborn as sns\n",
        "from matplotlib import pyplot as plt\n",
        "import plotly.express as px\n",
        "from sklearn.impute import KNNImputer\n",
        "from sklearn.model_selection import train_test_split\n",
        "from sklearn.preprocessing import StandardScaler\n",
        "from sklearn.linear_model import LogisticRegression\n",
        "from sklearn.neighbors import KNeighborsClassifier\n",
        "from sklearn.preprocessing import LabelEncoder\n",
        "from sklearn.tree import DecisionTreeClassifier\n",
        "from sklearn.ensemble import BaggingClassifier, RandomForestClassifier, GradientBoostingClassifier\n",
        "from sklearn.metrics import accuracy_score, precision_score, recall_score, confusion_matrix, f1_score, roc_auc_score, roc_curve, auc, classification_report\n",
        "import statsmodels.api as sm\n",
        "from sklearn.metrics import roc_curve, roc_auc_score\n",
        "import pickle\n",
        "from sklearn.model_selection import GridSearchCV\n",
        "from sklearn.model_selection import GridSearchCV, RandomizedSearchCV\n",
        "\n",
        "from IPython import display"
      ]
    },
    {
      "cell_type": "markdown",
      "source": [
        "**IMPORTACIÓN DEL DATASET**\n",
        "\n",
        "El dataset contiene información sobre accidentes de vehículos en Canada\n"
      ],
      "metadata": {
        "id": "k8sHa0eh3qLz"
      }
    },
    {
      "cell_type": "code",
      "execution_count": null,
      "metadata": {
        "id": "VSd18cgOEmzi"
      },
      "outputs": [],
      "source": [
        "df = pd.read_csv(\"ncdb.csv\")"
      ]
    },
    {
      "cell_type": "code",
      "execution_count": null,
      "metadata": {
        "id": "B7r5ZDDeE9mk",
        "colab": {
          "base_uri": "https://localhost:8080/",
          "height": 392
        },
        "outputId": "25ddafba-31a8-429f-800f-5ceada4987d2"
      },
      "outputs": [
        {
          "output_type": "execute_result",
          "data": {
            "text/plain": [
              "   C_YEAR C_MNTH C_WDAY C_HOUR  C_SEV C_VEHS C_CONF C_RCFG C_WTHR C_RSUR  ...  \\\n",
              "0    2001      5      5     16      2     02     33     02      1      1  ...   \n",
              "1    2008     10      3     13      2     02     21     02      1      1  ...   \n",
              "2    2009      8      7     09      2     02     36     02      1      1  ...   \n",
              "3    2003      4      5     18      2      2     UU     UU      U      U  ...   \n",
              "4    2014      9      1     07      2     03     21     01      1      1  ...   \n",
              "5    2014     12      1     07      2     01     04     01      2      5  ...   \n",
              "6    2013     12      2     14      2     02     35     UU      1      2  ...   \n",
              "7    1999      4      6     23      2     01     03     01      1      1  ...   \n",
              "8    2002      6      7     09      2     01     04     01      3      2  ...   \n",
              "9    2013     12      4     10      2     02     21     02      1      1  ...   \n",
              "\n",
              "  V_ID V_TYPE V_YEAR P_ID P_SEX P_AGE P_PSN P_ISEV P_SAFE P_USER  \n",
              "0   01     01   1986   02     M    15    13      1     UU      2  \n",
              "1   02     05   2002   02     M    04    23      1     02      2  \n",
              "2    2     01   2004   02     F    17    21      2     02      2  \n",
              "3    2     01   1996   03     F    02    21      2     02      2  \n",
              "4    2     01   2001   01     F    36    11      2     02      1  \n",
              "5    1     06   1998   01     M    67    11      2     02      1  \n",
              "6    1     01   UUUU   01     F    25    11      2     02      1  \n",
              "7   01     01   1990   01     M    20    11      2     01      1  \n",
              "8   01     14   2000   01     F    57    11      2     NN      5  \n",
              "9    1     01   2007   01     F    82    11      1     UU      1  \n",
              "\n",
              "[10 rows x 22 columns]"
            ],
            "text/html": [
              "\n",
              "  <div id=\"df-60464b10-0053-466f-b029-aa7e2141870c\">\n",
              "    <div class=\"colab-df-container\">\n",
              "      <div>\n",
              "<style scoped>\n",
              "    .dataframe tbody tr th:only-of-type {\n",
              "        vertical-align: middle;\n",
              "    }\n",
              "\n",
              "    .dataframe tbody tr th {\n",
              "        vertical-align: top;\n",
              "    }\n",
              "\n",
              "    .dataframe thead th {\n",
              "        text-align: right;\n",
              "    }\n",
              "</style>\n",
              "<table border=\"1\" class=\"dataframe\">\n",
              "  <thead>\n",
              "    <tr style=\"text-align: right;\">\n",
              "      <th></th>\n",
              "      <th>C_YEAR</th>\n",
              "      <th>C_MNTH</th>\n",
              "      <th>C_WDAY</th>\n",
              "      <th>C_HOUR</th>\n",
              "      <th>C_SEV</th>\n",
              "      <th>C_VEHS</th>\n",
              "      <th>C_CONF</th>\n",
              "      <th>C_RCFG</th>\n",
              "      <th>C_WTHR</th>\n",
              "      <th>C_RSUR</th>\n",
              "      <th>...</th>\n",
              "      <th>V_ID</th>\n",
              "      <th>V_TYPE</th>\n",
              "      <th>V_YEAR</th>\n",
              "      <th>P_ID</th>\n",
              "      <th>P_SEX</th>\n",
              "      <th>P_AGE</th>\n",
              "      <th>P_PSN</th>\n",
              "      <th>P_ISEV</th>\n",
              "      <th>P_SAFE</th>\n",
              "      <th>P_USER</th>\n",
              "    </tr>\n",
              "  </thead>\n",
              "  <tbody>\n",
              "    <tr>\n",
              "      <th>0</th>\n",
              "      <td>2001</td>\n",
              "      <td>5</td>\n",
              "      <td>5</td>\n",
              "      <td>16</td>\n",
              "      <td>2</td>\n",
              "      <td>02</td>\n",
              "      <td>33</td>\n",
              "      <td>02</td>\n",
              "      <td>1</td>\n",
              "      <td>1</td>\n",
              "      <td>...</td>\n",
              "      <td>01</td>\n",
              "      <td>01</td>\n",
              "      <td>1986</td>\n",
              "      <td>02</td>\n",
              "      <td>M</td>\n",
              "      <td>15</td>\n",
              "      <td>13</td>\n",
              "      <td>1</td>\n",
              "      <td>UU</td>\n",
              "      <td>2</td>\n",
              "    </tr>\n",
              "    <tr>\n",
              "      <th>1</th>\n",
              "      <td>2008</td>\n",
              "      <td>10</td>\n",
              "      <td>3</td>\n",
              "      <td>13</td>\n",
              "      <td>2</td>\n",
              "      <td>02</td>\n",
              "      <td>21</td>\n",
              "      <td>02</td>\n",
              "      <td>1</td>\n",
              "      <td>1</td>\n",
              "      <td>...</td>\n",
              "      <td>02</td>\n",
              "      <td>05</td>\n",
              "      <td>2002</td>\n",
              "      <td>02</td>\n",
              "      <td>M</td>\n",
              "      <td>04</td>\n",
              "      <td>23</td>\n",
              "      <td>1</td>\n",
              "      <td>02</td>\n",
              "      <td>2</td>\n",
              "    </tr>\n",
              "    <tr>\n",
              "      <th>2</th>\n",
              "      <td>2009</td>\n",
              "      <td>8</td>\n",
              "      <td>7</td>\n",
              "      <td>09</td>\n",
              "      <td>2</td>\n",
              "      <td>02</td>\n",
              "      <td>36</td>\n",
              "      <td>02</td>\n",
              "      <td>1</td>\n",
              "      <td>1</td>\n",
              "      <td>...</td>\n",
              "      <td>2</td>\n",
              "      <td>01</td>\n",
              "      <td>2004</td>\n",
              "      <td>02</td>\n",
              "      <td>F</td>\n",
              "      <td>17</td>\n",
              "      <td>21</td>\n",
              "      <td>2</td>\n",
              "      <td>02</td>\n",
              "      <td>2</td>\n",
              "    </tr>\n",
              "    <tr>\n",
              "      <th>3</th>\n",
              "      <td>2003</td>\n",
              "      <td>4</td>\n",
              "      <td>5</td>\n",
              "      <td>18</td>\n",
              "      <td>2</td>\n",
              "      <td>2</td>\n",
              "      <td>UU</td>\n",
              "      <td>UU</td>\n",
              "      <td>U</td>\n",
              "      <td>U</td>\n",
              "      <td>...</td>\n",
              "      <td>2</td>\n",
              "      <td>01</td>\n",
              "      <td>1996</td>\n",
              "      <td>03</td>\n",
              "      <td>F</td>\n",
              "      <td>02</td>\n",
              "      <td>21</td>\n",
              "      <td>2</td>\n",
              "      <td>02</td>\n",
              "      <td>2</td>\n",
              "    </tr>\n",
              "    <tr>\n",
              "      <th>4</th>\n",
              "      <td>2014</td>\n",
              "      <td>9</td>\n",
              "      <td>1</td>\n",
              "      <td>07</td>\n",
              "      <td>2</td>\n",
              "      <td>03</td>\n",
              "      <td>21</td>\n",
              "      <td>01</td>\n",
              "      <td>1</td>\n",
              "      <td>1</td>\n",
              "      <td>...</td>\n",
              "      <td>2</td>\n",
              "      <td>01</td>\n",
              "      <td>2001</td>\n",
              "      <td>01</td>\n",
              "      <td>F</td>\n",
              "      <td>36</td>\n",
              "      <td>11</td>\n",
              "      <td>2</td>\n",
              "      <td>02</td>\n",
              "      <td>1</td>\n",
              "    </tr>\n",
              "    <tr>\n",
              "      <th>5</th>\n",
              "      <td>2014</td>\n",
              "      <td>12</td>\n",
              "      <td>1</td>\n",
              "      <td>07</td>\n",
              "      <td>2</td>\n",
              "      <td>01</td>\n",
              "      <td>04</td>\n",
              "      <td>01</td>\n",
              "      <td>2</td>\n",
              "      <td>5</td>\n",
              "      <td>...</td>\n",
              "      <td>1</td>\n",
              "      <td>06</td>\n",
              "      <td>1998</td>\n",
              "      <td>01</td>\n",
              "      <td>M</td>\n",
              "      <td>67</td>\n",
              "      <td>11</td>\n",
              "      <td>2</td>\n",
              "      <td>02</td>\n",
              "      <td>1</td>\n",
              "    </tr>\n",
              "    <tr>\n",
              "      <th>6</th>\n",
              "      <td>2013</td>\n",
              "      <td>12</td>\n",
              "      <td>2</td>\n",
              "      <td>14</td>\n",
              "      <td>2</td>\n",
              "      <td>02</td>\n",
              "      <td>35</td>\n",
              "      <td>UU</td>\n",
              "      <td>1</td>\n",
              "      <td>2</td>\n",
              "      <td>...</td>\n",
              "      <td>1</td>\n",
              "      <td>01</td>\n",
              "      <td>UUUU</td>\n",
              "      <td>01</td>\n",
              "      <td>F</td>\n",
              "      <td>25</td>\n",
              "      <td>11</td>\n",
              "      <td>2</td>\n",
              "      <td>02</td>\n",
              "      <td>1</td>\n",
              "    </tr>\n",
              "    <tr>\n",
              "      <th>7</th>\n",
              "      <td>1999</td>\n",
              "      <td>4</td>\n",
              "      <td>6</td>\n",
              "      <td>23</td>\n",
              "      <td>2</td>\n",
              "      <td>01</td>\n",
              "      <td>03</td>\n",
              "      <td>01</td>\n",
              "      <td>1</td>\n",
              "      <td>1</td>\n",
              "      <td>...</td>\n",
              "      <td>01</td>\n",
              "      <td>01</td>\n",
              "      <td>1990</td>\n",
              "      <td>01</td>\n",
              "      <td>M</td>\n",
              "      <td>20</td>\n",
              "      <td>11</td>\n",
              "      <td>2</td>\n",
              "      <td>01</td>\n",
              "      <td>1</td>\n",
              "    </tr>\n",
              "    <tr>\n",
              "      <th>8</th>\n",
              "      <td>2002</td>\n",
              "      <td>6</td>\n",
              "      <td>7</td>\n",
              "      <td>09</td>\n",
              "      <td>2</td>\n",
              "      <td>01</td>\n",
              "      <td>04</td>\n",
              "      <td>01</td>\n",
              "      <td>3</td>\n",
              "      <td>2</td>\n",
              "      <td>...</td>\n",
              "      <td>01</td>\n",
              "      <td>14</td>\n",
              "      <td>2000</td>\n",
              "      <td>01</td>\n",
              "      <td>F</td>\n",
              "      <td>57</td>\n",
              "      <td>11</td>\n",
              "      <td>2</td>\n",
              "      <td>NN</td>\n",
              "      <td>5</td>\n",
              "    </tr>\n",
              "    <tr>\n",
              "      <th>9</th>\n",
              "      <td>2013</td>\n",
              "      <td>12</td>\n",
              "      <td>4</td>\n",
              "      <td>10</td>\n",
              "      <td>2</td>\n",
              "      <td>02</td>\n",
              "      <td>21</td>\n",
              "      <td>02</td>\n",
              "      <td>1</td>\n",
              "      <td>1</td>\n",
              "      <td>...</td>\n",
              "      <td>1</td>\n",
              "      <td>01</td>\n",
              "      <td>2007</td>\n",
              "      <td>01</td>\n",
              "      <td>F</td>\n",
              "      <td>82</td>\n",
              "      <td>11</td>\n",
              "      <td>1</td>\n",
              "      <td>UU</td>\n",
              "      <td>1</td>\n",
              "    </tr>\n",
              "  </tbody>\n",
              "</table>\n",
              "<p>10 rows × 22 columns</p>\n",
              "</div>\n",
              "      <button class=\"colab-df-convert\" onclick=\"convertToInteractive('df-60464b10-0053-466f-b029-aa7e2141870c')\"\n",
              "              title=\"Convert this dataframe to an interactive table.\"\n",
              "              style=\"display:none;\">\n",
              "        \n",
              "  <svg xmlns=\"http://www.w3.org/2000/svg\" height=\"24px\"viewBox=\"0 0 24 24\"\n",
              "       width=\"24px\">\n",
              "    <path d=\"M0 0h24v24H0V0z\" fill=\"none\"/>\n",
              "    <path d=\"M18.56 5.44l.94 2.06.94-2.06 2.06-.94-2.06-.94-.94-2.06-.94 2.06-2.06.94zm-11 1L8.5 8.5l.94-2.06 2.06-.94-2.06-.94L8.5 2.5l-.94 2.06-2.06.94zm10 10l.94 2.06.94-2.06 2.06-.94-2.06-.94-.94-2.06-.94 2.06-2.06.94z\"/><path d=\"M17.41 7.96l-1.37-1.37c-.4-.4-.92-.59-1.43-.59-.52 0-1.04.2-1.43.59L10.3 9.45l-7.72 7.72c-.78.78-.78 2.05 0 2.83L4 21.41c.39.39.9.59 1.41.59.51 0 1.02-.2 1.41-.59l7.78-7.78 2.81-2.81c.8-.78.8-2.07 0-2.86zM5.41 20L4 18.59l7.72-7.72 1.47 1.35L5.41 20z\"/>\n",
              "  </svg>\n",
              "      </button>\n",
              "      \n",
              "  <style>\n",
              "    .colab-df-container {\n",
              "      display:flex;\n",
              "      flex-wrap:wrap;\n",
              "      gap: 12px;\n",
              "    }\n",
              "\n",
              "    .colab-df-convert {\n",
              "      background-color: #E8F0FE;\n",
              "      border: none;\n",
              "      border-radius: 50%;\n",
              "      cursor: pointer;\n",
              "      display: none;\n",
              "      fill: #1967D2;\n",
              "      height: 32px;\n",
              "      padding: 0 0 0 0;\n",
              "      width: 32px;\n",
              "    }\n",
              "\n",
              "    .colab-df-convert:hover {\n",
              "      background-color: #E2EBFA;\n",
              "      box-shadow: 0px 1px 2px rgba(60, 64, 67, 0.3), 0px 1px 3px 1px rgba(60, 64, 67, 0.15);\n",
              "      fill: #174EA6;\n",
              "    }\n",
              "\n",
              "    [theme=dark] .colab-df-convert {\n",
              "      background-color: #3B4455;\n",
              "      fill: #D2E3FC;\n",
              "    }\n",
              "\n",
              "    [theme=dark] .colab-df-convert:hover {\n",
              "      background-color: #434B5C;\n",
              "      box-shadow: 0px 1px 3px 1px rgba(0, 0, 0, 0.15);\n",
              "      filter: drop-shadow(0px 1px 2px rgba(0, 0, 0, 0.3));\n",
              "      fill: #FFFFFF;\n",
              "    }\n",
              "  </style>\n",
              "\n",
              "      <script>\n",
              "        const buttonEl =\n",
              "          document.querySelector('#df-60464b10-0053-466f-b029-aa7e2141870c button.colab-df-convert');\n",
              "        buttonEl.style.display =\n",
              "          google.colab.kernel.accessAllowed ? 'block' : 'none';\n",
              "\n",
              "        async function convertToInteractive(key) {\n",
              "          const element = document.querySelector('#df-60464b10-0053-466f-b029-aa7e2141870c');\n",
              "          const dataTable =\n",
              "            await google.colab.kernel.invokeFunction('convertToInteractive',\n",
              "                                                     [key], {});\n",
              "          if (!dataTable) return;\n",
              "\n",
              "          const docLinkHtml = 'Like what you see? Visit the ' +\n",
              "            '<a target=\"_blank\" href=https://colab.research.google.com/notebooks/data_table.ipynb>data table notebook</a>'\n",
              "            + ' to learn more about interactive tables.';\n",
              "          element.innerHTML = '';\n",
              "          dataTable['output_type'] = 'display_data';\n",
              "          await google.colab.output.renderOutput(dataTable, element);\n",
              "          const docLink = document.createElement('div');\n",
              "          docLink.innerHTML = docLinkHtml;\n",
              "          element.appendChild(docLink);\n",
              "        }\n",
              "      </script>\n",
              "    </div>\n",
              "  </div>\n",
              "  "
            ]
          },
          "metadata": {},
          "execution_count": 54
        }
      ],
      "source": [
        "df.head(10)\n"
      ]
    },
    {
      "cell_type": "markdown",
      "source": [
        "Comprobamos los distintos tipos de variables que hay en el Dataset"
      ],
      "metadata": {
        "id": "KzmHcpwKIBkt"
      }
    },
    {
      "cell_type": "code",
      "execution_count": null,
      "metadata": {
        "id": "CsVRAAnSGE1o",
        "colab": {
          "base_uri": "https://localhost:8080/"
        },
        "outputId": "e7fda956-8e07-436f-9175-4d312f3d6504"
      },
      "outputs": [
        {
          "output_type": "execute_result",
          "data": {
            "text/plain": [
              "C_YEAR     int64\n",
              "C_MNTH    object\n",
              "C_WDAY    object\n",
              "C_HOUR    object\n",
              "C_SEV      int64\n",
              "C_VEHS    object\n",
              "C_CONF    object\n",
              "C_RCFG    object\n",
              "C_WTHR    object\n",
              "C_RSUR    object\n",
              "C_RALN    object\n",
              "C_TRAF    object\n",
              "V_ID      object\n",
              "V_TYPE    object\n",
              "V_YEAR    object\n",
              "P_ID      object\n",
              "P_SEX     object\n",
              "P_AGE     object\n",
              "P_PSN     object\n",
              "P_ISEV    object\n",
              "P_SAFE    object\n",
              "P_USER    object\n",
              "dtype: object"
            ]
          },
          "metadata": {},
          "execution_count": 56
        }
      ],
      "source": [
        "df.dtypes"
      ]
    },
    {
      "cell_type": "markdown",
      "source": [
        "**PROCESAMIENTO INICIAL DE LOS DATOS**"
      ],
      "metadata": {
        "id": "uDr3aBMlG6vR"
      }
    },
    {
      "cell_type": "markdown",
      "source": [
        "Comprobamamos si tenemos valores missing"
      ],
      "metadata": {
        "id": "PDEYWeAeISJZ"
      }
    },
    {
      "cell_type": "code",
      "source": [
        "df.isnull().sum()"
      ],
      "metadata": {
        "id": "bM9bVlPNIPJ_",
        "colab": {
          "base_uri": "https://localhost:8080/"
        },
        "outputId": "c2b5c51e-fc62-44b5-fae1-91784609e2cd"
      },
      "execution_count": null,
      "outputs": [
        {
          "output_type": "execute_result",
          "data": {
            "text/plain": [
              "C_YEAR    0\n",
              "C_MNTH    0\n",
              "C_WDAY    0\n",
              "C_HOUR    0\n",
              "C_SEV     0\n",
              "C_VEHS    0\n",
              "C_CONF    0\n",
              "C_RCFG    0\n",
              "C_WTHR    0\n",
              "C_RSUR    0\n",
              "C_RALN    0\n",
              "C_TRAF    0\n",
              "V_ID      0\n",
              "V_TYPE    0\n",
              "V_YEAR    0\n",
              "P_ID      0\n",
              "P_SEX     0\n",
              "P_AGE     0\n",
              "P_PSN     0\n",
              "P_ISEV    0\n",
              "P_SAFE    0\n",
              "P_USER    0\n",
              "dtype: int64"
            ]
          },
          "metadata": {},
          "execution_count": 57
        }
      ]
    },
    {
      "cell_type": "markdown",
      "source": [
        "Podemos ver que no encontramos ningun valor missing dentro del dataset. Gracias al diccionario de datos podemos conocer que existen ciertos datos, como los que se reemplazan en el código de abajo, que son datos desconocidos por lo que procedemos a reemplazarlos por valores missing \"NA\", para poder tratarlos de una manera mas cómoda y sencilla"
      ],
      "metadata": {
        "id": "cJUWo4nNI921"
      }
    },
    {
      "cell_type": "code",
      "execution_count": null,
      "metadata": {
        "id": "tM_yt29TGcyI"
      },
      "outputs": [],
      "source": [
        "df = df.replace(\"UU\",np.nan)\n",
        "df = df.replace(\"XX\",np.nan)\n",
        "df = df.replace(\"QQ\",np.nan)\n",
        "df = df.replace(\"X\",np.nan)\n",
        "df = df.replace(\"U\",np.nan)\n",
        "df = df.replace(\"Q\",np.nan)\n",
        "df = df.replace(\"N\",np.nan)\n",
        "df = df.replace(\"NN\",np.nan)\n",
        "df = df.replace(\"NNNN\",np.nan)\n",
        "df = df.replace(\"UUUU\",np.nan)\n",
        "df = df.replace(\"XXXX\",np.nan)"
      ]
    },
    {
      "cell_type": "code",
      "execution_count": null,
      "metadata": {
        "id": "c4g7czO9GgBa",
        "colab": {
          "base_uri": "https://localhost:8080/"
        },
        "outputId": "1a5f12d1-e146-405a-eb9c-e7de7b15b069"
      },
      "outputs": [
        {
          "output_type": "execute_result",
          "data": {
            "text/plain": [
              "C_YEAR       0\n",
              "C_MNTH       1\n",
              "C_WDAY       3\n",
              "C_HOUR     186\n",
              "C_SEV        0\n",
              "C_VEHS       1\n",
              "C_CONF    1503\n",
              "C_RCFG    2161\n",
              "C_WTHR     341\n",
              "C_RSUR     789\n",
              "C_RALN    1533\n",
              "C_TRAF     995\n",
              "V_ID         1\n",
              "V_TYPE     914\n",
              "V_YEAR    1970\n",
              "P_ID        31\n",
              "P_SEX      858\n",
              "P_AGE     1349\n",
              "P_PSN      292\n",
              "P_ISEV    1250\n",
              "P_SAFE    4143\n",
              "P_USER     568\n",
              "dtype: int64"
            ]
          },
          "metadata": {},
          "execution_count": 59
        }
      ],
      "source": [
        "df.isnull().sum()"
      ]
    },
    {
      "cell_type": "markdown",
      "source": [
        "Calculamos las modas y medias de todas las columnas, para sustituir lo Na por los valores calculados"
      ],
      "metadata": {
        "id": "41emI3HTKipN"
      }
    },
    {
      "cell_type": "code",
      "execution_count": null,
      "metadata": {
        "id": "auwVC4QFGuxu"
      },
      "outputs": [],
      "source": [
        "df['C_RCFG'] = pd.to_numeric(df['C_RCFG'])\n",
        "df['C_RCFG'].mode()\n",
        "df['C_RCFG'] = df ['C_RCFG']. fillna(2)\n",
        "df['C_TRAF'] = pd.to_numeric(df['C_TRAF'])\n",
        "df['C_TRAF'].mode()\n",
        "df['C_CONF'] = df ['C_CONF']. fillna(21)\n",
        "df['C_SEV'] = pd.to_numeric(df['C_SEV'])\n",
        "df['C_SEV'].mode()\n",
        "df['C_SEV'] = df ['C_SEV']. fillna(2)\n",
        "df['C_WTHR'] = pd.to_numeric(df['C_WTHR'])\n",
        "df['C_WTHR'].mode()\n",
        "df['C_WTHR'] = df ['C_WTHR']. fillna(1)\n",
        "df['C_VEHS'] = pd.to_numeric(df['C_VEHS'])\n",
        "df['C_VEHS'].mode()\n",
        "df['C_VEHS'] = df ['C_VEHS']. fillna(2)\n",
        "df['C_RSUR'] = pd.to_numeric(df['C_RSUR'])\n",
        "df['C_RSUR'].mode()\n",
        "df['C_RSUR'] = df ['C_RSUR']. fillna(1)\n",
        "df['P_ISEV'] = pd.to_numeric(df['P_ISEV'])\n",
        "df['P_ISEV'].mode()\n",
        "df['P_ISEV'] = df ['P_ISEV']. fillna(2)\n",
        "df['P_USER'] = pd.to_numeric(df['P_USER'])\n",
        "df['P_USER'].mode()\n",
        "df['P_USER'] = df ['P_USER']. fillna(1)"
      ]
    },
    {
      "cell_type": "code",
      "execution_count": null,
      "metadata": {
        "id": "dl7sW3n6HNej"
      },
      "outputs": [],
      "source": [
        "df['V_YEAR'] = pd.to_numeric(df['V_YEAR'])\n",
        "df['V_YEAR'].mean()\n",
        "df ['V_YEAR'] = df ['V_YEAR']. fillna(1999)\n",
        "df['P_AGE'] = pd.to_numeric(df['P_AGE'])\n",
        "df['P_AGE'].mean()\n",
        "df ['P_AGE'] = df ['P_AGE']. fillna(37)"
      ]
    },
    {
      "cell_type": "markdown",
      "source": [
        "Eliminamos la columna C_RALN y P_SEX"
      ],
      "metadata": {
        "id": "jBFKhLeiLLn6"
      }
    },
    {
      "cell_type": "code",
      "execution_count": null,
      "metadata": {
        "id": "yB_yKQUBHWju"
      },
      "outputs": [],
      "source": [
        "df = df.drop(['C_RALN'], axis=1)\n",
        "df = df.drop(['P_SEX'], axis=1)"
      ]
    },
    {
      "cell_type": "markdown",
      "source": [
        "Reemplazamos en la columa P_SAFE los NAs por 0 ya que hay más de 4.000 registros missing"
      ],
      "metadata": {
        "id": "OD75bUdyMY_U"
      }
    },
    {
      "cell_type": "code",
      "execution_count": null,
      "metadata": {
        "id": "E4gklTw5HZ9R",
        "colab": {
          "base_uri": "https://localhost:8080/",
          "height": 206
        },
        "outputId": "d8005ee1-258e-4656-b054-4b357fd4ca97"
      },
      "outputs": [
        {
          "output_type": "execute_result",
          "data": {
            "text/plain": [
              "   C_YEAR C_MNTH C_WDAY C_HOUR  C_SEV  C_VEHS C_CONF  C_RCFG  C_WTHR  C_RSUR  \\\n",
              "0    2001      5      5     16      2     2.0     33     2.0     1.0     1.0   \n",
              "1    2008     10      3     13      2     2.0     21     2.0     1.0     1.0   \n",
              "2    2009      8      7     09      2     2.0     36     2.0     1.0     1.0   \n",
              "3    2003      4      5     18      2     2.0     21     2.0     1.0     1.0   \n",
              "4    2014      9      1     07      2     3.0     21     1.0     1.0     1.0   \n",
              "\n",
              "   C_TRAF V_ID V_TYPE  V_YEAR P_ID  P_AGE P_PSN  P_ISEV P_SAFE  P_USER  \n",
              "0    18.0   01     01  1986.0   02   15.0    13     1.0      0     2.0  \n",
              "1    18.0   02     05  2002.0   02    4.0    23     1.0     02     2.0  \n",
              "2    18.0    2     01  2004.0   02   17.0    21     2.0     02     2.0  \n",
              "3     NaN    2     01  1996.0   03    2.0    21     2.0     02     2.0  \n",
              "4     1.0    2     01  2001.0   01   36.0    11     2.0     02     1.0  "
            ],
            "text/html": [
              "\n",
              "  <div id=\"df-00c27c4d-150b-4cd8-8291-d08ed3eaf8ae\">\n",
              "    <div class=\"colab-df-container\">\n",
              "      <div>\n",
              "<style scoped>\n",
              "    .dataframe tbody tr th:only-of-type {\n",
              "        vertical-align: middle;\n",
              "    }\n",
              "\n",
              "    .dataframe tbody tr th {\n",
              "        vertical-align: top;\n",
              "    }\n",
              "\n",
              "    .dataframe thead th {\n",
              "        text-align: right;\n",
              "    }\n",
              "</style>\n",
              "<table border=\"1\" class=\"dataframe\">\n",
              "  <thead>\n",
              "    <tr style=\"text-align: right;\">\n",
              "      <th></th>\n",
              "      <th>C_YEAR</th>\n",
              "      <th>C_MNTH</th>\n",
              "      <th>C_WDAY</th>\n",
              "      <th>C_HOUR</th>\n",
              "      <th>C_SEV</th>\n",
              "      <th>C_VEHS</th>\n",
              "      <th>C_CONF</th>\n",
              "      <th>C_RCFG</th>\n",
              "      <th>C_WTHR</th>\n",
              "      <th>C_RSUR</th>\n",
              "      <th>C_TRAF</th>\n",
              "      <th>V_ID</th>\n",
              "      <th>V_TYPE</th>\n",
              "      <th>V_YEAR</th>\n",
              "      <th>P_ID</th>\n",
              "      <th>P_AGE</th>\n",
              "      <th>P_PSN</th>\n",
              "      <th>P_ISEV</th>\n",
              "      <th>P_SAFE</th>\n",
              "      <th>P_USER</th>\n",
              "    </tr>\n",
              "  </thead>\n",
              "  <tbody>\n",
              "    <tr>\n",
              "      <th>0</th>\n",
              "      <td>2001</td>\n",
              "      <td>5</td>\n",
              "      <td>5</td>\n",
              "      <td>16</td>\n",
              "      <td>2</td>\n",
              "      <td>2.0</td>\n",
              "      <td>33</td>\n",
              "      <td>2.0</td>\n",
              "      <td>1.0</td>\n",
              "      <td>1.0</td>\n",
              "      <td>18.0</td>\n",
              "      <td>01</td>\n",
              "      <td>01</td>\n",
              "      <td>1986.0</td>\n",
              "      <td>02</td>\n",
              "      <td>15.0</td>\n",
              "      <td>13</td>\n",
              "      <td>1.0</td>\n",
              "      <td>0</td>\n",
              "      <td>2.0</td>\n",
              "    </tr>\n",
              "    <tr>\n",
              "      <th>1</th>\n",
              "      <td>2008</td>\n",
              "      <td>10</td>\n",
              "      <td>3</td>\n",
              "      <td>13</td>\n",
              "      <td>2</td>\n",
              "      <td>2.0</td>\n",
              "      <td>21</td>\n",
              "      <td>2.0</td>\n",
              "      <td>1.0</td>\n",
              "      <td>1.0</td>\n",
              "      <td>18.0</td>\n",
              "      <td>02</td>\n",
              "      <td>05</td>\n",
              "      <td>2002.0</td>\n",
              "      <td>02</td>\n",
              "      <td>4.0</td>\n",
              "      <td>23</td>\n",
              "      <td>1.0</td>\n",
              "      <td>02</td>\n",
              "      <td>2.0</td>\n",
              "    </tr>\n",
              "    <tr>\n",
              "      <th>2</th>\n",
              "      <td>2009</td>\n",
              "      <td>8</td>\n",
              "      <td>7</td>\n",
              "      <td>09</td>\n",
              "      <td>2</td>\n",
              "      <td>2.0</td>\n",
              "      <td>36</td>\n",
              "      <td>2.0</td>\n",
              "      <td>1.0</td>\n",
              "      <td>1.0</td>\n",
              "      <td>18.0</td>\n",
              "      <td>2</td>\n",
              "      <td>01</td>\n",
              "      <td>2004.0</td>\n",
              "      <td>02</td>\n",
              "      <td>17.0</td>\n",
              "      <td>21</td>\n",
              "      <td>2.0</td>\n",
              "      <td>02</td>\n",
              "      <td>2.0</td>\n",
              "    </tr>\n",
              "    <tr>\n",
              "      <th>3</th>\n",
              "      <td>2003</td>\n",
              "      <td>4</td>\n",
              "      <td>5</td>\n",
              "      <td>18</td>\n",
              "      <td>2</td>\n",
              "      <td>2.0</td>\n",
              "      <td>21</td>\n",
              "      <td>2.0</td>\n",
              "      <td>1.0</td>\n",
              "      <td>1.0</td>\n",
              "      <td>NaN</td>\n",
              "      <td>2</td>\n",
              "      <td>01</td>\n",
              "      <td>1996.0</td>\n",
              "      <td>03</td>\n",
              "      <td>2.0</td>\n",
              "      <td>21</td>\n",
              "      <td>2.0</td>\n",
              "      <td>02</td>\n",
              "      <td>2.0</td>\n",
              "    </tr>\n",
              "    <tr>\n",
              "      <th>4</th>\n",
              "      <td>2014</td>\n",
              "      <td>9</td>\n",
              "      <td>1</td>\n",
              "      <td>07</td>\n",
              "      <td>2</td>\n",
              "      <td>3.0</td>\n",
              "      <td>21</td>\n",
              "      <td>1.0</td>\n",
              "      <td>1.0</td>\n",
              "      <td>1.0</td>\n",
              "      <td>1.0</td>\n",
              "      <td>2</td>\n",
              "      <td>01</td>\n",
              "      <td>2001.0</td>\n",
              "      <td>01</td>\n",
              "      <td>36.0</td>\n",
              "      <td>11</td>\n",
              "      <td>2.0</td>\n",
              "      <td>02</td>\n",
              "      <td>1.0</td>\n",
              "    </tr>\n",
              "  </tbody>\n",
              "</table>\n",
              "</div>\n",
              "      <button class=\"colab-df-convert\" onclick=\"convertToInteractive('df-00c27c4d-150b-4cd8-8291-d08ed3eaf8ae')\"\n",
              "              title=\"Convert this dataframe to an interactive table.\"\n",
              "              style=\"display:none;\">\n",
              "        \n",
              "  <svg xmlns=\"http://www.w3.org/2000/svg\" height=\"24px\"viewBox=\"0 0 24 24\"\n",
              "       width=\"24px\">\n",
              "    <path d=\"M0 0h24v24H0V0z\" fill=\"none\"/>\n",
              "    <path d=\"M18.56 5.44l.94 2.06.94-2.06 2.06-.94-2.06-.94-.94-2.06-.94 2.06-2.06.94zm-11 1L8.5 8.5l.94-2.06 2.06-.94-2.06-.94L8.5 2.5l-.94 2.06-2.06.94zm10 10l.94 2.06.94-2.06 2.06-.94-2.06-.94-.94-2.06-.94 2.06-2.06.94z\"/><path d=\"M17.41 7.96l-1.37-1.37c-.4-.4-.92-.59-1.43-.59-.52 0-1.04.2-1.43.59L10.3 9.45l-7.72 7.72c-.78.78-.78 2.05 0 2.83L4 21.41c.39.39.9.59 1.41.59.51 0 1.02-.2 1.41-.59l7.78-7.78 2.81-2.81c.8-.78.8-2.07 0-2.86zM5.41 20L4 18.59l7.72-7.72 1.47 1.35L5.41 20z\"/>\n",
              "  </svg>\n",
              "      </button>\n",
              "      \n",
              "  <style>\n",
              "    .colab-df-container {\n",
              "      display:flex;\n",
              "      flex-wrap:wrap;\n",
              "      gap: 12px;\n",
              "    }\n",
              "\n",
              "    .colab-df-convert {\n",
              "      background-color: #E8F0FE;\n",
              "      border: none;\n",
              "      border-radius: 50%;\n",
              "      cursor: pointer;\n",
              "      display: none;\n",
              "      fill: #1967D2;\n",
              "      height: 32px;\n",
              "      padding: 0 0 0 0;\n",
              "      width: 32px;\n",
              "    }\n",
              "\n",
              "    .colab-df-convert:hover {\n",
              "      background-color: #E2EBFA;\n",
              "      box-shadow: 0px 1px 2px rgba(60, 64, 67, 0.3), 0px 1px 3px 1px rgba(60, 64, 67, 0.15);\n",
              "      fill: #174EA6;\n",
              "    }\n",
              "\n",
              "    [theme=dark] .colab-df-convert {\n",
              "      background-color: #3B4455;\n",
              "      fill: #D2E3FC;\n",
              "    }\n",
              "\n",
              "    [theme=dark] .colab-df-convert:hover {\n",
              "      background-color: #434B5C;\n",
              "      box-shadow: 0px 1px 3px 1px rgba(0, 0, 0, 0.15);\n",
              "      filter: drop-shadow(0px 1px 2px rgba(0, 0, 0, 0.3));\n",
              "      fill: #FFFFFF;\n",
              "    }\n",
              "  </style>\n",
              "\n",
              "      <script>\n",
              "        const buttonEl =\n",
              "          document.querySelector('#df-00c27c4d-150b-4cd8-8291-d08ed3eaf8ae button.colab-df-convert');\n",
              "        buttonEl.style.display =\n",
              "          google.colab.kernel.accessAllowed ? 'block' : 'none';\n",
              "\n",
              "        async function convertToInteractive(key) {\n",
              "          const element = document.querySelector('#df-00c27c4d-150b-4cd8-8291-d08ed3eaf8ae');\n",
              "          const dataTable =\n",
              "            await google.colab.kernel.invokeFunction('convertToInteractive',\n",
              "                                                     [key], {});\n",
              "          if (!dataTable) return;\n",
              "\n",
              "          const docLinkHtml = 'Like what you see? Visit the ' +\n",
              "            '<a target=\"_blank\" href=https://colab.research.google.com/notebooks/data_table.ipynb>data table notebook</a>'\n",
              "            + ' to learn more about interactive tables.';\n",
              "          element.innerHTML = '';\n",
              "          dataTable['output_type'] = 'display_data';\n",
              "          await google.colab.output.renderOutput(dataTable, element);\n",
              "          const docLink = document.createElement('div');\n",
              "          docLink.innerHTML = docLinkHtml;\n",
              "          element.appendChild(docLink);\n",
              "        }\n",
              "      </script>\n",
              "    </div>\n",
              "  </div>\n",
              "  "
            ]
          },
          "metadata": {},
          "execution_count": 63
        }
      ],
      "source": [
        "df['P_SAFE'] = df['P_SAFE'].fillna(0)\n",
        "df.head()"
      ]
    },
    {
      "cell_type": "markdown",
      "source": [
        "Eliminamos las filas con NA"
      ],
      "metadata": {
        "id": "1iGdnw6UOJ3r"
      }
    },
    {
      "cell_type": "code",
      "execution_count": null,
      "metadata": {
        "id": "j4lsAU4jHbSd",
        "colab": {
          "base_uri": "https://localhost:8080/"
        },
        "outputId": "e45e6a85-7b9c-43d2-a046-1436e151ce65"
      },
      "outputs": [
        {
          "output_type": "execute_result",
          "data": {
            "text/plain": [
              "C_YEAR    0\n",
              "C_MNTH    0\n",
              "C_WDAY    0\n",
              "C_HOUR    0\n",
              "C_SEV     0\n",
              "C_VEHS    0\n",
              "C_CONF    0\n",
              "C_RCFG    0\n",
              "C_WTHR    0\n",
              "C_RSUR    0\n",
              "C_TRAF    0\n",
              "V_ID      0\n",
              "V_TYPE    0\n",
              "V_YEAR    0\n",
              "P_ID      0\n",
              "P_AGE     0\n",
              "P_PSN     0\n",
              "P_ISEV    0\n",
              "P_SAFE    0\n",
              "P_USER    0\n",
              "dtype: int64"
            ]
          },
          "metadata": {},
          "execution_count": 64
        }
      ],
      "source": [
        "df.dropna(inplace=True)\n",
        "df.isnull().sum()"
      ]
    },
    {
      "cell_type": "markdown",
      "source": [
        "Unificamos los datos con diferentes etiquetas pero manteniendo el significado"
      ],
      "metadata": {
        "id": "p14N1u7YPR7_"
      }
    },
    {
      "cell_type": "code",
      "execution_count": null,
      "metadata": {
        "id": "k7mzSCliHeQ8"
      },
      "outputs": [],
      "source": [
        "df= df.replace([\"01\"], [\"1\"])\n",
        "df= df.replace([\"02\"], [\"2\"])\n",
        "df= df.replace([\"03\"], [\"3\"])\n",
        "df= df.replace([\"04\"], [\"4\"])\n",
        "df= df.replace([\"05\"], [\"5\"])\n",
        "df= df.replace([\"06\"], [\"6\"])\n",
        "df= df.replace([\"07\"], [\"7\"])\n",
        "df= df.replace([\"08\"], [\"8\"])\n",
        "df= df.replace([\"09\"], [\"9\"])\n",
        "df= df.replace([\"00\"], [\"0\"])"
      ]
    },
    {
      "cell_type": "markdown",
      "source": [
        "Transformamos a numéricas las variables"
      ],
      "metadata": {
        "id": "N3C8W6aNP8eb"
      }
    },
    {
      "cell_type": "code",
      "execution_count": null,
      "metadata": {
        "id": "a9gPMdL2Hf5S"
      },
      "outputs": [],
      "source": [
        "df['C_MNTH'] = pd.to_numeric(df['C_MNTH'])\n",
        "df['C_WDAY'] = pd.to_numeric(df['C_WDAY'])\n",
        "df['C_HOUR'] = pd.to_numeric(df['C_HOUR'])\n",
        "df['V_ID'] = pd.to_numeric(df['V_ID'])\n",
        "df['V_TYPE'] = pd.to_numeric(df['V_TYPE'])\n",
        "df['P_ID'] = pd.to_numeric(df['P_ID'])\n",
        "df['P_PSN'] = pd.to_numeric(df['P_PSN'])\n",
        "df['P_PSN'] = pd.to_numeric(df['P_PSN'])\n",
        "df['P_SAFE'] = pd.to_numeric(df['P_SAFE'])     "
      ]
    },
    {
      "cell_type": "code",
      "execution_count": null,
      "metadata": {
        "id": "moRpT99vHiUB",
        "colab": {
          "base_uri": "https://localhost:8080/"
        },
        "outputId": "0043cf62-9b67-4712-eae6-4ced44e405fa"
      },
      "outputs": [
        {
          "output_type": "execute_result",
          "data": {
            "text/plain": [
              "(17768, 20)"
            ]
          },
          "metadata": {},
          "execution_count": 67
        }
      ],
      "source": [
        "df.shape"
      ]
    },
    {
      "cell_type": "markdown",
      "source": [
        "Tras el procesamiento inicial de los datos, observamos que nos quedamos con un dataset final compuesto por 17.768 filas y 20 columnas"
      ],
      "metadata": {
        "id": "S1LGMc8uQIhi"
      }
    },
    {
      "cell_type": "code",
      "execution_count": null,
      "metadata": {
        "id": "ahWoHLM-Hl7S",
        "colab": {
          "base_uri": "https://localhost:8080/",
          "height": 364
        },
        "outputId": "b811a81c-1308-481c-9e31-5f91ffdb2cc0"
      },
      "outputs": [
        {
          "output_type": "execute_result",
          "data": {
            "text/plain": [
              "             C_YEAR        C_MNTH        C_WDAY        C_HOUR         C_SEV  \\\n",
              "count  17768.000000  17768.000000  17768.000000  17768.000000  17768.000000   \n",
              "mean    2005.873818      6.690173      4.022569     13.695520      1.984298   \n",
              "std        4.572383      3.405036      1.935964      5.164153      0.124325   \n",
              "min     1999.000000      1.000000      1.000000      0.000000      1.000000   \n",
              "25%     2002.000000      4.000000      2.000000     10.000000      2.000000   \n",
              "50%     2005.000000      7.000000      4.000000     14.000000      2.000000   \n",
              "75%     2010.000000     10.000000      6.000000     17.000000      2.000000   \n",
              "max     2014.000000     12.000000      7.000000     23.000000      2.000000   \n",
              "\n",
              "             C_VEHS        C_RCFG        C_WTHR        C_RSUR        C_TRAF  \\\n",
              "count  17768.000000  17768.000000  17768.000000  17768.000000  17768.000000   \n",
              "mean       2.101925      1.750338      1.600687      1.552679     10.741333   \n",
              "std        1.546750      0.729632      1.119270      1.089218      8.088548   \n",
              "min        1.000000      1.000000      1.000000      1.000000      1.000000   \n",
              "25%        2.000000      1.000000      1.000000      1.000000      1.000000   \n",
              "50%        2.000000      2.000000      1.000000      1.000000     18.000000   \n",
              "75%        2.000000      2.000000      2.000000      2.000000     18.000000   \n",
              "max       77.000000     10.000000      7.000000      8.000000     18.000000   \n",
              "\n",
              "               V_ID        V_TYPE        V_YEAR          P_ID         P_AGE  \\\n",
              "count  17768.000000  17768.000000  17768.000000  17768.000000  17768.000000   \n",
              "mean       1.561684      2.230020   1998.485930      1.466738     36.447940   \n",
              "std        1.021809      3.598472      6.810547      1.195250     17.793747   \n",
              "min        1.000000      1.000000   1914.000000      1.000000      1.000000   \n",
              "25%        1.000000      1.000000   1994.000000      1.000000     22.000000   \n",
              "50%        1.000000      1.000000   1999.000000      1.000000     36.000000   \n",
              "75%        2.000000      1.000000   2003.000000      2.000000     48.000000   \n",
              "max       48.000000     23.000000   2015.000000     48.000000     99.000000   \n",
              "\n",
              "              P_PSN        P_ISEV        P_SAFE        P_USER  \n",
              "count  17768.000000  17768.000000  17768.000000  17768.000000  \n",
              "mean      13.377533      1.579525      1.937022      1.438991  \n",
              "std        8.593905      0.503918      1.960586      0.801511  \n",
              "min       11.000000      1.000000      0.000000      1.000000  \n",
              "25%       11.000000      1.000000      2.000000      1.000000  \n",
              "50%       11.000000      2.000000      2.000000      1.000000  \n",
              "75%       13.000000      2.000000      2.000000      2.000000  \n",
              "max       98.000000      3.000000     13.000000      5.000000  "
            ],
            "text/html": [
              "\n",
              "  <div id=\"df-548b0408-5ba3-423a-b6e1-96ed1d0c6d92\">\n",
              "    <div class=\"colab-df-container\">\n",
              "      <div>\n",
              "<style scoped>\n",
              "    .dataframe tbody tr th:only-of-type {\n",
              "        vertical-align: middle;\n",
              "    }\n",
              "\n",
              "    .dataframe tbody tr th {\n",
              "        vertical-align: top;\n",
              "    }\n",
              "\n",
              "    .dataframe thead th {\n",
              "        text-align: right;\n",
              "    }\n",
              "</style>\n",
              "<table border=\"1\" class=\"dataframe\">\n",
              "  <thead>\n",
              "    <tr style=\"text-align: right;\">\n",
              "      <th></th>\n",
              "      <th>C_YEAR</th>\n",
              "      <th>C_MNTH</th>\n",
              "      <th>C_WDAY</th>\n",
              "      <th>C_HOUR</th>\n",
              "      <th>C_SEV</th>\n",
              "      <th>C_VEHS</th>\n",
              "      <th>C_RCFG</th>\n",
              "      <th>C_WTHR</th>\n",
              "      <th>C_RSUR</th>\n",
              "      <th>C_TRAF</th>\n",
              "      <th>V_ID</th>\n",
              "      <th>V_TYPE</th>\n",
              "      <th>V_YEAR</th>\n",
              "      <th>P_ID</th>\n",
              "      <th>P_AGE</th>\n",
              "      <th>P_PSN</th>\n",
              "      <th>P_ISEV</th>\n",
              "      <th>P_SAFE</th>\n",
              "      <th>P_USER</th>\n",
              "    </tr>\n",
              "  </thead>\n",
              "  <tbody>\n",
              "    <tr>\n",
              "      <th>count</th>\n",
              "      <td>17768.000000</td>\n",
              "      <td>17768.000000</td>\n",
              "      <td>17768.000000</td>\n",
              "      <td>17768.000000</td>\n",
              "      <td>17768.000000</td>\n",
              "      <td>17768.000000</td>\n",
              "      <td>17768.000000</td>\n",
              "      <td>17768.000000</td>\n",
              "      <td>17768.000000</td>\n",
              "      <td>17768.000000</td>\n",
              "      <td>17768.000000</td>\n",
              "      <td>17768.000000</td>\n",
              "      <td>17768.000000</td>\n",
              "      <td>17768.000000</td>\n",
              "      <td>17768.000000</td>\n",
              "      <td>17768.000000</td>\n",
              "      <td>17768.000000</td>\n",
              "      <td>17768.000000</td>\n",
              "      <td>17768.000000</td>\n",
              "    </tr>\n",
              "    <tr>\n",
              "      <th>mean</th>\n",
              "      <td>2005.873818</td>\n",
              "      <td>6.690173</td>\n",
              "      <td>4.022569</td>\n",
              "      <td>13.695520</td>\n",
              "      <td>1.984298</td>\n",
              "      <td>2.101925</td>\n",
              "      <td>1.750338</td>\n",
              "      <td>1.600687</td>\n",
              "      <td>1.552679</td>\n",
              "      <td>10.741333</td>\n",
              "      <td>1.561684</td>\n",
              "      <td>2.230020</td>\n",
              "      <td>1998.485930</td>\n",
              "      <td>1.466738</td>\n",
              "      <td>36.447940</td>\n",
              "      <td>13.377533</td>\n",
              "      <td>1.579525</td>\n",
              "      <td>1.937022</td>\n",
              "      <td>1.438991</td>\n",
              "    </tr>\n",
              "    <tr>\n",
              "      <th>std</th>\n",
              "      <td>4.572383</td>\n",
              "      <td>3.405036</td>\n",
              "      <td>1.935964</td>\n",
              "      <td>5.164153</td>\n",
              "      <td>0.124325</td>\n",
              "      <td>1.546750</td>\n",
              "      <td>0.729632</td>\n",
              "      <td>1.119270</td>\n",
              "      <td>1.089218</td>\n",
              "      <td>8.088548</td>\n",
              "      <td>1.021809</td>\n",
              "      <td>3.598472</td>\n",
              "      <td>6.810547</td>\n",
              "      <td>1.195250</td>\n",
              "      <td>17.793747</td>\n",
              "      <td>8.593905</td>\n",
              "      <td>0.503918</td>\n",
              "      <td>1.960586</td>\n",
              "      <td>0.801511</td>\n",
              "    </tr>\n",
              "    <tr>\n",
              "      <th>min</th>\n",
              "      <td>1999.000000</td>\n",
              "      <td>1.000000</td>\n",
              "      <td>1.000000</td>\n",
              "      <td>0.000000</td>\n",
              "      <td>1.000000</td>\n",
              "      <td>1.000000</td>\n",
              "      <td>1.000000</td>\n",
              "      <td>1.000000</td>\n",
              "      <td>1.000000</td>\n",
              "      <td>1.000000</td>\n",
              "      <td>1.000000</td>\n",
              "      <td>1.000000</td>\n",
              "      <td>1914.000000</td>\n",
              "      <td>1.000000</td>\n",
              "      <td>1.000000</td>\n",
              "      <td>11.000000</td>\n",
              "      <td>1.000000</td>\n",
              "      <td>0.000000</td>\n",
              "      <td>1.000000</td>\n",
              "    </tr>\n",
              "    <tr>\n",
              "      <th>25%</th>\n",
              "      <td>2002.000000</td>\n",
              "      <td>4.000000</td>\n",
              "      <td>2.000000</td>\n",
              "      <td>10.000000</td>\n",
              "      <td>2.000000</td>\n",
              "      <td>2.000000</td>\n",
              "      <td>1.000000</td>\n",
              "      <td>1.000000</td>\n",
              "      <td>1.000000</td>\n",
              "      <td>1.000000</td>\n",
              "      <td>1.000000</td>\n",
              "      <td>1.000000</td>\n",
              "      <td>1994.000000</td>\n",
              "      <td>1.000000</td>\n",
              "      <td>22.000000</td>\n",
              "      <td>11.000000</td>\n",
              "      <td>1.000000</td>\n",
              "      <td>2.000000</td>\n",
              "      <td>1.000000</td>\n",
              "    </tr>\n",
              "    <tr>\n",
              "      <th>50%</th>\n",
              "      <td>2005.000000</td>\n",
              "      <td>7.000000</td>\n",
              "      <td>4.000000</td>\n",
              "      <td>14.000000</td>\n",
              "      <td>2.000000</td>\n",
              "      <td>2.000000</td>\n",
              "      <td>2.000000</td>\n",
              "      <td>1.000000</td>\n",
              "      <td>1.000000</td>\n",
              "      <td>18.000000</td>\n",
              "      <td>1.000000</td>\n",
              "      <td>1.000000</td>\n",
              "      <td>1999.000000</td>\n",
              "      <td>1.000000</td>\n",
              "      <td>36.000000</td>\n",
              "      <td>11.000000</td>\n",
              "      <td>2.000000</td>\n",
              "      <td>2.000000</td>\n",
              "      <td>1.000000</td>\n",
              "    </tr>\n",
              "    <tr>\n",
              "      <th>75%</th>\n",
              "      <td>2010.000000</td>\n",
              "      <td>10.000000</td>\n",
              "      <td>6.000000</td>\n",
              "      <td>17.000000</td>\n",
              "      <td>2.000000</td>\n",
              "      <td>2.000000</td>\n",
              "      <td>2.000000</td>\n",
              "      <td>2.000000</td>\n",
              "      <td>2.000000</td>\n",
              "      <td>18.000000</td>\n",
              "      <td>2.000000</td>\n",
              "      <td>1.000000</td>\n",
              "      <td>2003.000000</td>\n",
              "      <td>2.000000</td>\n",
              "      <td>48.000000</td>\n",
              "      <td>13.000000</td>\n",
              "      <td>2.000000</td>\n",
              "      <td>2.000000</td>\n",
              "      <td>2.000000</td>\n",
              "    </tr>\n",
              "    <tr>\n",
              "      <th>max</th>\n",
              "      <td>2014.000000</td>\n",
              "      <td>12.000000</td>\n",
              "      <td>7.000000</td>\n",
              "      <td>23.000000</td>\n",
              "      <td>2.000000</td>\n",
              "      <td>77.000000</td>\n",
              "      <td>10.000000</td>\n",
              "      <td>7.000000</td>\n",
              "      <td>8.000000</td>\n",
              "      <td>18.000000</td>\n",
              "      <td>48.000000</td>\n",
              "      <td>23.000000</td>\n",
              "      <td>2015.000000</td>\n",
              "      <td>48.000000</td>\n",
              "      <td>99.000000</td>\n",
              "      <td>98.000000</td>\n",
              "      <td>3.000000</td>\n",
              "      <td>13.000000</td>\n",
              "      <td>5.000000</td>\n",
              "    </tr>\n",
              "  </tbody>\n",
              "</table>\n",
              "</div>\n",
              "      <button class=\"colab-df-convert\" onclick=\"convertToInteractive('df-548b0408-5ba3-423a-b6e1-96ed1d0c6d92')\"\n",
              "              title=\"Convert this dataframe to an interactive table.\"\n",
              "              style=\"display:none;\">\n",
              "        \n",
              "  <svg xmlns=\"http://www.w3.org/2000/svg\" height=\"24px\"viewBox=\"0 0 24 24\"\n",
              "       width=\"24px\">\n",
              "    <path d=\"M0 0h24v24H0V0z\" fill=\"none\"/>\n",
              "    <path d=\"M18.56 5.44l.94 2.06.94-2.06 2.06-.94-2.06-.94-.94-2.06-.94 2.06-2.06.94zm-11 1L8.5 8.5l.94-2.06 2.06-.94-2.06-.94L8.5 2.5l-.94 2.06-2.06.94zm10 10l.94 2.06.94-2.06 2.06-.94-2.06-.94-.94-2.06-.94 2.06-2.06.94z\"/><path d=\"M17.41 7.96l-1.37-1.37c-.4-.4-.92-.59-1.43-.59-.52 0-1.04.2-1.43.59L10.3 9.45l-7.72 7.72c-.78.78-.78 2.05 0 2.83L4 21.41c.39.39.9.59 1.41.59.51 0 1.02-.2 1.41-.59l7.78-7.78 2.81-2.81c.8-.78.8-2.07 0-2.86zM5.41 20L4 18.59l7.72-7.72 1.47 1.35L5.41 20z\"/>\n",
              "  </svg>\n",
              "      </button>\n",
              "      \n",
              "  <style>\n",
              "    .colab-df-container {\n",
              "      display:flex;\n",
              "      flex-wrap:wrap;\n",
              "      gap: 12px;\n",
              "    }\n",
              "\n",
              "    .colab-df-convert {\n",
              "      background-color: #E8F0FE;\n",
              "      border: none;\n",
              "      border-radius: 50%;\n",
              "      cursor: pointer;\n",
              "      display: none;\n",
              "      fill: #1967D2;\n",
              "      height: 32px;\n",
              "      padding: 0 0 0 0;\n",
              "      width: 32px;\n",
              "    }\n",
              "\n",
              "    .colab-df-convert:hover {\n",
              "      background-color: #E2EBFA;\n",
              "      box-shadow: 0px 1px 2px rgba(60, 64, 67, 0.3), 0px 1px 3px 1px rgba(60, 64, 67, 0.15);\n",
              "      fill: #174EA6;\n",
              "    }\n",
              "\n",
              "    [theme=dark] .colab-df-convert {\n",
              "      background-color: #3B4455;\n",
              "      fill: #D2E3FC;\n",
              "    }\n",
              "\n",
              "    [theme=dark] .colab-df-convert:hover {\n",
              "      background-color: #434B5C;\n",
              "      box-shadow: 0px 1px 3px 1px rgba(0, 0, 0, 0.15);\n",
              "      filter: drop-shadow(0px 1px 2px rgba(0, 0, 0, 0.3));\n",
              "      fill: #FFFFFF;\n",
              "    }\n",
              "  </style>\n",
              "\n",
              "      <script>\n",
              "        const buttonEl =\n",
              "          document.querySelector('#df-548b0408-5ba3-423a-b6e1-96ed1d0c6d92 button.colab-df-convert');\n",
              "        buttonEl.style.display =\n",
              "          google.colab.kernel.accessAllowed ? 'block' : 'none';\n",
              "\n",
              "        async function convertToInteractive(key) {\n",
              "          const element = document.querySelector('#df-548b0408-5ba3-423a-b6e1-96ed1d0c6d92');\n",
              "          const dataTable =\n",
              "            await google.colab.kernel.invokeFunction('convertToInteractive',\n",
              "                                                     [key], {});\n",
              "          if (!dataTable) return;\n",
              "\n",
              "          const docLinkHtml = 'Like what you see? Visit the ' +\n",
              "            '<a target=\"_blank\" href=https://colab.research.google.com/notebooks/data_table.ipynb>data table notebook</a>'\n",
              "            + ' to learn more about interactive tables.';\n",
              "          element.innerHTML = '';\n",
              "          dataTable['output_type'] = 'display_data';\n",
              "          await google.colab.output.renderOutput(dataTable, element);\n",
              "          const docLink = document.createElement('div');\n",
              "          docLink.innerHTML = docLinkHtml;\n",
              "          element.appendChild(docLink);\n",
              "        }\n",
              "      </script>\n",
              "    </div>\n",
              "  </div>\n",
              "  "
            ]
          },
          "metadata": {},
          "execution_count": 68
        }
      ],
      "source": [
        "df.describe()"
      ]
    },
    {
      "cell_type": "markdown",
      "source": [
        "observamos como la columna C_SEV, que será la variable objetivo de nuestro modelo, tiene una media de 1.98 y una desviación típica muy baja de 0.12, Por otra lado, solamente se encuentra compuesta por dos valores diferentes, el 1 que es para los casos en el que existen al menos un fallecimiento en el accidente y el 2, que es para los casos en los que se produce lesiones no mortales en el accidente"
      ],
      "metadata": {
        "id": "ZOmeC1kZSocI"
      }
    },
    {
      "cell_type": "code",
      "execution_count": null,
      "metadata": {
        "id": "NRMRa9RZHocc",
        "colab": {
          "base_uri": "https://localhost:8080/",
          "height": 645
        },
        "outputId": "01d9440f-8243-4ecd-d4af-5aba6bf21e0d"
      },
      "outputs": [
        {
          "output_type": "execute_result",
          "data": {
            "text/plain": [
              "<pandas.io.formats.style.Styler at 0x7f2d0137fe20>"
            ],
            "text/html": [
              "<style type=\"text/css\">\n",
              "#T_11462_row0_col0, #T_11462_row1_col1, #T_11462_row2_col2, #T_11462_row3_col3, #T_11462_row4_col4, #T_11462_row5_col5, #T_11462_row6_col6, #T_11462_row7_col7, #T_11462_row8_col8, #T_11462_row9_col9, #T_11462_row10_col10, #T_11462_row11_col11, #T_11462_row12_col12, #T_11462_row13_col13, #T_11462_row14_col14, #T_11462_row15_col15, #T_11462_row16_col16, #T_11462_row17_col17, #T_11462_row18_col18 {\n",
              "  background-color: #b40426;\n",
              "  color: #f1f1f1;\n",
              "}\n",
              "#T_11462_row0_col1, #T_11462_row0_col16, #T_11462_row2_col8, #T_11462_row4_col1, #T_11462_row11_col4, #T_11462_row16_col17 {\n",
              "  background-color: #5b7ae5;\n",
              "  color: #f1f1f1;\n",
              "}\n",
              "#T_11462_row0_col2, #T_11462_row4_col2, #T_11462_row4_col17, #T_11462_row12_col2, #T_11462_row15_col10 {\n",
              "  background-color: #4055c8;\n",
              "  color: #f1f1f1;\n",
              "}\n",
              "#T_11462_row0_col3, #T_11462_row1_col2, #T_11462_row11_col3, #T_11462_row11_col10, #T_11462_row12_col17, #T_11462_row13_col3, #T_11462_row15_col7, #T_11462_row17_col5, #T_11462_row17_col7, #T_11462_row17_col12 {\n",
              "  background-color: #4a63d3;\n",
              "  color: #f1f1f1;\n",
              "}\n",
              "#T_11462_row0_col4, #T_11462_row5_col7, #T_11462_row5_col15, #T_11462_row6_col15, #T_11462_row8_col15, #T_11462_row11_col1, #T_11462_row12_col5 {\n",
              "  background-color: #5f7fe8;\n",
              "  color: #f1f1f1;\n",
              "}\n",
              "#T_11462_row0_col5, #T_11462_row2_col7, #T_11462_row10_col16, #T_11462_row12_col8, #T_11462_row13_col2, #T_11462_row15_col4, #T_11462_row18_col3 {\n",
              "  background-color: #5673e0;\n",
              "  color: #f1f1f1;\n",
              "}\n",
              "#T_11462_row0_col6, #T_11462_row0_col9, #T_11462_row5_col9, #T_11462_row5_col14, #T_11462_row11_col13, #T_11462_row12_col9, #T_11462_row15_col6 {\n",
              "  background-color: #7a9df8;\n",
              "  color: #f1f1f1;\n",
              "}\n",
              "#T_11462_row0_col7, #T_11462_row3_col7, #T_11462_row11_col5, #T_11462_row12_col7, #T_11462_row14_col7, #T_11462_row14_col10 {\n",
              "  background-color: #4c66d6;\n",
              "  color: #f1f1f1;\n",
              "}\n",
              "#T_11462_row0_col8, #T_11462_row8_col4, #T_11462_row10_col4, #T_11462_row16_col7 {\n",
              "  background-color: #5a78e4;\n",
              "  color: #f1f1f1;\n",
              "}\n",
              "#T_11462_row0_col10, #T_11462_row0_col11, #T_11462_row1_col5, #T_11462_row5_col16, #T_11462_row6_col10, #T_11462_row12_col3, #T_11462_row12_col11, #T_11462_row15_col14, #T_11462_row17_col2 {\n",
              "  background-color: #485fd1;\n",
              "  color: #f1f1f1;\n",
              "}\n",
              "#T_11462_row0_col12, #T_11462_row12_col0 {\n",
              "  background-color: #f5c1a9;\n",
              "  color: #000000;\n",
              "}\n",
              "#T_11462_row0_col13, #T_11462_row2_col15, #T_11462_row3_col14, #T_11462_row4_col14, #T_11462_row7_col14, #T_11462_row8_col14, #T_11462_row16_col6 {\n",
              "  background-color: #7295f4;\n",
              "  color: #f1f1f1;\n",
              "}\n",
              "#T_11462_row0_col14, #T_11462_row5_col6, #T_11462_row15_col9 {\n",
              "  background-color: #86a9fc;\n",
              "  color: #f1f1f1;\n",
              "}\n",
              "#T_11462_row0_col15, #T_11462_row1_col15, #T_11462_row7_col16, #T_11462_row8_col6, #T_11462_row9_col14 {\n",
              "  background-color: #6a8bef;\n",
              "  color: #f1f1f1;\n",
              "}\n",
              "#T_11462_row0_col17, #T_11462_row1_col3, #T_11462_row2_col5, #T_11462_row3_col8, #T_11462_row5_col12, #T_11462_row6_col3, #T_11462_row6_col16, #T_11462_row7_col1, #T_11462_row7_col2, #T_11462_row9_col4, #T_11462_row11_col8, #T_11462_row13_col4, #T_11462_row13_col16, #T_11462_row17_col0 {\n",
              "  background-color: #4f69d9;\n",
              "  color: #f1f1f1;\n",
              "}\n",
              "#T_11462_row0_col18, #T_11462_row2_col14 {\n",
              "  background-color: #6788ee;\n",
              "  color: #f1f1f1;\n",
              "}\n",
              "#T_11462_row1_col0, #T_11462_row2_col3, #T_11462_row2_col17, #T_11462_row3_col0, #T_11462_row3_col2, #T_11462_row6_col11, #T_11462_row11_col0, #T_11462_row13_col10, #T_11462_row18_col10 {\n",
              "  background-color: #4358cb;\n",
              "  color: #f1f1f1;\n",
              "}\n",
              "#T_11462_row1_col4 {\n",
              "  background-color: #6180e9;\n",
              "  color: #f1f1f1;\n",
              "}\n",
              "#T_11462_row1_col6, #T_11462_row1_col9, #T_11462_row11_col6 {\n",
              "  background-color: #80a3fa;\n",
              "  color: #f1f1f1;\n",
              "}\n",
              "#T_11462_row1_col7, #T_11462_row4_col12, #T_11462_row5_col0, #T_11462_row7_col3, #T_11462_row10_col0, #T_11462_row11_col7, #T_11462_row14_col3, #T_11462_row15_col0, #T_11462_row18_col14 {\n",
              "  background-color: #455cce;\n",
              "  color: #f1f1f1;\n",
              "}\n",
              "#T_11462_row1_col8, #T_11462_row2_col0, #T_11462_row2_col12, #T_11462_row4_col16, #T_11462_row5_col17, #T_11462_row6_col0, #T_11462_row6_col7, #T_11462_row6_col9, #T_11462_row8_col1, #T_11462_row8_col11, #T_11462_row9_col0, #T_11462_row9_col3, #T_11462_row9_col6, #T_11462_row9_col10, #T_11462_row9_col12, #T_11462_row13_col14, #T_11462_row14_col2, #T_11462_row14_col13, #T_11462_row14_col15, #T_11462_row14_col18, #T_11462_row16_col3, #T_11462_row16_col4, #T_11462_row16_col5, #T_11462_row16_col10, #T_11462_row16_col12 {\n",
              "  background-color: #3b4cc0;\n",
              "  color: #f1f1f1;\n",
              "}\n",
              "#T_11462_row1_col10, #T_11462_row2_col11, #T_11462_row4_col10, #T_11462_row7_col0, #T_11462_row8_col12, #T_11462_row10_col17, #T_11462_row13_col0, #T_11462_row13_col12 {\n",
              "  background-color: #3e51c5;\n",
              "  color: #f1f1f1;\n",
              "}\n",
              "#T_11462_row1_col11, #T_11462_row7_col10, #T_11462_row9_col5, #T_11462_row10_col11, #T_11462_row13_col11, #T_11462_row15_col3, #T_11462_row15_col5, #T_11462_row16_col2, #T_11462_row17_col3 {\n",
              "  background-color: #4b64d5;\n",
              "  color: #f1f1f1;\n",
              "}\n",
              "#T_11462_row1_col12, #T_11462_row4_col3, #T_11462_row5_col3, #T_11462_row10_col3 {\n",
              "  background-color: #4e68d8;\n",
              "  color: #f1f1f1;\n",
              "}\n",
              "#T_11462_row1_col13, #T_11462_row1_col18, #T_11462_row5_col13 {\n",
              "  background-color: #7396f5;\n",
              "  color: #f1f1f1;\n",
              "}\n",
              "#T_11462_row1_col14, #T_11462_row2_col6, #T_11462_row3_col13, #T_11462_row7_col13 {\n",
              "  background-color: #7699f6;\n",
              "  color: #f1f1f1;\n",
              "}\n",
              "#T_11462_row1_col16, #T_11462_row4_col15, #T_11462_row5_col18, #T_11462_row15_col1, #T_11462_row17_col4 {\n",
              "  background-color: #5e7de7;\n",
              "  color: #f1f1f1;\n",
              "}\n",
              "#T_11462_row1_col17, #T_11462_row4_col7, #T_11462_row5_col2, #T_11462_row6_col17, #T_11462_row9_col17, #T_11462_row10_col2, #T_11462_row11_col12, #T_11462_row18_col8 {\n",
              "  background-color: #445acc;\n",
              "  color: #f1f1f1;\n",
              "}\n",
              "#T_11462_row2_col1, #T_11462_row13_col8, #T_11462_row14_col1, #T_11462_row14_col4, #T_11462_row17_col1, #T_11462_row18_col4 {\n",
              "  background-color: #5d7ce6;\n",
              "  color: #f1f1f1;\n",
              "}\n",
              "#T_11462_row2_col4, #T_11462_row5_col8, #T_11462_row6_col1, #T_11462_row7_col18, #T_11462_row9_col1, #T_11462_row13_col1, #T_11462_row16_col1 {\n",
              "  background-color: #5977e3;\n",
              "  color: #f1f1f1;\n",
              "}\n",
              "#T_11462_row2_col9, #T_11462_row4_col6 {\n",
              "  background-color: #8badfd;\n",
              "  color: #000000;\n",
              "}\n",
              "#T_11462_row2_col10, #T_11462_row5_col11, #T_11462_row7_col12, #T_11462_row8_col17, #T_11462_row11_col2, #T_11462_row17_col10, #T_11462_row18_col0, #T_11462_row18_col7 {\n",
              "  background-color: #3f53c6;\n",
              "  color: #f1f1f1;\n",
              "}\n",
              "#T_11462_row2_col13, #T_11462_row16_col14, #T_11462_row17_col9, #T_11462_row18_col16 {\n",
              "  background-color: #82a6fb;\n",
              "  color: #f1f1f1;\n",
              "}\n",
              "#T_11462_row2_col16, #T_11462_row12_col4 {\n",
              "  background-color: #6384eb;\n",
              "  color: #f1f1f1;\n",
              "}\n",
              "#T_11462_row2_col18, #T_11462_row3_col18, #T_11462_row8_col13, #T_11462_row9_col13, #T_11462_row14_col9, #T_11462_row17_col16 {\n",
              "  background-color: #779af7;\n",
              "  color: #f1f1f1;\n",
              "}\n",
              "#T_11462_row3_col1, #T_11462_row7_col5, #T_11462_row7_col15, #T_11462_row15_col16 {\n",
              "  background-color: #6282ea;\n",
              "  color: #f1f1f1;\n",
              "}\n",
              "#T_11462_row3_col4, #T_11462_row4_col13, #T_11462_row10_col15, #T_11462_row16_col11, #T_11462_row16_col13, #T_11462_row18_col1 {\n",
              "  background-color: #6485ec;\n",
              "  color: #f1f1f1;\n",
              "}\n",
              "#T_11462_row3_col5, #T_11462_row6_col5, #T_11462_row10_col7, #T_11462_row10_col8, #T_11462_row12_col16, #T_11462_row14_col5, #T_11462_row14_col8, #T_11462_row17_col8 {\n",
              "  background-color: #5875e1;\n",
              "  color: #f1f1f1;\n",
              "}\n",
              "#T_11462_row3_col6, #T_11462_row14_col6 {\n",
              "  background-color: #89acfd;\n",
              "  color: #000000;\n",
              "}\n",
              "#T_11462_row3_col9, #T_11462_row10_col13, #T_11462_row11_col14 {\n",
              "  background-color: #7597f6;\n",
              "  color: #f1f1f1;\n",
              "}\n",
              "#T_11462_row3_col10, #T_11462_row3_col11, #T_11462_row8_col2 {\n",
              "  background-color: #4961d2;\n",
              "  color: #f1f1f1;\n",
              "}\n",
              "#T_11462_row3_col12, #T_11462_row4_col0, #T_11462_row4_col11, #T_11462_row6_col8, #T_11462_row8_col0, #T_11462_row8_col10, #T_11462_row18_col12 {\n",
              "  background-color: #4257c9;\n",
              "  color: #f1f1f1;\n",
              "}\n",
              "#T_11462_row3_col15, #T_11462_row12_col15, #T_11462_row16_col8 {\n",
              "  background-color: #6b8df0;\n",
              "  color: #f1f1f1;\n",
              "}\n",
              "#T_11462_row3_col16, #T_11462_row5_col4, #T_11462_row9_col2, #T_11462_row9_col11, #T_11462_row12_col10, #T_11462_row15_col2, #T_11462_row15_col8 {\n",
              "  background-color: #536edd;\n",
              "  color: #f1f1f1;\n",
              "}\n",
              "#T_11462_row3_col17, #T_11462_row4_col5, #T_11462_row14_col11, #T_11462_row15_col12, #T_11462_row18_col5 {\n",
              "  background-color: #465ecf;\n",
              "  color: #f1f1f1;\n",
              "}\n",
              "#T_11462_row4_col8, #T_11462_row10_col1, #T_11462_row14_col12, #T_11462_row18_col2 {\n",
              "  background-color: #5572df;\n",
              "  color: #f1f1f1;\n",
              "}\n",
              "#T_11462_row4_col9, #T_11462_row8_col16, #T_11462_row9_col18, #T_11462_row12_col13 {\n",
              "  background-color: #7093f3;\n",
              "  color: #f1f1f1;\n",
              "}\n",
              "#T_11462_row4_col18, #T_11462_row6_col18, #T_11462_row12_col1 {\n",
              "  background-color: #6687ed;\n",
              "  color: #f1f1f1;\n",
              "}\n",
              "#T_11462_row5_col1, #T_11462_row10_col12 {\n",
              "  background-color: #506bda;\n",
              "  color: #f1f1f1;\n",
              "}\n",
              "#T_11462_row5_col10 {\n",
              "  background-color: #f7a98b;\n",
              "  color: #000000;\n",
              "}\n",
              "#T_11462_row6_col2, #T_11462_row7_col11, #T_11462_row14_col17 {\n",
              "  background-color: #3c4ec2;\n",
              "  color: #f1f1f1;\n",
              "}\n",
              "#T_11462_row6_col4, #T_11462_row9_col7, #T_11462_row10_col18, #T_11462_row12_col18, #T_11462_row16_col15 {\n",
              "  background-color: #688aef;\n",
              "  color: #f1f1f1;\n",
              "}\n",
              "#T_11462_row6_col12, #T_11462_row7_col17, #T_11462_row8_col3, #T_11462_row16_col0 {\n",
              "  background-color: #3d50c3;\n",
              "  color: #f1f1f1;\n",
              "}\n",
              "#T_11462_row6_col13, #T_11462_row14_col16, #T_11462_row17_col14 {\n",
              "  background-color: #6e90f2;\n",
              "  color: #f1f1f1;\n",
              "}\n",
              "#T_11462_row6_col14, #T_11462_row10_col14, #T_11462_row11_col16, #T_11462_row12_col6 {\n",
              "  background-color: #7da0f9;\n",
              "  color: #f1f1f1;\n",
              "}\n",
              "#T_11462_row7_col4, #T_11462_row8_col18, #T_11462_row14_col0 {\n",
              "  background-color: #5470de;\n",
              "  color: #f1f1f1;\n",
              "}\n",
              "#T_11462_row7_col6, #T_11462_row9_col15 {\n",
              "  background-color: #6c8ff1;\n",
              "  color: #f1f1f1;\n",
              "}\n",
              "#T_11462_row7_col8 {\n",
              "  background-color: #e5d8d1;\n",
              "  color: #000000;\n",
              "}\n",
              "#T_11462_row7_col9 {\n",
              "  background-color: #98b9ff;\n",
              "  color: #000000;\n",
              "}\n",
              "#T_11462_row8_col5, #T_11462_row13_col5, #T_11462_row13_col7 {\n",
              "  background-color: #516ddb;\n",
              "  color: #f1f1f1;\n",
              "}\n",
              "#T_11462_row8_col7 {\n",
              "  background-color: #e1dad6;\n",
              "  color: #000000;\n",
              "}\n",
              "#T_11462_row8_col9 {\n",
              "  background-color: #a2c1ff;\n",
              "  color: #000000;\n",
              "}\n",
              "#T_11462_row9_col8, #T_11462_row18_col6 {\n",
              "  background-color: #7ea1fa;\n",
              "  color: #f1f1f1;\n",
              "}\n",
              "#T_11462_row9_col16, #T_11462_row13_col6 {\n",
              "  background-color: #7b9ff9;\n",
              "  color: #f1f1f1;\n",
              "}\n",
              "#T_11462_row10_col5 {\n",
              "  background-color: #f6a385;\n",
              "  color: #000000;\n",
              "}\n",
              "#T_11462_row10_col6 {\n",
              "  background-color: #85a8fc;\n",
              "  color: #f1f1f1;\n",
              "}\n",
              "#T_11462_row10_col9 {\n",
              "  background-color: #799cf8;\n",
              "  color: #f1f1f1;\n",
              "}\n",
              "#T_11462_row11_col9 {\n",
              "  background-color: #8db0fe;\n",
              "  color: #000000;\n",
              "}\n",
              "#T_11462_row11_col15 {\n",
              "  background-color: #9fbfff;\n",
              "  color: #000000;\n",
              "}\n",
              "#T_11462_row11_col17 {\n",
              "  background-color: #b9d0f9;\n",
              "  color: #000000;\n",
              "}\n",
              "#T_11462_row11_col18 {\n",
              "  background-color: #f7b093;\n",
              "  color: #000000;\n",
              "}\n",
              "#T_11462_row12_col14, #T_11462_row18_col9 {\n",
              "  background-color: #88abfd;\n",
              "  color: #000000;\n",
              "}\n",
              "#T_11462_row13_col9, #T_11462_row15_col17, #T_11462_row17_col6 {\n",
              "  background-color: #84a7fc;\n",
              "  color: #f1f1f1;\n",
              "}\n",
              "#T_11462_row13_col15 {\n",
              "  background-color: #dedcdb;\n",
              "  color: #000000;\n",
              "}\n",
              "#T_11462_row13_col17, #T_11462_row15_col11 {\n",
              "  background-color: #81a4fb;\n",
              "  color: #f1f1f1;\n",
              "}\n",
              "#T_11462_row13_col18 {\n",
              "  background-color: #bad0f8;\n",
              "  color: #000000;\n",
              "}\n",
              "#T_11462_row15_col13 {\n",
              "  background-color: #e3d9d3;\n",
              "  color: #000000;\n",
              "}\n",
              "#T_11462_row15_col18 {\n",
              "  background-color: #c0d4f5;\n",
              "  color: #000000;\n",
              "}\n",
              "#T_11462_row16_col9 {\n",
              "  background-color: #9bbcff;\n",
              "  color: #000000;\n",
              "}\n",
              "#T_11462_row16_col18 {\n",
              "  background-color: #8caffe;\n",
              "  color: #000000;\n",
              "}\n",
              "#T_11462_row17_col11 {\n",
              "  background-color: #bbd1f8;\n",
              "  color: #000000;\n",
              "}\n",
              "#T_11462_row17_col13 {\n",
              "  background-color: #adc9fd;\n",
              "  color: #000000;\n",
              "}\n",
              "#T_11462_row17_col15 {\n",
              "  background-color: #a3c2fe;\n",
              "  color: #000000;\n",
              "}\n",
              "#T_11462_row17_col18 {\n",
              "  background-color: #cdd9ec;\n",
              "  color: #000000;\n",
              "}\n",
              "#T_11462_row18_col11 {\n",
              "  background-color: #f6bda2;\n",
              "  color: #000000;\n",
              "}\n",
              "#T_11462_row18_col13 {\n",
              "  background-color: #c1d4f4;\n",
              "  color: #000000;\n",
              "}\n",
              "#T_11462_row18_col15 {\n",
              "  background-color: #bfd3f6;\n",
              "  color: #000000;\n",
              "}\n",
              "#T_11462_row18_col17 {\n",
              "  background-color: #b3cdfb;\n",
              "  color: #000000;\n",
              "}\n",
              "</style>\n",
              "<table id=\"T_11462\" class=\"dataframe\">\n",
              "  <thead>\n",
              "    <tr>\n",
              "      <th class=\"blank level0\" >&nbsp;</th>\n",
              "      <th id=\"T_11462_level0_col0\" class=\"col_heading level0 col0\" >C_YEAR</th>\n",
              "      <th id=\"T_11462_level0_col1\" class=\"col_heading level0 col1\" >C_MNTH</th>\n",
              "      <th id=\"T_11462_level0_col2\" class=\"col_heading level0 col2\" >C_WDAY</th>\n",
              "      <th id=\"T_11462_level0_col3\" class=\"col_heading level0 col3\" >C_HOUR</th>\n",
              "      <th id=\"T_11462_level0_col4\" class=\"col_heading level0 col4\" >C_SEV</th>\n",
              "      <th id=\"T_11462_level0_col5\" class=\"col_heading level0 col5\" >C_VEHS</th>\n",
              "      <th id=\"T_11462_level0_col6\" class=\"col_heading level0 col6\" >C_RCFG</th>\n",
              "      <th id=\"T_11462_level0_col7\" class=\"col_heading level0 col7\" >C_WTHR</th>\n",
              "      <th id=\"T_11462_level0_col8\" class=\"col_heading level0 col8\" >C_RSUR</th>\n",
              "      <th id=\"T_11462_level0_col9\" class=\"col_heading level0 col9\" >C_TRAF</th>\n",
              "      <th id=\"T_11462_level0_col10\" class=\"col_heading level0 col10\" >V_ID</th>\n",
              "      <th id=\"T_11462_level0_col11\" class=\"col_heading level0 col11\" >V_TYPE</th>\n",
              "      <th id=\"T_11462_level0_col12\" class=\"col_heading level0 col12\" >V_YEAR</th>\n",
              "      <th id=\"T_11462_level0_col13\" class=\"col_heading level0 col13\" >P_ID</th>\n",
              "      <th id=\"T_11462_level0_col14\" class=\"col_heading level0 col14\" >P_AGE</th>\n",
              "      <th id=\"T_11462_level0_col15\" class=\"col_heading level0 col15\" >P_PSN</th>\n",
              "      <th id=\"T_11462_level0_col16\" class=\"col_heading level0 col16\" >P_ISEV</th>\n",
              "      <th id=\"T_11462_level0_col17\" class=\"col_heading level0 col17\" >P_SAFE</th>\n",
              "      <th id=\"T_11462_level0_col18\" class=\"col_heading level0 col18\" >P_USER</th>\n",
              "    </tr>\n",
              "  </thead>\n",
              "  <tbody>\n",
              "    <tr>\n",
              "      <th id=\"T_11462_level0_row0\" class=\"row_heading level0 row0\" >C_YEAR</th>\n",
              "      <td id=\"T_11462_row0_col0\" class=\"data row0 col0\" >1.000000</td>\n",
              "      <td id=\"T_11462_row0_col1\" class=\"data row0 col1\" >0.006928</td>\n",
              "      <td id=\"T_11462_row0_col2\" class=\"data row0 col2\" >-0.023732</td>\n",
              "      <td id=\"T_11462_row0_col3\" class=\"data row0 col3\" >0.007521</td>\n",
              "      <td id=\"T_11462_row0_col4\" class=\"data row0 col4\" >0.003049</td>\n",
              "      <td id=\"T_11462_row0_col5\" class=\"data row0 col5\" >0.013756</td>\n",
              "      <td id=\"T_11462_row0_col6\" class=\"data row0 col6\" >-0.023109</td>\n",
              "      <td id=\"T_11462_row0_col7\" class=\"data row0 col7\" >-0.009538</td>\n",
              "      <td id=\"T_11462_row0_col8\" class=\"data row0 col8\" >0.001572</td>\n",
              "      <td id=\"T_11462_row0_col9\" class=\"data row0 col9\" >-0.024103</td>\n",
              "      <td id=\"T_11462_row0_col10\" class=\"data row0 col10\" >0.014171</td>\n",
              "      <td id=\"T_11462_row0_col11\" class=\"data row0 col11\" >0.007231</td>\n",
              "      <td id=\"T_11462_row0_col12\" class=\"data row0 col12\" >0.625724</td>\n",
              "      <td id=\"T_11462_row0_col13\" class=\"data row0 col13\" >-0.008121</td>\n",
              "      <td id=\"T_11462_row0_col14\" class=\"data row0 col14\" >0.063391</td>\n",
              "      <td id=\"T_11462_row0_col15\" class=\"data row0 col15\" >0.012650</td>\n",
              "      <td id=\"T_11462_row0_col16\" class=\"data row0 col16\" >-0.013501</td>\n",
              "      <td id=\"T_11462_row0_col17\" class=\"data row0 col17\" >0.044124</td>\n",
              "      <td id=\"T_11462_row0_col18\" class=\"data row0 col18\" >-0.004742</td>\n",
              "    </tr>\n",
              "    <tr>\n",
              "      <th id=\"T_11462_level0_row1\" class=\"row_heading level0 row1\" >C_MNTH</th>\n",
              "      <td id=\"T_11462_row1_col0\" class=\"data row1 col0\" >0.006928</td>\n",
              "      <td id=\"T_11462_row1_col1\" class=\"data row1 col1\" >1.000000</td>\n",
              "      <td id=\"T_11462_row1_col2\" class=\"data row1 col2\" >0.011349</td>\n",
              "      <td id=\"T_11462_row1_col3\" class=\"data row1 col3\" >0.026842</td>\n",
              "      <td id=\"T_11462_row1_col4\" class=\"data row1 col4\" >0.005127</td>\n",
              "      <td id=\"T_11462_row1_col5\" class=\"data row1 col5\" >-0.035404</td>\n",
              "      <td id=\"T_11462_row1_col6\" class=\"data row1 col6\" >-0.003566</td>\n",
              "      <td id=\"T_11462_row1_col7\" class=\"data row1 col7\" >-0.036924</td>\n",
              "      <td id=\"T_11462_row1_col8\" class=\"data row1 col8\" >-0.114493</td>\n",
              "      <td id=\"T_11462_row1_col9\" class=\"data row1 col9\" >-0.005556</td>\n",
              "      <td id=\"T_11462_row1_col10\" class=\"data row1 col10\" >-0.017988</td>\n",
              "      <td id=\"T_11462_row1_col11\" class=\"data row1 col11\" >0.018430</td>\n",
              "      <td id=\"T_11462_row1_col12\" class=\"data row1 col12\" >0.041073</td>\n",
              "      <td id=\"T_11462_row1_col13\" class=\"data row1 col13\" >-0.003549</td>\n",
              "      <td id=\"T_11462_row1_col14\" class=\"data row1 col14\" >0.008258</td>\n",
              "      <td id=\"T_11462_row1_col15\" class=\"data row1 col15\" >0.012105</td>\n",
              "      <td id=\"T_11462_row1_col16\" class=\"data row1 col16\" >-0.004845</td>\n",
              "      <td id=\"T_11462_row1_col17\" class=\"data row1 col17\" >0.007961</td>\n",
              "      <td id=\"T_11462_row1_col18\" class=\"data row1 col18\" >0.036083</td>\n",
              "    </tr>\n",
              "    <tr>\n",
              "      <th id=\"T_11462_level0_row2\" class=\"row_heading level0 row2\" >C_WDAY</th>\n",
              "      <td id=\"T_11462_row2_col0\" class=\"data row2 col0\" >-0.023732</td>\n",
              "      <td id=\"T_11462_row2_col1\" class=\"data row2 col1\" >0.011349</td>\n",
              "      <td id=\"T_11462_row2_col2\" class=\"data row2 col2\" >1.000000</td>\n",
              "      <td id=\"T_11462_row2_col3\" class=\"data row2 col3\" >-0.016551</td>\n",
              "      <td id=\"T_11462_row2_col4\" class=\"data row2 col4\" >-0.022380</td>\n",
              "      <td id=\"T_11462_row2_col5\" class=\"data row2 col5\" >-0.010166</td>\n",
              "      <td id=\"T_11462_row2_col6\" class=\"data row2 col6\" >-0.038527</td>\n",
              "      <td id=\"T_11462_row2_col7\" class=\"data row2 col7\" >0.025225</td>\n",
              "      <td id=\"T_11462_row2_col8\" class=\"data row2 col8\" >0.004574</td>\n",
              "      <td id=\"T_11462_row2_col9\" class=\"data row2 col9\" >0.036553</td>\n",
              "      <td id=\"T_11462_row2_col10\" class=\"data row2 col10\" >-0.012156</td>\n",
              "      <td id=\"T_11462_row2_col11\" class=\"data row2 col11\" >-0.025290</td>\n",
              "      <td id=\"T_11462_row2_col12\" class=\"data row2 col12\" >-0.024451</td>\n",
              "      <td id=\"T_11462_row2_col13\" class=\"data row2 col13\" >0.051635</td>\n",
              "      <td id=\"T_11462_row2_col14\" class=\"data row2 col14\" >-0.045333</td>\n",
              "      <td id=\"T_11462_row2_col15\" class=\"data row2 col15\" >0.036690</td>\n",
              "      <td id=\"T_11462_row2_col16\" class=\"data row2 col16\" >0.012209</td>\n",
              "      <td id=\"T_11462_row2_col17\" class=\"data row2 col17\" >0.002020</td>\n",
              "      <td id=\"T_11462_row2_col18\" class=\"data row2 col18\" >0.048060</td>\n",
              "    </tr>\n",
              "    <tr>\n",
              "      <th id=\"T_11462_level0_row3\" class=\"row_heading level0 row3\" >C_HOUR</th>\n",
              "      <td id=\"T_11462_row3_col0\" class=\"data row3 col0\" >0.007521</td>\n",
              "      <td id=\"T_11462_row3_col1\" class=\"data row3 col1\" >0.026842</td>\n",
              "      <td id=\"T_11462_row3_col2\" class=\"data row3 col2\" >-0.016551</td>\n",
              "      <td id=\"T_11462_row3_col3\" class=\"data row3 col3\" >1.000000</td>\n",
              "      <td id=\"T_11462_row3_col4\" class=\"data row3 col4\" >0.019641</td>\n",
              "      <td id=\"T_11462_row3_col5\" class=\"data row3 col5\" >0.019634</td>\n",
              "      <td id=\"T_11462_row3_col6\" class=\"data row3 col6\" >0.027416</td>\n",
              "      <td id=\"T_11462_row3_col7\" class=\"data row3 col7\" >-0.008367</td>\n",
              "      <td id=\"T_11462_row3_col8\" class=\"data row3 col8\" >-0.036863</td>\n",
              "      <td id=\"T_11462_row3_col9\" class=\"data row3 col9\" >-0.045855</td>\n",
              "      <td id=\"T_11462_row3_col10\" class=\"data row3 col10\" >0.020295</td>\n",
              "      <td id=\"T_11462_row3_col11\" class=\"data row3 col11\" >0.010778</td>\n",
              "      <td id=\"T_11462_row3_col12\" class=\"data row3 col12\" >-0.000306</td>\n",
              "      <td id=\"T_11462_row3_col13\" class=\"data row3 col13\" >0.008864</td>\n",
              "      <td id=\"T_11462_row3_col14\" class=\"data row3 col14\" >-0.008671</td>\n",
              "      <td id=\"T_11462_row3_col15\" class=\"data row3 col15\" >0.013207</td>\n",
              "      <td id=\"T_11462_row3_col16\" class=\"data row3 col16\" >-0.045069</td>\n",
              "      <td id=\"T_11462_row3_col17\" class=\"data row3 col17\" >0.013121</td>\n",
              "      <td id=\"T_11462_row3_col18\" class=\"data row3 col18\" >0.050013</td>\n",
              "    </tr>\n",
              "    <tr>\n",
              "      <th id=\"T_11462_level0_row4\" class=\"row_heading level0 row4\" >C_SEV</th>\n",
              "      <td id=\"T_11462_row4_col0\" class=\"data row4 col0\" >0.003049</td>\n",
              "      <td id=\"T_11462_row4_col1\" class=\"data row4 col1\" >0.005127</td>\n",
              "      <td id=\"T_11462_row4_col2\" class=\"data row4 col2\" >-0.022380</td>\n",
              "      <td id=\"T_11462_row4_col3\" class=\"data row4 col3\" >0.019641</td>\n",
              "      <td id=\"T_11462_row4_col4\" class=\"data row4 col4\" >1.000000</td>\n",
              "      <td id=\"T_11462_row4_col5\" class=\"data row4 col5\" >-0.041727</td>\n",
              "      <td id=\"T_11462_row4_col6\" class=\"data row4 col6\" >0.033099</td>\n",
              "      <td id=\"T_11462_row4_col7\" class=\"data row4 col7\" >-0.037781</td>\n",
              "      <td id=\"T_11462_row4_col8\" class=\"data row4 col8\" >-0.015712</td>\n",
              "      <td id=\"T_11462_row4_col9\" class=\"data row4 col9\" >-0.058162</td>\n",
              "      <td id=\"T_11462_row4_col10\" class=\"data row4 col10\" >-0.018294</td>\n",
              "      <td id=\"T_11462_row4_col11\" class=\"data row4 col11\" >-0.011930</td>\n",
              "      <td id=\"T_11462_row4_col12\" class=\"data row4 col12\" >0.013665</td>\n",
              "      <td id=\"T_11462_row4_col13\" class=\"data row4 col13\" >-0.054459</td>\n",
              "      <td id=\"T_11462_row4_col14\" class=\"data row4 col14\" >-0.010000</td>\n",
              "      <td id=\"T_11462_row4_col15\" class=\"data row4 col15\" >-0.028113</td>\n",
              "      <td id=\"T_11462_row4_col16\" class=\"data row4 col16\" >-0.134142</td>\n",
              "      <td id=\"T_11462_row4_col17\" class=\"data row4 col17\" >-0.004057</td>\n",
              "      <td id=\"T_11462_row4_col18\" class=\"data row4 col18\" >-0.008767</td>\n",
              "    </tr>\n",
              "    <tr>\n",
              "      <th id=\"T_11462_level0_row5\" class=\"row_heading level0 row5\" >C_VEHS</th>\n",
              "      <td id=\"T_11462_row5_col0\" class=\"data row5 col0\" >0.013756</td>\n",
              "      <td id=\"T_11462_row5_col1\" class=\"data row5 col1\" >-0.035404</td>\n",
              "      <td id=\"T_11462_row5_col2\" class=\"data row5 col2\" >-0.010166</td>\n",
              "      <td id=\"T_11462_row5_col3\" class=\"data row5 col3\" >0.019634</td>\n",
              "      <td id=\"T_11462_row5_col4\" class=\"data row5 col4\" >-0.041727</td>\n",
              "      <td id=\"T_11462_row5_col5\" class=\"data row5 col5\" >1.000000</td>\n",
              "      <td id=\"T_11462_row5_col6\" class=\"data row5 col6\" >0.017063</td>\n",
              "      <td id=\"T_11462_row5_col7\" class=\"data row5 col7\" >0.053388</td>\n",
              "      <td id=\"T_11462_row5_col8\" class=\"data row5 col8\" >-0.004240</td>\n",
              "      <td id=\"T_11462_row5_col9\" class=\"data row5 col9\" >-0.023162</td>\n",
              "      <td id=\"T_11462_row5_col10\" class=\"data row5 col10\" >0.701014</td>\n",
              "      <td id=\"T_11462_row5_col11\" class=\"data row5 col11\" >-0.019623</td>\n",
              "      <td id=\"T_11462_row5_col12\" class=\"data row5 col12\" >0.043892</td>\n",
              "      <td id=\"T_11462_row5_col13\" class=\"data row5 col13\" >-0.001774</td>\n",
              "      <td id=\"T_11462_row5_col14\" class=\"data row5 col14\" >0.019836</td>\n",
              "      <td id=\"T_11462_row5_col15\" class=\"data row5 col15\" >-0.023406</td>\n",
              "      <td id=\"T_11462_row5_col16\" class=\"data row5 col16\" >-0.084958</td>\n",
              "      <td id=\"T_11462_row5_col17\" class=\"data row5 col17\" >-0.027338</td>\n",
              "      <td id=\"T_11462_row5_col18\" class=\"data row5 col18\" >-0.039135</td>\n",
              "    </tr>\n",
              "    <tr>\n",
              "      <th id=\"T_11462_level0_row6\" class=\"row_heading level0 row6\" >C_RCFG</th>\n",
              "      <td id=\"T_11462_row6_col0\" class=\"data row6 col0\" >-0.023109</td>\n",
              "      <td id=\"T_11462_row6_col1\" class=\"data row6 col1\" >-0.003566</td>\n",
              "      <td id=\"T_11462_row6_col2\" class=\"data row6 col2\" >-0.038527</td>\n",
              "      <td id=\"T_11462_row6_col3\" class=\"data row6 col3\" >0.027416</td>\n",
              "      <td id=\"T_11462_row6_col4\" class=\"data row6 col4\" >0.033099</td>\n",
              "      <td id=\"T_11462_row6_col5\" class=\"data row6 col5\" >0.017063</td>\n",
              "      <td id=\"T_11462_row6_col6\" class=\"data row6 col6\" >1.000000</td>\n",
              "      <td id=\"T_11462_row6_col7\" class=\"data row6 col7\" >-0.074941</td>\n",
              "      <td id=\"T_11462_row6_col8\" class=\"data row6 col8\" >-0.086425</td>\n",
              "      <td id=\"T_11462_row6_col9\" class=\"data row6 col9\" >-0.277340</td>\n",
              "      <td id=\"T_11462_row6_col10\" class=\"data row6 col10\" >0.014165</td>\n",
              "      <td id=\"T_11462_row6_col11\" class=\"data row6 col11\" >-0.007474</td>\n",
              "      <td id=\"T_11462_row6_col12\" class=\"data row6 col12\" >-0.016881</td>\n",
              "      <td id=\"T_11462_row6_col13\" class=\"data row6 col13\" >-0.019655</td>\n",
              "      <td id=\"T_11462_row6_col14\" class=\"data row6 col14\" >0.028856</td>\n",
              "      <td id=\"T_11462_row6_col15\" class=\"data row6 col15\" >-0.024175</td>\n",
              "      <td id=\"T_11462_row6_col16\" class=\"data row6 col16\" >-0.057746</td>\n",
              "      <td id=\"T_11462_row6_col17\" class=\"data row6 col17\" >0.008563</td>\n",
              "      <td id=\"T_11462_row6_col18\" class=\"data row6 col18\" >-0.007953</td>\n",
              "    </tr>\n",
              "    <tr>\n",
              "      <th id=\"T_11462_level0_row7\" class=\"row_heading level0 row7\" >C_WTHR</th>\n",
              "      <td id=\"T_11462_row7_col0\" class=\"data row7 col0\" >-0.009538</td>\n",
              "      <td id=\"T_11462_row7_col1\" class=\"data row7 col1\" >-0.036924</td>\n",
              "      <td id=\"T_11462_row7_col2\" class=\"data row7 col2\" >0.025225</td>\n",
              "      <td id=\"T_11462_row7_col3\" class=\"data row7 col3\" >-0.008367</td>\n",
              "      <td id=\"T_11462_row7_col4\" class=\"data row7 col4\" >-0.037781</td>\n",
              "      <td id=\"T_11462_row7_col5\" class=\"data row7 col5\" >0.053388</td>\n",
              "      <td id=\"T_11462_row7_col6\" class=\"data row7 col6\" >-0.074941</td>\n",
              "      <td id=\"T_11462_row7_col7\" class=\"data row7 col7\" >1.000000</td>\n",
              "      <td id=\"T_11462_row7_col8\" class=\"data row7 col8\" >0.479831</td>\n",
              "      <td id=\"T_11462_row7_col9\" class=\"data row7 col9\" >0.082405</td>\n",
              "      <td id=\"T_11462_row7_col10\" class=\"data row7 col10\" >0.028403</td>\n",
              "      <td id=\"T_11462_row7_col11\" class=\"data row7 col11\" >-0.033916</td>\n",
              "      <td id=\"T_11462_row7_col12\" class=\"data row7 col12\" >-0.008051</td>\n",
              "      <td id=\"T_11462_row7_col13\" class=\"data row7 col13\" >0.006164</td>\n",
              "      <td id=\"T_11462_row7_col14\" class=\"data row7 col14\" >-0.008916</td>\n",
              "      <td id=\"T_11462_row7_col15\" class=\"data row7 col15\" >-0.017451</td>\n",
              "      <td id=\"T_11462_row7_col16\" class=\"data row7 col16\" >0.034800</td>\n",
              "      <td id=\"T_11462_row7_col17\" class=\"data row7 col17\" >-0.018488</td>\n",
              "      <td id=\"T_11462_row7_col18\" class=\"data row7 col18\" >-0.057241</td>\n",
              "    </tr>\n",
              "    <tr>\n",
              "      <th id=\"T_11462_level0_row8\" class=\"row_heading level0 row8\" >C_RSUR</th>\n",
              "      <td id=\"T_11462_row8_col0\" class=\"data row8 col0\" >0.001572</td>\n",
              "      <td id=\"T_11462_row8_col1\" class=\"data row8 col1\" >-0.114493</td>\n",
              "      <td id=\"T_11462_row8_col2\" class=\"data row8 col2\" >0.004574</td>\n",
              "      <td id=\"T_11462_row8_col3\" class=\"data row8 col3\" >-0.036863</td>\n",
              "      <td id=\"T_11462_row8_col4\" class=\"data row8 col4\" >-0.015712</td>\n",
              "      <td id=\"T_11462_row8_col5\" class=\"data row8 col5\" >-0.004240</td>\n",
              "      <td id=\"T_11462_row8_col6\" class=\"data row8 col6\" >-0.086425</td>\n",
              "      <td id=\"T_11462_row8_col7\" class=\"data row8 col7\" >0.479831</td>\n",
              "      <td id=\"T_11462_row8_col8\" class=\"data row8 col8\" >1.000000</td>\n",
              "      <td id=\"T_11462_row8_col9\" class=\"data row8 col9\" >0.117594</td>\n",
              "      <td id=\"T_11462_row8_col10\" class=\"data row8 col10\" >-0.007471</td>\n",
              "      <td id=\"T_11462_row8_col11\" class=\"data row8 col11\" >-0.039530</td>\n",
              "      <td id=\"T_11462_row8_col12\" class=\"data row8 col12\" >-0.011091</td>\n",
              "      <td id=\"T_11462_row8_col13\" class=\"data row8 col13\" >0.009582</td>\n",
              "      <td id=\"T_11462_row8_col14\" class=\"data row8 col14\" >-0.009345</td>\n",
              "      <td id=\"T_11462_row8_col15\" class=\"data row8 col15\" >-0.023386</td>\n",
              "      <td id=\"T_11462_row8_col16\" class=\"data row8 col16\" >0.058149</td>\n",
              "      <td id=\"T_11462_row8_col17\" class=\"data row8 col17\" >-0.008264</td>\n",
              "      <td id=\"T_11462_row8_col18\" class=\"data row8 col18\" >-0.076584</td>\n",
              "    </tr>\n",
              "    <tr>\n",
              "      <th id=\"T_11462_level0_row9\" class=\"row_heading level0 row9\" >C_TRAF</th>\n",
              "      <td id=\"T_11462_row9_col0\" class=\"data row9 col0\" >-0.024103</td>\n",
              "      <td id=\"T_11462_row9_col1\" class=\"data row9 col1\" >-0.005556</td>\n",
              "      <td id=\"T_11462_row9_col2\" class=\"data row9 col2\" >0.036553</td>\n",
              "      <td id=\"T_11462_row9_col3\" class=\"data row9 col3\" >-0.045855</td>\n",
              "      <td id=\"T_11462_row9_col4\" class=\"data row9 col4\" >-0.058162</td>\n",
              "      <td id=\"T_11462_row9_col5\" class=\"data row9 col5\" >-0.023162</td>\n",
              "      <td id=\"T_11462_row9_col6\" class=\"data row9 col6\" >-0.277340</td>\n",
              "      <td id=\"T_11462_row9_col7\" class=\"data row9 col7\" >0.082405</td>\n",
              "      <td id=\"T_11462_row9_col8\" class=\"data row9 col8\" >0.117594</td>\n",
              "      <td id=\"T_11462_row9_col9\" class=\"data row9 col9\" >1.000000</td>\n",
              "      <td id=\"T_11462_row9_col10\" class=\"data row9 col10\" >-0.028054</td>\n",
              "      <td id=\"T_11462_row9_col11\" class=\"data row9 col11\" >0.044962</td>\n",
              "      <td id=\"T_11462_row9_col12\" class=\"data row9 col12\" >-0.025738</td>\n",
              "      <td id=\"T_11462_row9_col13\" class=\"data row9 col13\" >0.010806</td>\n",
              "      <td id=\"T_11462_row9_col14\" class=\"data row9 col14\" >-0.036892</td>\n",
              "      <td id=\"T_11462_row9_col15\" class=\"data row9 col15\" >0.021414</td>\n",
              "      <td id=\"T_11462_row9_col16\" class=\"data row9 col16\" >0.093851</td>\n",
              "      <td id=\"T_11462_row9_col17\" class=\"data row9 col17\" >0.006273</td>\n",
              "      <td id=\"T_11462_row9_col18\" class=\"data row9 col18\" >0.026953</td>\n",
              "    </tr>\n",
              "    <tr>\n",
              "      <th id=\"T_11462_level0_row10\" class=\"row_heading level0 row10\" >V_ID</th>\n",
              "      <td id=\"T_11462_row10_col0\" class=\"data row10 col0\" >0.014171</td>\n",
              "      <td id=\"T_11462_row10_col1\" class=\"data row10 col1\" >-0.017988</td>\n",
              "      <td id=\"T_11462_row10_col2\" class=\"data row10 col2\" >-0.012156</td>\n",
              "      <td id=\"T_11462_row10_col3\" class=\"data row10 col3\" >0.020295</td>\n",
              "      <td id=\"T_11462_row10_col4\" class=\"data row10 col4\" >-0.018294</td>\n",
              "      <td id=\"T_11462_row10_col5\" class=\"data row10 col5\" >0.701014</td>\n",
              "      <td id=\"T_11462_row10_col6\" class=\"data row10 col6\" >0.014165</td>\n",
              "      <td id=\"T_11462_row10_col7\" class=\"data row10 col7\" >0.028403</td>\n",
              "      <td id=\"T_11462_row10_col8\" class=\"data row10 col8\" >-0.007471</td>\n",
              "      <td id=\"T_11462_row10_col9\" class=\"data row10 col9\" >-0.028054</td>\n",
              "      <td id=\"T_11462_row10_col10\" class=\"data row10 col10\" >1.000000</td>\n",
              "      <td id=\"T_11462_row10_col11\" class=\"data row10 col11\" >0.021237</td>\n",
              "      <td id=\"T_11462_row10_col12\" class=\"data row10 col12\" >0.049962</td>\n",
              "      <td id=\"T_11462_row10_col13\" class=\"data row10 col13\" >0.000321</td>\n",
              "      <td id=\"T_11462_row10_col14\" class=\"data row10 col14\" >0.031794</td>\n",
              "      <td id=\"T_11462_row10_col15\" class=\"data row10 col15\" >-0.008632</td>\n",
              "      <td id=\"T_11462_row10_col16\" class=\"data row10 col16\" >-0.031662</td>\n",
              "      <td id=\"T_11462_row10_col17\" class=\"data row10 col17\" >-0.011757</td>\n",
              "      <td id=\"T_11462_row10_col18\" class=\"data row10 col18\" >-0.000903</td>\n",
              "    </tr>\n",
              "    <tr>\n",
              "      <th id=\"T_11462_level0_row11\" class=\"row_heading level0 row11\" >V_TYPE</th>\n",
              "      <td id=\"T_11462_row11_col0\" class=\"data row11 col0\" >0.007231</td>\n",
              "      <td id=\"T_11462_row11_col1\" class=\"data row11 col1\" >0.018430</td>\n",
              "      <td id=\"T_11462_row11_col2\" class=\"data row11 col2\" >-0.025290</td>\n",
              "      <td id=\"T_11462_row11_col3\" class=\"data row11 col3\" >0.010778</td>\n",
              "      <td id=\"T_11462_row11_col4\" class=\"data row11 col4\" >-0.011930</td>\n",
              "      <td id=\"T_11462_row11_col5\" class=\"data row11 col5\" >-0.019623</td>\n",
              "      <td id=\"T_11462_row11_col6\" class=\"data row11 col6\" >-0.007474</td>\n",
              "      <td id=\"T_11462_row11_col7\" class=\"data row11 col7\" >-0.033916</td>\n",
              "      <td id=\"T_11462_row11_col8\" class=\"data row11 col8\" >-0.039530</td>\n",
              "      <td id=\"T_11462_row11_col9\" class=\"data row11 col9\" >0.044962</td>\n",
              "      <td id=\"T_11462_row11_col10\" class=\"data row11 col10\" >0.021237</td>\n",
              "      <td id=\"T_11462_row11_col11\" class=\"data row11 col11\" >1.000000</td>\n",
              "      <td id=\"T_11462_row11_col12\" class=\"data row11 col12\" >0.006752</td>\n",
              "      <td id=\"T_11462_row11_col13\" class=\"data row11 col13\" >0.020512</td>\n",
              "      <td id=\"T_11462_row11_col14\" class=\"data row11 col14\" >0.001164</td>\n",
              "      <td id=\"T_11462_row11_col15\" class=\"data row11 col15\" >0.187828</td>\n",
              "      <td id=\"T_11462_row11_col16\" class=\"data row11 col16\" >0.099743</td>\n",
              "      <td id=\"T_11462_row11_col17\" class=\"data row11 col17\" >0.358524</td>\n",
              "      <td id=\"T_11462_row11_col18\" class=\"data row11 col18\" >0.636737</td>\n",
              "    </tr>\n",
              "    <tr>\n",
              "      <th id=\"T_11462_level0_row12\" class=\"row_heading level0 row12\" >V_YEAR</th>\n",
              "      <td id=\"T_11462_row12_col0\" class=\"data row12 col0\" >0.625724</td>\n",
              "      <td id=\"T_11462_row12_col1\" class=\"data row12 col1\" >0.041073</td>\n",
              "      <td id=\"T_11462_row12_col2\" class=\"data row12 col2\" >-0.024451</td>\n",
              "      <td id=\"T_11462_row12_col3\" class=\"data row12 col3\" >-0.000306</td>\n",
              "      <td id=\"T_11462_row12_col4\" class=\"data row12 col4\" >0.013665</td>\n",
              "      <td id=\"T_11462_row12_col5\" class=\"data row12 col5\" >0.043892</td>\n",
              "      <td id=\"T_11462_row12_col6\" class=\"data row12 col6\" >-0.016881</td>\n",
              "      <td id=\"T_11462_row12_col7\" class=\"data row12 col7\" >-0.008051</td>\n",
              "      <td id=\"T_11462_row12_col8\" class=\"data row12 col8\" >-0.011091</td>\n",
              "      <td id=\"T_11462_row12_col9\" class=\"data row12 col9\" >-0.025738</td>\n",
              "      <td id=\"T_11462_row12_col10\" class=\"data row12 col10\" >0.049962</td>\n",
              "      <td id=\"T_11462_row12_col11\" class=\"data row12 col11\" >0.006752</td>\n",
              "      <td id=\"T_11462_row12_col12\" class=\"data row12 col12\" >1.000000</td>\n",
              "      <td id=\"T_11462_row12_col13\" class=\"data row12 col13\" >-0.011884</td>\n",
              "      <td id=\"T_11462_row12_col14\" class=\"data row12 col14\" >0.066275</td>\n",
              "      <td id=\"T_11462_row12_col15\" class=\"data row12 col15\" >0.017584</td>\n",
              "      <td id=\"T_11462_row12_col16\" class=\"data row12 col16\" >-0.024577</td>\n",
              "      <td id=\"T_11462_row12_col17\" class=\"data row12 col17\" >0.028127</td>\n",
              "      <td id=\"T_11462_row12_col18\" class=\"data row12 col18\" >-0.000302</td>\n",
              "    </tr>\n",
              "    <tr>\n",
              "      <th id=\"T_11462_level0_row13\" class=\"row_heading level0 row13\" >P_ID</th>\n",
              "      <td id=\"T_11462_row13_col0\" class=\"data row13 col0\" >-0.008121</td>\n",
              "      <td id=\"T_11462_row13_col1\" class=\"data row13 col1\" >-0.003549</td>\n",
              "      <td id=\"T_11462_row13_col2\" class=\"data row13 col2\" >0.051635</td>\n",
              "      <td id=\"T_11462_row13_col3\" class=\"data row13 col3\" >0.008864</td>\n",
              "      <td id=\"T_11462_row13_col4\" class=\"data row13 col4\" >-0.054459</td>\n",
              "      <td id=\"T_11462_row13_col5\" class=\"data row13 col5\" >-0.001774</td>\n",
              "      <td id=\"T_11462_row13_col6\" class=\"data row13 col6\" >-0.019655</td>\n",
              "      <td id=\"T_11462_row13_col7\" class=\"data row13 col7\" >0.006164</td>\n",
              "      <td id=\"T_11462_row13_col8\" class=\"data row13 col8\" >0.009582</td>\n",
              "      <td id=\"T_11462_row13_col9\" class=\"data row13 col9\" >0.010806</td>\n",
              "      <td id=\"T_11462_row13_col10\" class=\"data row13 col10\" >0.000321</td>\n",
              "      <td id=\"T_11462_row13_col11\" class=\"data row13 col11\" >0.020512</td>\n",
              "      <td id=\"T_11462_row13_col12\" class=\"data row13 col12\" >-0.011884</td>\n",
              "      <td id=\"T_11462_row13_col13\" class=\"data row13 col13\" >1.000000</td>\n",
              "      <td id=\"T_11462_row13_col14\" class=\"data row13 col14\" >-0.219645</td>\n",
              "      <td id=\"T_11462_row13_col15\" class=\"data row13 col15\" >0.422745</td>\n",
              "      <td id=\"T_11462_row13_col16\" class=\"data row13 col16\" >-0.054854</td>\n",
              "      <td id=\"T_11462_row13_col17\" class=\"data row13 col17\" >0.195203</td>\n",
              "      <td id=\"T_11462_row13_col18\" class=\"data row13 col18\" >0.275629</td>\n",
              "    </tr>\n",
              "    <tr>\n",
              "      <th id=\"T_11462_level0_row14\" class=\"row_heading level0 row14\" >P_AGE</th>\n",
              "      <td id=\"T_11462_row14_col0\" class=\"data row14 col0\" >0.063391</td>\n",
              "      <td id=\"T_11462_row14_col1\" class=\"data row14 col1\" >0.008258</td>\n",
              "      <td id=\"T_11462_row14_col2\" class=\"data row14 col2\" >-0.045333</td>\n",
              "      <td id=\"T_11462_row14_col3\" class=\"data row14 col3\" >-0.008671</td>\n",
              "      <td id=\"T_11462_row14_col4\" class=\"data row14 col4\" >-0.010000</td>\n",
              "      <td id=\"T_11462_row14_col5\" class=\"data row14 col5\" >0.019836</td>\n",
              "      <td id=\"T_11462_row14_col6\" class=\"data row14 col6\" >0.028856</td>\n",
              "      <td id=\"T_11462_row14_col7\" class=\"data row14 col7\" >-0.008916</td>\n",
              "      <td id=\"T_11462_row14_col8\" class=\"data row14 col8\" >-0.009345</td>\n",
              "      <td id=\"T_11462_row14_col9\" class=\"data row14 col9\" >-0.036892</td>\n",
              "      <td id=\"T_11462_row14_col10\" class=\"data row14 col10\" >0.031794</td>\n",
              "      <td id=\"T_11462_row14_col11\" class=\"data row14 col11\" >0.001164</td>\n",
              "      <td id=\"T_11462_row14_col12\" class=\"data row14 col12\" >0.066275</td>\n",
              "      <td id=\"T_11462_row14_col13\" class=\"data row14 col13\" >-0.219645</td>\n",
              "      <td id=\"T_11462_row14_col14\" class=\"data row14 col14\" >1.000000</td>\n",
              "      <td id=\"T_11462_row14_col15\" class=\"data row14 col15\" >-0.164321</td>\n",
              "      <td id=\"T_11462_row14_col16\" class=\"data row14 col16\" >0.050383</td>\n",
              "      <td id=\"T_11462_row14_col17\" class=\"data row14 col17\" >-0.019920</td>\n",
              "      <td id=\"T_11462_row14_col18\" class=\"data row14 col18\" >-0.172863</td>\n",
              "    </tr>\n",
              "    <tr>\n",
              "      <th id=\"T_11462_level0_row15\" class=\"row_heading level0 row15\" >P_PSN</th>\n",
              "      <td id=\"T_11462_row15_col0\" class=\"data row15 col0\" >0.012650</td>\n",
              "      <td id=\"T_11462_row15_col1\" class=\"data row15 col1\" >0.012105</td>\n",
              "      <td id=\"T_11462_row15_col2\" class=\"data row15 col2\" >0.036690</td>\n",
              "      <td id=\"T_11462_row15_col3\" class=\"data row15 col3\" >0.013207</td>\n",
              "      <td id=\"T_11462_row15_col4\" class=\"data row15 col4\" >-0.028113</td>\n",
              "      <td id=\"T_11462_row15_col5\" class=\"data row15 col5\" >-0.023406</td>\n",
              "      <td id=\"T_11462_row15_col6\" class=\"data row15 col6\" >-0.024175</td>\n",
              "      <td id=\"T_11462_row15_col7\" class=\"data row15 col7\" >-0.017451</td>\n",
              "      <td id=\"T_11462_row15_col8\" class=\"data row15 col8\" >-0.023386</td>\n",
              "      <td id=\"T_11462_row15_col9\" class=\"data row15 col9\" >0.021414</td>\n",
              "      <td id=\"T_11462_row15_col10\" class=\"data row15 col10\" >-0.008632</td>\n",
              "      <td id=\"T_11462_row15_col11\" class=\"data row15 col11\" >0.187828</td>\n",
              "      <td id=\"T_11462_row15_col12\" class=\"data row15 col12\" >0.017584</td>\n",
              "      <td id=\"T_11462_row15_col13\" class=\"data row15 col13\" >0.422745</td>\n",
              "      <td id=\"T_11462_row15_col14\" class=\"data row15 col14\" >-0.164321</td>\n",
              "      <td id=\"T_11462_row15_col15\" class=\"data row15 col15\" >1.000000</td>\n",
              "      <td id=\"T_11462_row15_col16\" class=\"data row15 col16\" >0.008260</td>\n",
              "      <td id=\"T_11462_row15_col17\" class=\"data row15 col17\" >0.202268</td>\n",
              "      <td id=\"T_11462_row15_col18\" class=\"data row15 col18\" >0.298847</td>\n",
              "    </tr>\n",
              "    <tr>\n",
              "      <th id=\"T_11462_level0_row16\" class=\"row_heading level0 row16\" >P_ISEV</th>\n",
              "      <td id=\"T_11462_row16_col0\" class=\"data row16 col0\" >-0.013501</td>\n",
              "      <td id=\"T_11462_row16_col1\" class=\"data row16 col1\" >-0.004845</td>\n",
              "      <td id=\"T_11462_row16_col2\" class=\"data row16 col2\" >0.012209</td>\n",
              "      <td id=\"T_11462_row16_col3\" class=\"data row16 col3\" >-0.045069</td>\n",
              "      <td id=\"T_11462_row16_col4\" class=\"data row16 col4\" >-0.134142</td>\n",
              "      <td id=\"T_11462_row16_col5\" class=\"data row16 col5\" >-0.084958</td>\n",
              "      <td id=\"T_11462_row16_col6\" class=\"data row16 col6\" >-0.057746</td>\n",
              "      <td id=\"T_11462_row16_col7\" class=\"data row16 col7\" >0.034800</td>\n",
              "      <td id=\"T_11462_row16_col8\" class=\"data row16 col8\" >0.058149</td>\n",
              "      <td id=\"T_11462_row16_col9\" class=\"data row16 col9\" >0.093851</td>\n",
              "      <td id=\"T_11462_row16_col10\" class=\"data row16 col10\" >-0.031662</td>\n",
              "      <td id=\"T_11462_row16_col11\" class=\"data row16 col11\" >0.099743</td>\n",
              "      <td id=\"T_11462_row16_col12\" class=\"data row16 col12\" >-0.024577</td>\n",
              "      <td id=\"T_11462_row16_col13\" class=\"data row16 col13\" >-0.054854</td>\n",
              "      <td id=\"T_11462_row16_col14\" class=\"data row16 col14\" >0.050383</td>\n",
              "      <td id=\"T_11462_row16_col15\" class=\"data row16 col15\" >0.008260</td>\n",
              "      <td id=\"T_11462_row16_col16\" class=\"data row16 col16\" >1.000000</td>\n",
              "      <td id=\"T_11462_row16_col17\" class=\"data row16 col17\" >0.081437</td>\n",
              "      <td id=\"T_11462_row16_col18\" class=\"data row16 col18\" >0.117712</td>\n",
              "    </tr>\n",
              "    <tr>\n",
              "      <th id=\"T_11462_level0_row17\" class=\"row_heading level0 row17\" >P_SAFE</th>\n",
              "      <td id=\"T_11462_row17_col0\" class=\"data row17 col0\" >0.044124</td>\n",
              "      <td id=\"T_11462_row17_col1\" class=\"data row17 col1\" >0.007961</td>\n",
              "      <td id=\"T_11462_row17_col2\" class=\"data row17 col2\" >0.002020</td>\n",
              "      <td id=\"T_11462_row17_col3\" class=\"data row17 col3\" >0.013121</td>\n",
              "      <td id=\"T_11462_row17_col4\" class=\"data row17 col4\" >-0.004057</td>\n",
              "      <td id=\"T_11462_row17_col5\" class=\"data row17 col5\" >-0.027338</td>\n",
              "      <td id=\"T_11462_row17_col6\" class=\"data row17 col6\" >0.008563</td>\n",
              "      <td id=\"T_11462_row17_col7\" class=\"data row17 col7\" >-0.018488</td>\n",
              "      <td id=\"T_11462_row17_col8\" class=\"data row17 col8\" >-0.008264</td>\n",
              "      <td id=\"T_11462_row17_col9\" class=\"data row17 col9\" >0.006273</td>\n",
              "      <td id=\"T_11462_row17_col10\" class=\"data row17 col10\" >-0.011757</td>\n",
              "      <td id=\"T_11462_row17_col11\" class=\"data row17 col11\" >0.358524</td>\n",
              "      <td id=\"T_11462_row17_col12\" class=\"data row17 col12\" >0.028127</td>\n",
              "      <td id=\"T_11462_row17_col13\" class=\"data row17 col13\" >0.195203</td>\n",
              "      <td id=\"T_11462_row17_col14\" class=\"data row17 col14\" >-0.019920</td>\n",
              "      <td id=\"T_11462_row17_col15\" class=\"data row17 col15\" >0.202268</td>\n",
              "      <td id=\"T_11462_row17_col16\" class=\"data row17 col16\" >0.081437</td>\n",
              "      <td id=\"T_11462_row17_col17\" class=\"data row17 col17\" >1.000000</td>\n",
              "      <td id=\"T_11462_row17_col18\" class=\"data row17 col18\" >0.344927</td>\n",
              "    </tr>\n",
              "    <tr>\n",
              "      <th id=\"T_11462_level0_row18\" class=\"row_heading level0 row18\" >P_USER</th>\n",
              "      <td id=\"T_11462_row18_col0\" class=\"data row18 col0\" >-0.004742</td>\n",
              "      <td id=\"T_11462_row18_col1\" class=\"data row18 col1\" >0.036083</td>\n",
              "      <td id=\"T_11462_row18_col2\" class=\"data row18 col2\" >0.048060</td>\n",
              "      <td id=\"T_11462_row18_col3\" class=\"data row18 col3\" >0.050013</td>\n",
              "      <td id=\"T_11462_row18_col4\" class=\"data row18 col4\" >-0.008767</td>\n",
              "      <td id=\"T_11462_row18_col5\" class=\"data row18 col5\" >-0.039135</td>\n",
              "      <td id=\"T_11462_row18_col6\" class=\"data row18 col6\" >-0.007953</td>\n",
              "      <td id=\"T_11462_row18_col7\" class=\"data row18 col7\" >-0.057241</td>\n",
              "      <td id=\"T_11462_row18_col8\" class=\"data row18 col8\" >-0.076584</td>\n",
              "      <td id=\"T_11462_row18_col9\" class=\"data row18 col9\" >0.026953</td>\n",
              "      <td id=\"T_11462_row18_col10\" class=\"data row18 col10\" >-0.000903</td>\n",
              "      <td id=\"T_11462_row18_col11\" class=\"data row18 col11\" >0.636737</td>\n",
              "      <td id=\"T_11462_row18_col12\" class=\"data row18 col12\" >-0.000302</td>\n",
              "      <td id=\"T_11462_row18_col13\" class=\"data row18 col13\" >0.275629</td>\n",
              "      <td id=\"T_11462_row18_col14\" class=\"data row18 col14\" >-0.172863</td>\n",
              "      <td id=\"T_11462_row18_col15\" class=\"data row18 col15\" >0.298847</td>\n",
              "      <td id=\"T_11462_row18_col16\" class=\"data row18 col16\" >0.117712</td>\n",
              "      <td id=\"T_11462_row18_col17\" class=\"data row18 col17\" >0.344927</td>\n",
              "      <td id=\"T_11462_row18_col18\" class=\"data row18 col18\" >1.000000</td>\n",
              "    </tr>\n",
              "  </tbody>\n",
              "</table>\n"
            ]
          },
          "metadata": {},
          "execution_count": 69
        }
      ],
      "source": [
        "corr = df.corr()\n",
        "corr.style.background_gradient (cmap = 'coolwarm')"
      ]
    },
    {
      "cell_type": "markdown",
      "source": [
        "Observamos como las variables que mas correlación tienen entre ellas son las siguientes:\n",
        "\n",
        "\n",
        "1.  **C_VEHS - V_ID** = El número de vehículos involucrados en la colisión y el número de secuecia del vehículo guardan una correlacioón de 0.70, la cual es bastante alta. Esto podría deberse a que, en general, las colisiones que involucran más vehículos tienden a generar una mayor cantidad de información o registros en los informes de accidentes, lo que a su vez se reflejaría en números de secuencia más alto.\n",
        "2.   **V_TYPE - P_USER** = El tipo de vehículo y y la clase de usuario de la via guardan una correlación de 0.63. Esto se debe a que los diferentes tipos de vehículos suelen estar asociados con una clase particular de usuario de la vía, por ejemplo las en un accidente en el que el tipo de vehículo es una bici, pues el tipo de usuario de la via normalmente es un ciclista.\n",
        "1.   **V_YEAR - C_YEAR** = :El año del vehículo y el año en el que se produjo el accidente guarda una correlación de 0,62. A medida que los vehículos envejecen, es más probable que se produzcan accidentes.\n",
        "\n",
        "\n",
        "\n"
      ],
      "metadata": {
        "id": "QgYGXefyUHfB"
      }
    },
    {
      "cell_type": "markdown",
      "source": [
        "Renombramos las columnas y traducimos a español"
      ],
      "metadata": {
        "id": "QOm7a6ceaRSW"
      }
    },
    {
      "cell_type": "code",
      "source": [
        "nuevas_columnas = [\"año\", \"mes\", \"dia_mes\", \"hora\", \"mortalidad\", \"numero_vehiculo\", \"tipo_accidente\", \"lugar_accidente\", \"clima_accidente\",\n",
        "\"estado_superficie\", \"control_trafico\", \"id_vehiculo\", \"tipo_vehiculo\", \"año_vehiculo\", \"id_pasajero\",\n",
        "\"edad_pasajero\", \"rol_pasajero\", \"severidad_pasajero\", \"seguridad_pasajero\", \"tipo_pasajero\"]\n",
        "\n",
        "print(len(nuevas_columnas) == len(df.columns))\n",
        "df.columns = nuevas_columnas"
      ],
      "metadata": {
        "id": "2EsyZ7SyRTwv",
        "colab": {
          "base_uri": "https://localhost:8080/"
        },
        "outputId": "6b964c6a-1189-495a-e114-8e0233d4d4a2"
      },
      "execution_count": null,
      "outputs": [
        {
          "output_type": "stream",
          "name": "stdout",
          "text": [
            "True\n"
          ]
        }
      ]
    },
    {
      "cell_type": "markdown",
      "source": [
        "## **Análisis Descriptivo**"
      ],
      "metadata": {
        "id": "e7KCjrJARL6M"
      }
    },
    {
      "cell_type": "markdown",
      "source": [
        "Descodificamos los datos de la columna tipo_vehiculo, para que más adelante, al realizar los gráficos aparezca directamente el nombre del tipo de vehículo y no su código.\n"
      ],
      "metadata": {
        "id": "NgeXetgEbxKV"
      }
    },
    {
      "cell_type": "code",
      "source": [
        "\n",
        "df_desc = df.copy()\n",
        "\n",
        "\n",
        "df_desc[\"tipo_vehiculo\"] = df_desc[\"tipo_vehiculo\"].replace({1:\"Light_Duty\"})\n",
        "df_desc[\"tipo_vehiculo\"] = df_desc[\"tipo_vehiculo\"].replace({5:\"Cargo_Van\"})\n",
        "df_desc[\"tipo_vehiculo\"] = df_desc[\"tipo_vehiculo\"].replace({6:\"Other_Trucks\"})\n",
        "df_desc[\"tipo_vehiculo\"] = df_desc[\"tipo_vehiculo\"].replace({7:\"Unit_Trucks\"})\n",
        "df_desc[\"tipo_vehiculo\"] = df_desc[\"tipo_vehiculo\"].replace({8:\"Road_Tractor\"})\n",
        "df_desc[\"tipo_vehiculo\"] = df_desc[\"tipo_vehiculo\"].replace({9:\"School_Bus\"})\n",
        "df_desc[\"tipo_vehiculo\"] = df_desc[\"tipo_vehiculo\"].replace({10:\"Small_Bus\"})\n",
        "df_desc[\"tipo_vehiculo\"] = df_desc[\"tipo_vehiculo\"].replace({11:\"Urban_Bus\"})\n",
        "df_desc[\"tipo_vehiculo\"] = df_desc[\"tipo_vehiculo\"].replace({14:\"Motorcycle\"})\n",
        "df_desc[\"tipo_vehiculo\"] = df_desc[\"tipo_vehiculo\"].replace({16:\"OffRoad_Vehicle\"})\n",
        "df_desc[\"tipo_vehiculo\"] = df_desc[\"tipo_vehiculo\"].replace({17:\"Bicycle\"})\n",
        "df_desc[\"tipo_vehiculo\"] = df_desc[\"tipo_vehiculo\"].replace({18:\"Build_Motorhome\"})\n",
        "df_desc[\"tipo_vehiculo\"] = df_desc[\"tipo_vehiculo\"].replace({19:\"Farm_Equipment\"})\n",
        "df_desc[\"tipo_vehiculo\"] = df_desc[\"tipo_vehiculo\"].replace({20:\"Construction_Equipment\"})\n",
        "df_desc[\"tipo_vehiculo\"] = df_desc[\"tipo_vehiculo\"].replace({21:\"Fire_Engine\"})\n",
        "df_desc[\"tipo_vehiculo\"] = df_desc[\"tipo_vehiculo\"].replace({22:\"Snow_Mobile\"})\n",
        "df_desc[\"tipo_vehiculo\"] = df_desc[\"tipo_vehiculo\"].replace({23:\"Car\"})\n",
        "\n",
        "\n",
        "\n",
        "df_desc[\"mortalidad\"] = df_desc[\"mortalidad\"].replace({2:0})\n",
        "\n",
        "\n",
        "df_desc"
      ],
      "metadata": {
        "id": "37ER__AHRY_R",
        "colab": {
          "base_uri": "https://localhost:8080/",
          "height": 488
        },
        "outputId": "81808d9f-dd8f-4862-a737-5a13f9c84906"
      },
      "execution_count": null,
      "outputs": [
        {
          "output_type": "execute_result",
          "data": {
            "text/plain": [
              "        año  mes  dia_mes  hora  mortalidad  numero_vehiculo tipo_accidente  \\\n",
              "0      2001    5        5    16           0              2.0             33   \n",
              "1      2008   10        3    13           0              2.0             21   \n",
              "2      2009    8        7     9           0              2.0             36   \n",
              "4      2014    9        1     7           0              3.0             21   \n",
              "5      2014   12        1     7           0              1.0              4   \n",
              "...     ...  ...      ...   ...         ...              ...            ...   \n",
              "19995  2014    7        1    11           0              2.0             21   \n",
              "19996  1999    5        6    13           0              2.0             35   \n",
              "19997  2001    7        5    15           0              2.0             21   \n",
              "19998  2010    8        6     8           0              2.0             35   \n",
              "19999  2014    2        4    15           0              2.0              6   \n",
              "\n",
              "       lugar_accidente  clima_accidente  estado_superficie  control_trafico  \\\n",
              "0                  2.0              1.0                1.0             18.0   \n",
              "1                  2.0              1.0                1.0             18.0   \n",
              "2                  2.0              1.0                1.0             18.0   \n",
              "4                  1.0              1.0                1.0              1.0   \n",
              "5                  1.0              2.0                5.0             18.0   \n",
              "...                ...              ...                ...              ...   \n",
              "19995              2.0              1.0                1.0             18.0   \n",
              "19996              2.0              3.0                2.0              4.0   \n",
              "19997              2.0              1.0                1.0              1.0   \n",
              "19998              2.0              1.0                1.0              1.0   \n",
              "19999              1.0              4.0                2.0             18.0   \n",
              "\n",
              "       id_vehiculo tipo_vehiculo  año_vehiculo  id_pasajero  edad_pasajero  \\\n",
              "0                1    Light_Duty        1986.0            2           15.0   \n",
              "1                2     Cargo_Van        2002.0            2            4.0   \n",
              "2                2    Light_Duty        2004.0            2           17.0   \n",
              "4                2    Light_Duty        2001.0            1           36.0   \n",
              "5                1  Other_Trucks        1998.0            1           67.0   \n",
              "...            ...           ...           ...          ...            ...   \n",
              "19995            2    Light_Duty        2007.0            1           35.0   \n",
              "19996            2    Light_Duty        1995.0            1           35.0   \n",
              "19997            2    Light_Duty        1987.0            1           62.0   \n",
              "19998            2    Light_Duty        2010.0            1           52.0   \n",
              "19999            2    Light_Duty        2006.0            2           17.0   \n",
              "\n",
              "       rol_pasajero  severidad_pasajero  seguridad_pasajero  tipo_pasajero  \n",
              "0                13                 1.0                   0            2.0  \n",
              "1                23                 1.0                   2            2.0  \n",
              "2                21                 2.0                   2            2.0  \n",
              "4                11                 2.0                   2            1.0  \n",
              "5                11                 2.0                   2            1.0  \n",
              "...             ...                 ...                 ...            ...  \n",
              "19995            11                 2.0                   2            1.0  \n",
              "19996            11                 2.0                   2            1.0  \n",
              "19997            11                 2.0                   2            1.0  \n",
              "19998            11                 2.0                   0            1.0  \n",
              "19999            13                 2.0                   2            2.0  \n",
              "\n",
              "[17768 rows x 20 columns]"
            ],
            "text/html": [
              "\n",
              "  <div id=\"df-004f30fa-a324-49f9-af9d-0aaee1322b8e\">\n",
              "    <div class=\"colab-df-container\">\n",
              "      <div>\n",
              "<style scoped>\n",
              "    .dataframe tbody tr th:only-of-type {\n",
              "        vertical-align: middle;\n",
              "    }\n",
              "\n",
              "    .dataframe tbody tr th {\n",
              "        vertical-align: top;\n",
              "    }\n",
              "\n",
              "    .dataframe thead th {\n",
              "        text-align: right;\n",
              "    }\n",
              "</style>\n",
              "<table border=\"1\" class=\"dataframe\">\n",
              "  <thead>\n",
              "    <tr style=\"text-align: right;\">\n",
              "      <th></th>\n",
              "      <th>año</th>\n",
              "      <th>mes</th>\n",
              "      <th>dia_mes</th>\n",
              "      <th>hora</th>\n",
              "      <th>mortalidad</th>\n",
              "      <th>numero_vehiculo</th>\n",
              "      <th>tipo_accidente</th>\n",
              "      <th>lugar_accidente</th>\n",
              "      <th>clima_accidente</th>\n",
              "      <th>estado_superficie</th>\n",
              "      <th>control_trafico</th>\n",
              "      <th>id_vehiculo</th>\n",
              "      <th>tipo_vehiculo</th>\n",
              "      <th>año_vehiculo</th>\n",
              "      <th>id_pasajero</th>\n",
              "      <th>edad_pasajero</th>\n",
              "      <th>rol_pasajero</th>\n",
              "      <th>severidad_pasajero</th>\n",
              "      <th>seguridad_pasajero</th>\n",
              "      <th>tipo_pasajero</th>\n",
              "    </tr>\n",
              "  </thead>\n",
              "  <tbody>\n",
              "    <tr>\n",
              "      <th>0</th>\n",
              "      <td>2001</td>\n",
              "      <td>5</td>\n",
              "      <td>5</td>\n",
              "      <td>16</td>\n",
              "      <td>0</td>\n",
              "      <td>2.0</td>\n",
              "      <td>33</td>\n",
              "      <td>2.0</td>\n",
              "      <td>1.0</td>\n",
              "      <td>1.0</td>\n",
              "      <td>18.0</td>\n",
              "      <td>1</td>\n",
              "      <td>Light_Duty</td>\n",
              "      <td>1986.0</td>\n",
              "      <td>2</td>\n",
              "      <td>15.0</td>\n",
              "      <td>13</td>\n",
              "      <td>1.0</td>\n",
              "      <td>0</td>\n",
              "      <td>2.0</td>\n",
              "    </tr>\n",
              "    <tr>\n",
              "      <th>1</th>\n",
              "      <td>2008</td>\n",
              "      <td>10</td>\n",
              "      <td>3</td>\n",
              "      <td>13</td>\n",
              "      <td>0</td>\n",
              "      <td>2.0</td>\n",
              "      <td>21</td>\n",
              "      <td>2.0</td>\n",
              "      <td>1.0</td>\n",
              "      <td>1.0</td>\n",
              "      <td>18.0</td>\n",
              "      <td>2</td>\n",
              "      <td>Cargo_Van</td>\n",
              "      <td>2002.0</td>\n",
              "      <td>2</td>\n",
              "      <td>4.0</td>\n",
              "      <td>23</td>\n",
              "      <td>1.0</td>\n",
              "      <td>2</td>\n",
              "      <td>2.0</td>\n",
              "    </tr>\n",
              "    <tr>\n",
              "      <th>2</th>\n",
              "      <td>2009</td>\n",
              "      <td>8</td>\n",
              "      <td>7</td>\n",
              "      <td>9</td>\n",
              "      <td>0</td>\n",
              "      <td>2.0</td>\n",
              "      <td>36</td>\n",
              "      <td>2.0</td>\n",
              "      <td>1.0</td>\n",
              "      <td>1.0</td>\n",
              "      <td>18.0</td>\n",
              "      <td>2</td>\n",
              "      <td>Light_Duty</td>\n",
              "      <td>2004.0</td>\n",
              "      <td>2</td>\n",
              "      <td>17.0</td>\n",
              "      <td>21</td>\n",
              "      <td>2.0</td>\n",
              "      <td>2</td>\n",
              "      <td>2.0</td>\n",
              "    </tr>\n",
              "    <tr>\n",
              "      <th>4</th>\n",
              "      <td>2014</td>\n",
              "      <td>9</td>\n",
              "      <td>1</td>\n",
              "      <td>7</td>\n",
              "      <td>0</td>\n",
              "      <td>3.0</td>\n",
              "      <td>21</td>\n",
              "      <td>1.0</td>\n",
              "      <td>1.0</td>\n",
              "      <td>1.0</td>\n",
              "      <td>1.0</td>\n",
              "      <td>2</td>\n",
              "      <td>Light_Duty</td>\n",
              "      <td>2001.0</td>\n",
              "      <td>1</td>\n",
              "      <td>36.0</td>\n",
              "      <td>11</td>\n",
              "      <td>2.0</td>\n",
              "      <td>2</td>\n",
              "      <td>1.0</td>\n",
              "    </tr>\n",
              "    <tr>\n",
              "      <th>5</th>\n",
              "      <td>2014</td>\n",
              "      <td>12</td>\n",
              "      <td>1</td>\n",
              "      <td>7</td>\n",
              "      <td>0</td>\n",
              "      <td>1.0</td>\n",
              "      <td>4</td>\n",
              "      <td>1.0</td>\n",
              "      <td>2.0</td>\n",
              "      <td>5.0</td>\n",
              "      <td>18.0</td>\n",
              "      <td>1</td>\n",
              "      <td>Other_Trucks</td>\n",
              "      <td>1998.0</td>\n",
              "      <td>1</td>\n",
              "      <td>67.0</td>\n",
              "      <td>11</td>\n",
              "      <td>2.0</td>\n",
              "      <td>2</td>\n",
              "      <td>1.0</td>\n",
              "    </tr>\n",
              "    <tr>\n",
              "      <th>...</th>\n",
              "      <td>...</td>\n",
              "      <td>...</td>\n",
              "      <td>...</td>\n",
              "      <td>...</td>\n",
              "      <td>...</td>\n",
              "      <td>...</td>\n",
              "      <td>...</td>\n",
              "      <td>...</td>\n",
              "      <td>...</td>\n",
              "      <td>...</td>\n",
              "      <td>...</td>\n",
              "      <td>...</td>\n",
              "      <td>...</td>\n",
              "      <td>...</td>\n",
              "      <td>...</td>\n",
              "      <td>...</td>\n",
              "      <td>...</td>\n",
              "      <td>...</td>\n",
              "      <td>...</td>\n",
              "      <td>...</td>\n",
              "    </tr>\n",
              "    <tr>\n",
              "      <th>19995</th>\n",
              "      <td>2014</td>\n",
              "      <td>7</td>\n",
              "      <td>1</td>\n",
              "      <td>11</td>\n",
              "      <td>0</td>\n",
              "      <td>2.0</td>\n",
              "      <td>21</td>\n",
              "      <td>2.0</td>\n",
              "      <td>1.0</td>\n",
              "      <td>1.0</td>\n",
              "      <td>18.0</td>\n",
              "      <td>2</td>\n",
              "      <td>Light_Duty</td>\n",
              "      <td>2007.0</td>\n",
              "      <td>1</td>\n",
              "      <td>35.0</td>\n",
              "      <td>11</td>\n",
              "      <td>2.0</td>\n",
              "      <td>2</td>\n",
              "      <td>1.0</td>\n",
              "    </tr>\n",
              "    <tr>\n",
              "      <th>19996</th>\n",
              "      <td>1999</td>\n",
              "      <td>5</td>\n",
              "      <td>6</td>\n",
              "      <td>13</td>\n",
              "      <td>0</td>\n",
              "      <td>2.0</td>\n",
              "      <td>35</td>\n",
              "      <td>2.0</td>\n",
              "      <td>3.0</td>\n",
              "      <td>2.0</td>\n",
              "      <td>4.0</td>\n",
              "      <td>2</td>\n",
              "      <td>Light_Duty</td>\n",
              "      <td>1995.0</td>\n",
              "      <td>1</td>\n",
              "      <td>35.0</td>\n",
              "      <td>11</td>\n",
              "      <td>2.0</td>\n",
              "      <td>2</td>\n",
              "      <td>1.0</td>\n",
              "    </tr>\n",
              "    <tr>\n",
              "      <th>19997</th>\n",
              "      <td>2001</td>\n",
              "      <td>7</td>\n",
              "      <td>5</td>\n",
              "      <td>15</td>\n",
              "      <td>0</td>\n",
              "      <td>2.0</td>\n",
              "      <td>21</td>\n",
              "      <td>2.0</td>\n",
              "      <td>1.0</td>\n",
              "      <td>1.0</td>\n",
              "      <td>1.0</td>\n",
              "      <td>2</td>\n",
              "      <td>Light_Duty</td>\n",
              "      <td>1987.0</td>\n",
              "      <td>1</td>\n",
              "      <td>62.0</td>\n",
              "      <td>11</td>\n",
              "      <td>2.0</td>\n",
              "      <td>2</td>\n",
              "      <td>1.0</td>\n",
              "    </tr>\n",
              "    <tr>\n",
              "      <th>19998</th>\n",
              "      <td>2010</td>\n",
              "      <td>8</td>\n",
              "      <td>6</td>\n",
              "      <td>8</td>\n",
              "      <td>0</td>\n",
              "      <td>2.0</td>\n",
              "      <td>35</td>\n",
              "      <td>2.0</td>\n",
              "      <td>1.0</td>\n",
              "      <td>1.0</td>\n",
              "      <td>1.0</td>\n",
              "      <td>2</td>\n",
              "      <td>Light_Duty</td>\n",
              "      <td>2010.0</td>\n",
              "      <td>1</td>\n",
              "      <td>52.0</td>\n",
              "      <td>11</td>\n",
              "      <td>2.0</td>\n",
              "      <td>0</td>\n",
              "      <td>1.0</td>\n",
              "    </tr>\n",
              "    <tr>\n",
              "      <th>19999</th>\n",
              "      <td>2014</td>\n",
              "      <td>2</td>\n",
              "      <td>4</td>\n",
              "      <td>15</td>\n",
              "      <td>0</td>\n",
              "      <td>2.0</td>\n",
              "      <td>6</td>\n",
              "      <td>1.0</td>\n",
              "      <td>4.0</td>\n",
              "      <td>2.0</td>\n",
              "      <td>18.0</td>\n",
              "      <td>2</td>\n",
              "      <td>Light_Duty</td>\n",
              "      <td>2006.0</td>\n",
              "      <td>2</td>\n",
              "      <td>17.0</td>\n",
              "      <td>13</td>\n",
              "      <td>2.0</td>\n",
              "      <td>2</td>\n",
              "      <td>2.0</td>\n",
              "    </tr>\n",
              "  </tbody>\n",
              "</table>\n",
              "<p>17768 rows × 20 columns</p>\n",
              "</div>\n",
              "      <button class=\"colab-df-convert\" onclick=\"convertToInteractive('df-004f30fa-a324-49f9-af9d-0aaee1322b8e')\"\n",
              "              title=\"Convert this dataframe to an interactive table.\"\n",
              "              style=\"display:none;\">\n",
              "        \n",
              "  <svg xmlns=\"http://www.w3.org/2000/svg\" height=\"24px\"viewBox=\"0 0 24 24\"\n",
              "       width=\"24px\">\n",
              "    <path d=\"M0 0h24v24H0V0z\" fill=\"none\"/>\n",
              "    <path d=\"M18.56 5.44l.94 2.06.94-2.06 2.06-.94-2.06-.94-.94-2.06-.94 2.06-2.06.94zm-11 1L8.5 8.5l.94-2.06 2.06-.94-2.06-.94L8.5 2.5l-.94 2.06-2.06.94zm10 10l.94 2.06.94-2.06 2.06-.94-2.06-.94-.94-2.06-.94 2.06-2.06.94z\"/><path d=\"M17.41 7.96l-1.37-1.37c-.4-.4-.92-.59-1.43-.59-.52 0-1.04.2-1.43.59L10.3 9.45l-7.72 7.72c-.78.78-.78 2.05 0 2.83L4 21.41c.39.39.9.59 1.41.59.51 0 1.02-.2 1.41-.59l7.78-7.78 2.81-2.81c.8-.78.8-2.07 0-2.86zM5.41 20L4 18.59l7.72-7.72 1.47 1.35L5.41 20z\"/>\n",
              "  </svg>\n",
              "      </button>\n",
              "      \n",
              "  <style>\n",
              "    .colab-df-container {\n",
              "      display:flex;\n",
              "      flex-wrap:wrap;\n",
              "      gap: 12px;\n",
              "    }\n",
              "\n",
              "    .colab-df-convert {\n",
              "      background-color: #E8F0FE;\n",
              "      border: none;\n",
              "      border-radius: 50%;\n",
              "      cursor: pointer;\n",
              "      display: none;\n",
              "      fill: #1967D2;\n",
              "      height: 32px;\n",
              "      padding: 0 0 0 0;\n",
              "      width: 32px;\n",
              "    }\n",
              "\n",
              "    .colab-df-convert:hover {\n",
              "      background-color: #E2EBFA;\n",
              "      box-shadow: 0px 1px 2px rgba(60, 64, 67, 0.3), 0px 1px 3px 1px rgba(60, 64, 67, 0.15);\n",
              "      fill: #174EA6;\n",
              "    }\n",
              "\n",
              "    [theme=dark] .colab-df-convert {\n",
              "      background-color: #3B4455;\n",
              "      fill: #D2E3FC;\n",
              "    }\n",
              "\n",
              "    [theme=dark] .colab-df-convert:hover {\n",
              "      background-color: #434B5C;\n",
              "      box-shadow: 0px 1px 3px 1px rgba(0, 0, 0, 0.15);\n",
              "      filter: drop-shadow(0px 1px 2px rgba(0, 0, 0, 0.3));\n",
              "      fill: #FFFFFF;\n",
              "    }\n",
              "  </style>\n",
              "\n",
              "      <script>\n",
              "        const buttonEl =\n",
              "          document.querySelector('#df-004f30fa-a324-49f9-af9d-0aaee1322b8e button.colab-df-convert');\n",
              "        buttonEl.style.display =\n",
              "          google.colab.kernel.accessAllowed ? 'block' : 'none';\n",
              "\n",
              "        async function convertToInteractive(key) {\n",
              "          const element = document.querySelector('#df-004f30fa-a324-49f9-af9d-0aaee1322b8e');\n",
              "          const dataTable =\n",
              "            await google.colab.kernel.invokeFunction('convertToInteractive',\n",
              "                                                     [key], {});\n",
              "          if (!dataTable) return;\n",
              "\n",
              "          const docLinkHtml = 'Like what you see? Visit the ' +\n",
              "            '<a target=\"_blank\" href=https://colab.research.google.com/notebooks/data_table.ipynb>data table notebook</a>'\n",
              "            + ' to learn more about interactive tables.';\n",
              "          element.innerHTML = '';\n",
              "          dataTable['output_type'] = 'display_data';\n",
              "          await google.colab.output.renderOutput(dataTable, element);\n",
              "          const docLink = document.createElement('div');\n",
              "          docLink.innerHTML = docLinkHtml;\n",
              "          element.appendChild(docLink);\n",
              "        }\n",
              "      </script>\n",
              "    </div>\n",
              "  </div>\n",
              "  "
            ]
          },
          "metadata": {},
          "execution_count": 71
        }
      ]
    },
    {
      "cell_type": "markdown",
      "source": [
        "**Por tipo de vehículo**"
      ],
      "metadata": {
        "id": "Iq_eXWxUR4rg"
      }
    },
    {
      "cell_type": "code",
      "source": [
        "vehiculomortalidad = df_desc.groupby(df_desc[\"tipo_vehiculo\"])[\"mortalidad\"].sum() / df_desc[\"mortalidad\"].sum() * 100\n",
        "plt.figure(figsize=(10, 5))\n",
        "plot = vehiculomortalidad.plot(kind=\"bar\", title=\"Vehículo en el que más accidentes mortalidad han sucedido\")"
      ],
      "metadata": {
        "id": "nEfNHPh-RY71",
        "colab": {
          "base_uri": "https://localhost:8080/",
          "height": 645
        },
        "outputId": "ec675e51-5f45-4fa5-a7fb-e2396689d8ca"
      },
      "execution_count": null,
      "outputs": [
        {
          "output_type": "display_data",
          "data": {
            "text/plain": [
              "<Figure size 1000x500 with 1 Axes>"
            ],
            "image/png": "[encoded data removed]"
          },
          "metadata": {}
        }
      ]
    },
    {
      "cell_type": "code",
      "source": [
        "vehiculoccidentes = df_desc.groupby(df_desc[\"tipo_vehiculo\"])[\"mortalidad\"].count()\n",
        "plt.figure(figsize=(10, 3))\n",
        "plot = vehiculoccidentes.plot(kind=\"bar\", title=\"Vehículos que más accidentes han tenido\")"
      ],
      "metadata": {
        "id": "3huwtQ7-RY5q",
        "colab": {
          "base_uri": "https://localhost:8080/",
          "height": 491
        },
        "outputId": "f1c210de-c3a9-452e-bcb3-be0ee8cf9a62"
      },
      "execution_count": null,
      "outputs": [
        {
          "output_type": "display_data",
          "data": {
            "text/plain": [
              "<Figure size 1000x300 with 1 Axes>"
            ],
            "image/png": "[encoded data removed]"
          },
          "metadata": {}
        }
      ]
    },
    {
      "cell_type": "markdown",
      "source": [
        "La mayoría de los accidentes se han dado con conductores de coches light-duty (turismos de pasajeros), lo cual era de esperar teniendo en cuenta que la inmensa mayoría de los vehículos que circulan por la carretera."
      ],
      "metadata": {
        "id": "i5HmVfsadHXJ"
      }
    },
    {
      "cell_type": "markdown",
      "source": [
        "**Por antiguedad de vehículo**"
      ],
      "metadata": {
        "id": "o1wgCZV6SBuT"
      }
    },
    {
      "cell_type": "code",
      "source": [
        "antiguedadmortalidad = df_desc.groupby(df_desc[\"año_vehiculo\"])[\"mortalidad\"].sum() / df_desc[\"mortalidad\"].sum() * 100\n",
        "plt.figure(figsize=(30, 5))\n",
        "plot = antiguedadmortalidad.plot(kind=\"bar\", title=\"Vehículos por antiguedad que más accidentes mortales han tenido\")"
      ],
      "metadata": {
        "id": "TZWjmZIsRY2R",
        "colab": {
          "base_uri": "https://localhost:8080/",
          "height": 419
        },
        "outputId": "98f97ad4-8a1e-432f-89d9-2c20f0e5729a"
      },
      "execution_count": null,
      "outputs": [
        {
          "output_type": "display_data",
          "data": {
            "text/plain": [
              "<Figure size 3000x500 with 1 Axes>"
            ],
            "image/png": "[encoded data removed]"
          },
          "metadata": {}
        }
      ]
    },
    {
      "cell_type": "code",
      "source": [
        "antiguedadaccidentes = df_desc.groupby(df_desc[\"año_vehiculo\"])[\"mortalidad\"].count()\n",
        "plt.figure(figsize=(10, 3))\n",
        "plot = antiguedadaccidentes.plot(kind=\"bar\", title=\"Vehículos por antiguedad que más accidentes han tenido\")"
      ],
      "metadata": {
        "id": "AAbtWQPVRY0j",
        "colab": {
          "base_uri": "https://localhost:8080/",
          "height": 368
        },
        "outputId": "da42dccf-bcfa-47c8-a5d0-35990a305487"
      },
      "execution_count": null,
      "outputs": [
        {
          "output_type": "display_data",
          "data": {
            "text/plain": [
              "<Figure size 1000x300 with 1 Axes>"
            ],
            "image/png": "[encoded data removed]"
          },
          "metadata": {}
        }
      ]
    },
    {
      "cell_type": "markdown",
      "source": [
        "En el primer gráfico observamos como los vehículos mas nuevos apenas tienen accidentes mortales, como es de esperar ya que las tencologías en materia de seguridad vial han evolucionado de gran manera.\n",
        "\n",
        "Los vehículos que más accidentes tienen, y lo hacen de forma mucho mayor que el resto, son los vehículos de 1999, Esto puede ser debido a edad promedio del parque de vehículos canadiense que se enceuntre cerca de esa fecha, ya que nos resulta extraño la gran diferencia que hay con el resto de años. Al realizar este gráfico nos esperamos que fuera ascendiento los accidentes en los vehículos mas antiguos, pero esto no ha resultado ser tanto así."
      ],
      "metadata": {
        "id": "avH7T3C2dwkt"
      }
    },
    {
      "cell_type": "markdown",
      "source": [
        "**Por hora del día**"
      ],
      "metadata": {
        "id": "yxTmth3CSMua"
      }
    },
    {
      "cell_type": "code",
      "source": [
        "horamortalidad = df_desc.groupby(df_desc[\"hora\"])[\"mortalidad\"].sum() / df_desc[\"mortalidad\"].sum() * 100\n",
        "plt.figure(figsize=(10, 5))\n",
        "plot = horamortalidad.plot(kind=\"bar\", title=\"Hora más propensa a tener un accidente mortal\")"
      ],
      "metadata": {
        "id": "htLOiPj8RYy_",
        "colab": {
          "base_uri": "https://localhost:8080/",
          "height": 491
        },
        "outputId": "603d5e09-3816-45bc-997c-b65b267816f7"
      },
      "execution_count": null,
      "outputs": [
        {
          "output_type": "display_data",
          "data": {
            "text/plain": [
              "<Figure size 1000x500 with 1 Axes>"
            ],
            "image/png": "[encoded data removed]"
          },
          "metadata": {}
        }
      ]
    },
    {
      "cell_type": "code",
      "source": [
        "horaccidentes = df_desc.groupby(df_desc[\"hora\"])[\"mortalidad\"].count()\n",
        "plt.figure(figsize=(10, 5))\n",
        "plot = horaccidentes.plot(kind=\"bar\", title=\"Horas donde se produjeron más accidentes\")"
      ],
      "metadata": {
        "id": "u_eWEG45RYxF",
        "colab": {
          "base_uri": "https://localhost:8080/",
          "height": 491
        },
        "outputId": "d7cb7a3e-c9b8-46fb-c82b-f34f5caacd71"
      },
      "execution_count": null,
      "outputs": [
        {
          "output_type": "display_data",
          "data": {
            "text/plain": [
              "<Figure size 1000x500 with 1 Axes>"
            ],
            "image/png": "[encoded data removed]"
          },
          "metadata": {}
        }
      ]
    },
    {
      "cell_type": "markdown",
      "source": [
        "En el primer gráfico observamos como La mayor mortalidad se encuentra condensada en la madrugada, ya que tenemos un alto número de accidentes mortales y el nivel de vehículos en movimiento en esas horas es muy bajo.\n",
        "\n",
        "Por otro lado, observamos como la mayoría de accidentes se agrupan en el intervalo horario comprendido entre las 13 y las 19h. Podemos asumir, a grandes rasgos, que se debe a los horarios de salida del trabajo.\n",
        "\n"
      ],
      "metadata": {
        "id": "ug8UX_Ydf_lv"
      }
    },
    {
      "cell_type": "markdown",
      "source": [
        "**Por edad**"
      ],
      "metadata": {
        "id": "tIZuGepSST5n"
      }
    },
    {
      "cell_type": "markdown",
      "source": [
        "Se filtra el data por la columna Rol_Pasajero y las filas que contengan el número 11, ya que este hace referencia a que la persona involucrada en el accidente iba conduciendo"
      ],
      "metadata": {
        "id": "JJC93KH9SeTZ"
      }
    },
    {
      "cell_type": "code",
      "source": [
        "df_desc_conductor = df.loc[df_desc[\"rol_pasajero\"] == 11]\n",
        "df_desc_conductor"
      ],
      "metadata": {
        "id": "tY58MAw1RYvG",
        "colab": {
          "base_uri": "https://localhost:8080/",
          "height": 488
        },
        "outputId": "ec9722b4-df4a-481f-b343-853997892e6d"
      },
      "execution_count": null,
      "outputs": [
        {
          "output_type": "execute_result",
          "data": {
            "text/plain": [
              "        año  mes  dia_mes  hora  mortalidad  numero_vehiculo tipo_accidente  \\\n",
              "4      2014    9        1     7           2              3.0             21   \n",
              "5      2014   12        1     7           2              1.0              4   \n",
              "7      1999    4        6    23           2              1.0              3   \n",
              "8      2002    6        7     9           2              1.0              4   \n",
              "9      2013   12        4    10           2              2.0             21   \n",
              "...     ...  ...      ...   ...         ...              ...            ...   \n",
              "19994  2001    2        2    11           2              2.0             33   \n",
              "19995  2014    7        1    11           2              2.0             21   \n",
              "19996  1999    5        6    13           2              2.0             35   \n",
              "19997  2001    7        5    15           2              2.0             21   \n",
              "19998  2010    8        6     8           2              2.0             35   \n",
              "\n",
              "       lugar_accidente  clima_accidente  estado_superficie  control_trafico  \\\n",
              "4                  1.0              1.0                1.0              1.0   \n",
              "5                  1.0              2.0                5.0             18.0   \n",
              "7                  1.0              1.0                1.0             18.0   \n",
              "8                  1.0              3.0                2.0             18.0   \n",
              "9                  2.0              1.0                1.0              1.0   \n",
              "...                ...              ...                ...              ...   \n",
              "19994              2.0              1.0                3.0             18.0   \n",
              "19995              2.0              1.0                1.0             18.0   \n",
              "19996              2.0              3.0                2.0              4.0   \n",
              "19997              2.0              1.0                1.0              1.0   \n",
              "19998              2.0              1.0                1.0              1.0   \n",
              "\n",
              "       id_vehiculo  tipo_vehiculo  año_vehiculo  id_pasajero  edad_pasajero  \\\n",
              "4                2              1        2001.0            1           36.0   \n",
              "5                1              6        1998.0            1           67.0   \n",
              "7                1              1        1990.0            1           20.0   \n",
              "8                1             14        2000.0            1           57.0   \n",
              "9                1              1        2007.0            1           82.0   \n",
              "...            ...            ...           ...          ...            ...   \n",
              "19994            2              1        1990.0            1           18.0   \n",
              "19995            2              1        2007.0            1           35.0   \n",
              "19996            2              1        1995.0            1           35.0   \n",
              "19997            2              1        1987.0            1           62.0   \n",
              "19998            2              1        2010.0            1           52.0   \n",
              "\n",
              "       rol_pasajero  severidad_pasajero  seguridad_pasajero  tipo_pasajero  \n",
              "4                11                 2.0                   2            1.0  \n",
              "5                11                 2.0                   2            1.0  \n",
              "7                11                 2.0                   1            1.0  \n",
              "8                11                 2.0                   0            5.0  \n",
              "9                11                 1.0                   0            1.0  \n",
              "...             ...                 ...                 ...            ...  \n",
              "19994            11                 2.0                   0            1.0  \n",
              "19995            11                 2.0                   2            1.0  \n",
              "19996            11                 2.0                   2            1.0  \n",
              "19997            11                 2.0                   2            1.0  \n",
              "19998            11                 2.0                   0            1.0  \n",
              "\n",
              "[12543 rows x 20 columns]"
            ],
            "text/html": [
              "\n",
              "  <div id=\"df-d713d83b-3824-45b5-9bb5-62a5c63a9a6f\">\n",
              "    <div class=\"colab-df-container\">\n",
              "      <div>\n",
              "<style scoped>\n",
              "    .dataframe tbody tr th:only-of-type {\n",
              "        vertical-align: middle;\n",
              "    }\n",
              "\n",
              "    .dataframe tbody tr th {\n",
              "        vertical-align: top;\n",
              "    }\n",
              "\n",
              "    .dataframe thead th {\n",
              "        text-align: right;\n",
              "    }\n",
              "</style>\n",
              "<table border=\"1\" class=\"dataframe\">\n",
              "  <thead>\n",
              "    <tr style=\"text-align: right;\">\n",
              "      <th></th>\n",
              "      <th>año</th>\n",
              "      <th>mes</th>\n",
              "      <th>dia_mes</th>\n",
              "      <th>hora</th>\n",
              "      <th>mortalidad</th>\n",
              "      <th>numero_vehiculo</th>\n",
              "      <th>tipo_accidente</th>\n",
              "      <th>lugar_accidente</th>\n",
              "      <th>clima_accidente</th>\n",
              "      <th>estado_superficie</th>\n",
              "      <th>control_trafico</th>\n",
              "      <th>id_vehiculo</th>\n",
              "      <th>tipo_vehiculo</th>\n",
              "      <th>año_vehiculo</th>\n",
              "      <th>id_pasajero</th>\n",
              "      <th>edad_pasajero</th>\n",
              "      <th>rol_pasajero</th>\n",
              "      <th>severidad_pasajero</th>\n",
              "      <th>seguridad_pasajero</th>\n",
              "      <th>tipo_pasajero</th>\n",
              "    </tr>\n",
              "  </thead>\n",
              "  <tbody>\n",
              "    <tr>\n",
              "      <th>4</th>\n",
              "      <td>2014</td>\n",
              "      <td>9</td>\n",
              "      <td>1</td>\n",
              "      <td>7</td>\n",
              "      <td>2</td>\n",
              "      <td>3.0</td>\n",
              "      <td>21</td>\n",
              "      <td>1.0</td>\n",
              "      <td>1.0</td>\n",
              "      <td>1.0</td>\n",
              "      <td>1.0</td>\n",
              "      <td>2</td>\n",
              "      <td>1</td>\n",
              "      <td>2001.0</td>\n",
              "      <td>1</td>\n",
              "      <td>36.0</td>\n",
              "      <td>11</td>\n",
              "      <td>2.0</td>\n",
              "      <td>2</td>\n",
              "      <td>1.0</td>\n",
              "    </tr>\n",
              "    <tr>\n",
              "      <th>5</th>\n",
              "      <td>2014</td>\n",
              "      <td>12</td>\n",
              "      <td>1</td>\n",
              "      <td>7</td>\n",
              "      <td>2</td>\n",
              "      <td>1.0</td>\n",
              "      <td>4</td>\n",
              "      <td>1.0</td>\n",
              "      <td>2.0</td>\n",
              "      <td>5.0</td>\n",
              "      <td>18.0</td>\n",
              "      <td>1</td>\n",
              "      <td>6</td>\n",
              "      <td>1998.0</td>\n",
              "      <td>1</td>\n",
              "      <td>67.0</td>\n",
              "      <td>11</td>\n",
              "      <td>2.0</td>\n",
              "      <td>2</td>\n",
              "      <td>1.0</td>\n",
              "    </tr>\n",
              "    <tr>\n",
              "      <th>7</th>\n",
              "      <td>1999</td>\n",
              "      <td>4</td>\n",
              "      <td>6</td>\n",
              "      <td>23</td>\n",
              "      <td>2</td>\n",
              "      <td>1.0</td>\n",
              "      <td>3</td>\n",
              "      <td>1.0</td>\n",
              "      <td>1.0</td>\n",
              "      <td>1.0</td>\n",
              "      <td>18.0</td>\n",
              "      <td>1</td>\n",
              "      <td>1</td>\n",
              "      <td>1990.0</td>\n",
              "      <td>1</td>\n",
              "      <td>20.0</td>\n",
              "      <td>11</td>\n",
              "      <td>2.0</td>\n",
              "      <td>1</td>\n",
              "      <td>1.0</td>\n",
              "    </tr>\n",
              "    <tr>\n",
              "      <th>8</th>\n",
              "      <td>2002</td>\n",
              "      <td>6</td>\n",
              "      <td>7</td>\n",
              "      <td>9</td>\n",
              "      <td>2</td>\n",
              "      <td>1.0</td>\n",
              "      <td>4</td>\n",
              "      <td>1.0</td>\n",
              "      <td>3.0</td>\n",
              "      <td>2.0</td>\n",
              "      <td>18.0</td>\n",
              "      <td>1</td>\n",
              "      <td>14</td>\n",
              "      <td>2000.0</td>\n",
              "      <td>1</td>\n",
              "      <td>57.0</td>\n",
              "      <td>11</td>\n",
              "      <td>2.0</td>\n",
              "      <td>0</td>\n",
              "      <td>5.0</td>\n",
              "    </tr>\n",
              "    <tr>\n",
              "      <th>9</th>\n",
              "      <td>2013</td>\n",
              "      <td>12</td>\n",
              "      <td>4</td>\n",
              "      <td>10</td>\n",
              "      <td>2</td>\n",
              "      <td>2.0</td>\n",
              "      <td>21</td>\n",
              "      <td>2.0</td>\n",
              "      <td>1.0</td>\n",
              "      <td>1.0</td>\n",
              "      <td>1.0</td>\n",
              "      <td>1</td>\n",
              "      <td>1</td>\n",
              "      <td>2007.0</td>\n",
              "      <td>1</td>\n",
              "      <td>82.0</td>\n",
              "      <td>11</td>\n",
              "      <td>1.0</td>\n",
              "      <td>0</td>\n",
              "      <td>1.0</td>\n",
              "    </tr>\n",
              "    <tr>\n",
              "      <th>...</th>\n",
              "      <td>...</td>\n",
              "      <td>...</td>\n",
              "      <td>...</td>\n",
              "      <td>...</td>\n",
              "      <td>...</td>\n",
              "      <td>...</td>\n",
              "      <td>...</td>\n",
              "      <td>...</td>\n",
              "      <td>...</td>\n",
              "      <td>...</td>\n",
              "      <td>...</td>\n",
              "      <td>...</td>\n",
              "      <td>...</td>\n",
              "      <td>...</td>\n",
              "      <td>...</td>\n",
              "      <td>...</td>\n",
              "      <td>...</td>\n",
              "      <td>...</td>\n",
              "      <td>...</td>\n",
              "      <td>...</td>\n",
              "    </tr>\n",
              "    <tr>\n",
              "      <th>19994</th>\n",
              "      <td>2001</td>\n",
              "      <td>2</td>\n",
              "      <td>2</td>\n",
              "      <td>11</td>\n",
              "      <td>2</td>\n",
              "      <td>2.0</td>\n",
              "      <td>33</td>\n",
              "      <td>2.0</td>\n",
              "      <td>1.0</td>\n",
              "      <td>3.0</td>\n",
              "      <td>18.0</td>\n",
              "      <td>2</td>\n",
              "      <td>1</td>\n",
              "      <td>1990.0</td>\n",
              "      <td>1</td>\n",
              "      <td>18.0</td>\n",
              "      <td>11</td>\n",
              "      <td>2.0</td>\n",
              "      <td>0</td>\n",
              "      <td>1.0</td>\n",
              "    </tr>\n",
              "    <tr>\n",
              "      <th>19995</th>\n",
              "      <td>2014</td>\n",
              "      <td>7</td>\n",
              "      <td>1</td>\n",
              "      <td>11</td>\n",
              "      <td>2</td>\n",
              "      <td>2.0</td>\n",
              "      <td>21</td>\n",
              "      <td>2.0</td>\n",
              "      <td>1.0</td>\n",
              "      <td>1.0</td>\n",
              "      <td>18.0</td>\n",
              "      <td>2</td>\n",
              "      <td>1</td>\n",
              "      <td>2007.0</td>\n",
              "      <td>1</td>\n",
              "      <td>35.0</td>\n",
              "      <td>11</td>\n",
              "      <td>2.0</td>\n",
              "      <td>2</td>\n",
              "      <td>1.0</td>\n",
              "    </tr>\n",
              "    <tr>\n",
              "      <th>19996</th>\n",
              "      <td>1999</td>\n",
              "      <td>5</td>\n",
              "      <td>6</td>\n",
              "      <td>13</td>\n",
              "      <td>2</td>\n",
              "      <td>2.0</td>\n",
              "      <td>35</td>\n",
              "      <td>2.0</td>\n",
              "      <td>3.0</td>\n",
              "      <td>2.0</td>\n",
              "      <td>4.0</td>\n",
              "      <td>2</td>\n",
              "      <td>1</td>\n",
              "      <td>1995.0</td>\n",
              "      <td>1</td>\n",
              "      <td>35.0</td>\n",
              "      <td>11</td>\n",
              "      <td>2.0</td>\n",
              "      <td>2</td>\n",
              "      <td>1.0</td>\n",
              "    </tr>\n",
              "    <tr>\n",
              "      <th>19997</th>\n",
              "      <td>2001</td>\n",
              "      <td>7</td>\n",
              "      <td>5</td>\n",
              "      <td>15</td>\n",
              "      <td>2</td>\n",
              "      <td>2.0</td>\n",
              "      <td>21</td>\n",
              "      <td>2.0</td>\n",
              "      <td>1.0</td>\n",
              "      <td>1.0</td>\n",
              "      <td>1.0</td>\n",
              "      <td>2</td>\n",
              "      <td>1</td>\n",
              "      <td>1987.0</td>\n",
              "      <td>1</td>\n",
              "      <td>62.0</td>\n",
              "      <td>11</td>\n",
              "      <td>2.0</td>\n",
              "      <td>2</td>\n",
              "      <td>1.0</td>\n",
              "    </tr>\n",
              "    <tr>\n",
              "      <th>19998</th>\n",
              "      <td>2010</td>\n",
              "      <td>8</td>\n",
              "      <td>6</td>\n",
              "      <td>8</td>\n",
              "      <td>2</td>\n",
              "      <td>2.0</td>\n",
              "      <td>35</td>\n",
              "      <td>2.0</td>\n",
              "      <td>1.0</td>\n",
              "      <td>1.0</td>\n",
              "      <td>1.0</td>\n",
              "      <td>2</td>\n",
              "      <td>1</td>\n",
              "      <td>2010.0</td>\n",
              "      <td>1</td>\n",
              "      <td>52.0</td>\n",
              "      <td>11</td>\n",
              "      <td>2.0</td>\n",
              "      <td>0</td>\n",
              "      <td>1.0</td>\n",
              "    </tr>\n",
              "  </tbody>\n",
              "</table>\n",
              "<p>12543 rows × 20 columns</p>\n",
              "</div>\n",
              "      <button class=\"colab-df-convert\" onclick=\"convertToInteractive('df-d713d83b-3824-45b5-9bb5-62a5c63a9a6f')\"\n",
              "              title=\"Convert this dataframe to an interactive table.\"\n",
              "              style=\"display:none;\">\n",
              "        \n",
              "  <svg xmlns=\"http://www.w3.org/2000/svg\" height=\"24px\"viewBox=\"0 0 24 24\"\n",
              "       width=\"24px\">\n",
              "    <path d=\"M0 0h24v24H0V0z\" fill=\"none\"/>\n",
              "    <path d=\"M18.56 5.44l.94 2.06.94-2.06 2.06-.94-2.06-.94-.94-2.06-.94 2.06-2.06.94zm-11 1L8.5 8.5l.94-2.06 2.06-.94-2.06-.94L8.5 2.5l-.94 2.06-2.06.94zm10 10l.94 2.06.94-2.06 2.06-.94-2.06-.94-.94-2.06-.94 2.06-2.06.94z\"/><path d=\"M17.41 7.96l-1.37-1.37c-.4-.4-.92-.59-1.43-.59-.52 0-1.04.2-1.43.59L10.3 9.45l-7.72 7.72c-.78.78-.78 2.05 0 2.83L4 21.41c.39.39.9.59 1.41.59.51 0 1.02-.2 1.41-.59l7.78-7.78 2.81-2.81c.8-.78.8-2.07 0-2.86zM5.41 20L4 18.59l7.72-7.72 1.47 1.35L5.41 20z\"/>\n",
              "  </svg>\n",
              "      </button>\n",
              "      \n",
              "  <style>\n",
              "    .colab-df-container {\n",
              "      display:flex;\n",
              "      flex-wrap:wrap;\n",
              "      gap: 12px;\n",
              "    }\n",
              "\n",
              "    .colab-df-convert {\n",
              "      background-color: #E8F0FE;\n",
              "      border: none;\n",
              "      border-radius: 50%;\n",
              "      cursor: pointer;\n",
              "      display: none;\n",
              "      fill: #1967D2;\n",
              "      height: 32px;\n",
              "      padding: 0 0 0 0;\n",
              "      width: 32px;\n",
              "    }\n",
              "\n",
              "    .colab-df-convert:hover {\n",
              "      background-color: #E2EBFA;\n",
              "      box-shadow: 0px 1px 2px rgba(60, 64, 67, 0.3), 0px 1px 3px 1px rgba(60, 64, 67, 0.15);\n",
              "      fill: #174EA6;\n",
              "    }\n",
              "\n",
              "    [theme=dark] .colab-df-convert {\n",
              "      background-color: #3B4455;\n",
              "      fill: #D2E3FC;\n",
              "    }\n",
              "\n",
              "    [theme=dark] .colab-df-convert:hover {\n",
              "      background-color: #434B5C;\n",
              "      box-shadow: 0px 1px 3px 1px rgba(0, 0, 0, 0.15);\n",
              "      filter: drop-shadow(0px 1px 2px rgba(0, 0, 0, 0.3));\n",
              "      fill: #FFFFFF;\n",
              "    }\n",
              "  </style>\n",
              "\n",
              "      <script>\n",
              "        const buttonEl =\n",
              "          document.querySelector('#df-d713d83b-3824-45b5-9bb5-62a5c63a9a6f button.colab-df-convert');\n",
              "        buttonEl.style.display =\n",
              "          google.colab.kernel.accessAllowed ? 'block' : 'none';\n",
              "\n",
              "        async function convertToInteractive(key) {\n",
              "          const element = document.querySelector('#df-d713d83b-3824-45b5-9bb5-62a5c63a9a6f');\n",
              "          const dataTable =\n",
              "            await google.colab.kernel.invokeFunction('convertToInteractive',\n",
              "                                                     [key], {});\n",
              "          if (!dataTable) return;\n",
              "\n",
              "          const docLinkHtml = 'Like what you see? Visit the ' +\n",
              "            '<a target=\"_blank\" href=https://colab.research.google.com/notebooks/data_table.ipynb>data table notebook</a>'\n",
              "            + ' to learn more about interactive tables.';\n",
              "          element.innerHTML = '';\n",
              "          dataTable['output_type'] = 'display_data';\n",
              "          await google.colab.output.renderOutput(dataTable, element);\n",
              "          const docLink = document.createElement('div');\n",
              "          docLink.innerHTML = docLinkHtml;\n",
              "          element.appendChild(docLink);\n",
              "        }\n",
              "      </script>\n",
              "    </div>\n",
              "  </div>\n",
              "  "
            ]
          },
          "metadata": {},
          "execution_count": 78
        }
      ]
    },
    {
      "cell_type": "code",
      "source": [
        "edadmortalidad = df_desc.groupby(df_desc[\"edad_pasajero\"])[\"mortalidad\"].sum() / df_desc[\"mortalidad\"].sum() * 100\n",
        "plt.figure(figsize=(40, 5))\n",
        "plot = edadmortalidad.plot(kind=\"bar\", title=\"Edad conductores más propensa a tener un accidente mortal\")"
      ],
      "metadata": {
        "id": "ZdBBjRkqRYtR",
        "colab": {
          "base_uri": "https://localhost:8080/",
          "height": 310
        },
        "outputId": "e6a117e4-7e0e-42e6-93f9-f14079bddd5c"
      },
      "execution_count": null,
      "outputs": [
        {
          "output_type": "display_data",
          "data": {
            "text/plain": [
              "<Figure size 4000x500 with 1 Axes>"
            ],
            "image/png": "[encoded data removed]"
          },
          "metadata": {}
        }
      ]
    },
    {
      "cell_type": "code",
      "source": [
        "edadaccidentes = df_desc.groupby(df_desc[\"edad_pasajero\"])[\"mortalidad\"].count()\n",
        "plt.figure(figsize=(40, 5))\n",
        "plot = edadaccidentes.plot(kind=\"bar\", title=\"Edad de conductores que tuvieron más accidentes\")"
      ],
      "metadata": {
        "id": "zuCeswpORYq_",
        "colab": {
          "base_uri": "https://localhost:8080/",
          "height": 307
        },
        "outputId": "732283a9-9a4b-4199-c696-f11fa00b4a49"
      },
      "execution_count": null,
      "outputs": [
        {
          "output_type": "display_data",
          "data": {
            "text/plain": [
              "<Figure size 4000x500 with 1 Axes>"
            ],
            "image/png": "[encoded data removed]"
          },
          "metadata": {}
        }
      ]
    },
    {
      "cell_type": "markdown",
      "source": [
        "Los conductores más propensos a tener un accidente mortal son los que tienen entre 18 y 22 años, esto se debe claramente a la inexperiencia de estos conductores noveles en las carreteras y por comportamientos de conducción arriesgados\n",
        "\n",
        "Los conductores que más accidente tiene son los que tienen 37 años, esto puede ser debido a las posibles distracciones y resposabilidades que las personas de esta edad suelen tener y por unn exceso de confianza ea la hora de la conduccion, al haber acumulado ya cierta experiencia"
      ],
      "metadata": {
        "id": "V7MLyb1AhEw6"
      }
    },
    {
      "cell_type": "markdown",
      "source": [
        "**Relación dispositivo de seguridad con accidentes y fallecimiento**"
      ],
      "metadata": {
        "id": "GUu6ryTLSpaR"
      }
    },
    {
      "cell_type": "markdown",
      "source": [
        "Descodificamos los datos de la columna seguridad_pasajero, para que más adelante, al realizar los gráficos aparezca directamente el nombre del tipo de dispositivo de seguridad y no su código."
      ],
      "metadata": {
        "id": "YecUJmyZiMk1"
      }
    },
    {
      "cell_type": "code",
      "source": [
        "df_desc[\"seguridad_pasajero\"] = df_desc[\"seguridad_pasajero\"].replace({1.0:\"No_safety_Device_Used\"})\n",
        "df_desc[\"seguridad_pasajero\"] = df_desc[\"seguridad_pasajero\"].replace({2.0:\"Safety_Device_Used\"})\n",
        "df_desc[\"seguridad_pasajero\"] = df_desc[\"seguridad_pasajero\"].replace({9.0:\"Helmet\"})\n",
        "df_desc[\"seguridad_pasajero\"] = df_desc[\"seguridad_pasajero\"].replace({10.0:\"Reflecting_Clothing\"})\n",
        "df_desc[\"seguridad_pasajero\"] = df_desc[\"seguridad_pasajero\"].replace({11.0:\"Helmet_Reflecting\"})\n",
        "df_desc[\"seguridad_pasajero\"] = df_desc[\"seguridad_pasajero\"].replace({12.0:\"Other\"})\n",
        "df_desc[\"seguridad_pasajero\"] = df_desc[\"seguridad_pasajero\"].replace({13.0:\"No_Safety_Deviced_Equipped\"})\n",
        "df_desc[\"seguridad_pasajero\"] = df_desc[\"seguridad_pasajero\"].replace({0.0:\"No_Info\"})"
      ],
      "metadata": {
        "id": "xWFevUySRYoe"
      },
      "execution_count": null,
      "outputs": []
    },
    {
      "cell_type": "code",
      "source": [
        "seguridadmortalidad = df_desc.groupby(df_desc[\"seguridad_pasajero\"])[\"mortalidad\"].sum() / df_desc[\"mortalidad\"].sum() * 100\n",
        "plt.figure(figsize=(5, 5))\n",
        "plot = seguridadmortalidad.plot(kind=\"bar\", title=\"Dispositivo de Seguridad usado en porcenataje en los accidentes mortales\")"
      ],
      "metadata": {
        "id": "Uwg2xKqzRYZy",
        "colab": {
          "base_uri": "https://localhost:8080/",
          "height": 680
        },
        "outputId": "721b0a56-a4af-4a21-cbdd-5d8a0ec4fb9d"
      },
      "execution_count": null,
      "outputs": [
        {
          "output_type": "display_data",
          "data": {
            "text/plain": [
              "<Figure size 500x500 with 1 Axes>"
            ],
            "image/png": "[encoded data removed]"
          },
          "metadata": {}
        }
      ]
    },
    {
      "cell_type": "code",
      "source": [
        "seguridadaccidentes = df_desc.groupby(df_desc[\"seguridad_pasajero\"])[\"mortalidad\"].count()\n",
        "plt.figure(figsize=(10, 5))\n",
        "plot = seguridadaccidentes.plot(kind=\"bar\", title=\"Dispositivo de seguridad usado por accidentes\")"
      ],
      "metadata": {
        "id": "5bOVeF7bRkIF",
        "colab": {
          "base_uri": "https://localhost:8080/",
          "height": 680
        },
        "outputId": "24540b15-4602-4764-a1ff-f06724ebd58b"
      },
      "execution_count": null,
      "outputs": [
        {
          "output_type": "display_data",
          "data": {
            "text/plain": [
              "<Figure size 1000x500 with 1 Axes>"
            ],
            "image/png": "[encoded data removed]"
          },
          "metadata": {}
        }
      ]
    },
    {
      "cell_type": "markdown",
      "source": [
        "Es interesante observar como en los casos en los que no se utilizan dispositivo de seguridad, es mucho mayor para los casos mortales que para los accidentes en general, esto nos indica que exista una relación directa y entre los accidentes en los que finalmente acaba falleciendo alguie, y el no llevar ningun dispositivo de seguridad"
      ],
      "metadata": {
        "id": "pfPU3U0mifIE"
      }
    },
    {
      "cell_type": "markdown",
      "source": [
        "**Estudio del impacto del clima y festividades en los accidentes**\n",
        "\n",
        "\n",
        "\n"
      ],
      "metadata": {
        "id": "ZVjJVNuG48EZ"
      }
    },
    {
      "cell_type": "code",
      "source": [
        "df_desc[\"clima_accidente\"] = df_desc[\"clima_accidente\"].replace({1.0:\"Clear and sunny\"})\n",
        "df_desc[\"clima_accidente\"] = df_desc[\"clima_accidente\"].replace({2.0:\"Overcast, cloudy but no precipitation\"})\n",
        "df_desc[\"clima_accidente\"] = df_desc[\"clima_accidente\"].replace({3.0:\"Rainning\"})\n",
        "df_desc[\"clima_accidente\"] = df_desc[\"clima_accidente\"].replace({4.0:\"Snowing\"})\n",
        "df_desc[\"clima_accidente\"] = df_desc[\"clima_accidente\"].replace({5.0:\"Freezing rain / hail\"})\n",
        "df_desc[\"clima_accidente\"] = df_desc[\"clima_accidente\"].replace({6.0:\"Visibility limitation\"})\n",
        "df_desc[\"clima_accidente\"] = df_desc[\"clima_accidente\"].replace({7.0:\"Strong wind\"})"
      ],
      "metadata": {
        "id": "TvDAtO_R7wxS"
      },
      "execution_count": null,
      "outputs": []
    },
    {
      "cell_type": "code",
      "source": [
        "clima_mortalidad  = df_desc.groupby('clima_accidente')['mortalidad'].value_counts(normalize=True).unstack()"
      ],
      "metadata": {
        "id": "buaSTxnL7e--"
      },
      "execution_count": null,
      "outputs": []
    },
    {
      "cell_type": "code",
      "source": [
        "clima_mortalidad.plot(kind='bar', stacked=True)\n",
        "\n",
        "plt.xlabel('Tipo de clima')\n",
        "plt.ylabel('Proporción de accidentes')\n",
        "plt.title('Impacto del clima en la mortalidad')\n",
        "plt.legend(['No fatal', 'Fatal'])\n",
        "\n",
        "plt.show()"
      ],
      "metadata": {
        "colab": {
          "base_uri": "https://localhost:8080/",
          "height": 716
        },
        "id": "YrB1OgHr7otl",
        "outputId": "2671074a-d705-427f-842a-0bd2bb075ad9"
      },
      "execution_count": null,
      "outputs": [
        {
          "output_type": "display_data",
          "data": {
            "text/plain": [
              "<Figure size 640x480 with 1 Axes>"
            ],
            "image/png": "[encoded data removed]"
          },
          "metadata": {}
        }
      ]
    },
    {
      "cell_type": "markdown",
      "source": [
        "En este gráfico podemos observar como el clima tiene un gran impacto en la severidad de los accidentes. Por un lado, el clima que menos proporción de accidentes severos tiene es el clima despejado. Por otro lado, la situación metereológica que más accidentes severos acumula es la visibilidad limitada y el granizo."
      ],
      "metadata": {
        "id": "6kJlUvPA97kf"
      }
    },
    {
      "cell_type": "markdown",
      "source": [
        "A continuación estudiaremos el impacto de las festividades en el número de accidentes. Nuestra hipotesis inicial es que esperamos que en las épocas del año donde haya vacaciones, es decir verano (de mayo a agosto) y navidades (diciembre y enero) sean los meses donde más accidentes haya."
      ],
      "metadata": {
        "id": "zvGirBG5AJba"
      }
    },
    {
      "cell_type": "code",
      "source": [
        "accidentes_por_mes = df_desc['mes'].value_counts().sort_index()\n",
        "\n",
        "plt.plot(accidentes_por_mes.index, accidentes_por_mes.values, marker='o')\n",
        "\n",
        "#  el gráfico\n",
        "plt.xlabel('Mes')\n",
        "plt.ylabel('Número de accidentes')\n",
        "plt.title('Impacto de las vacaciones en el número de accidentes')\n",
        "plt.xticks(range(1, 13))\n",
        "plt.grid(True)\n",
        "\n",
        "plt.show()"
      ],
      "metadata": {
        "colab": {
          "base_uri": "https://localhost:8080/",
          "height": 472
        },
        "id": "RulctG6P_Lv_",
        "outputId": "30a59f95-7ec4-429c-f80e-8f9d18395581"
      },
      "execution_count": null,
      "outputs": [
        {
          "output_type": "display_data",
          "data": {
            "text/plain": [
              "<Figure size 640x480 with 1 Axes>"
            ],
            "image/png": "[encoded data removed]"
          },
          "metadata": {}
        }
      ]
    },
    {
      "cell_type": "markdown",
      "source": [
        "Con este gráfico podemos confirmar nuestra hipóteses ya que, como podemos apreciar, desde el mes de junio hasta septiembre es la época donde más accidentes ocurren. Desde septiembre hasta enero van disminuyendo y es a partir de enero donde se produce un descenso muy significativo. "
      ],
      "metadata": {
        "id": "bkIhPWFaAqjb"
      }
    },
    {
      "cell_type": "markdown",
      "source": [
        "## ELECCIÓN DE MODELOS"
      ],
      "metadata": {
        "id": "YxqCk17jRbE5"
      }
    },
    {
      "cell_type": "code",
      "execution_count": null,
      "metadata": {
        "id": "4L_2GCCCguun"
      },
      "outputs": [],
      "source": [
        "xtrain, xtest, ytrain, ytest = train_test_split(df.drop(columns=['mortalidad']), df['mortalidad'], test_size=0.20, random_state=0)"
      ]
    },
    {
      "cell_type": "code",
      "execution_count": null,
      "metadata": {
        "id": "zbTrArNRhI7n"
      },
      "outputs": [],
      "source": [
        "scaler = StandardScaler()\n",
        "x_train_scaled = scaler.fit_transform(xtrain)\n",
        "x_test_scaled = scaler.transform(xtest)"
      ]
    },
    {
      "cell_type": "markdown",
      "source": [
        "Separación comun para todos los modelos del dataset en train y test, y escalado de los datos\n",
        "\n"
      ],
      "metadata": {
        "id": "Y1x64NKtAh-m"
      }
    },
    {
      "cell_type": "code",
      "execution_count": null,
      "metadata": {
        "id": "w1NpbbnNAxKe"
      },
      "outputs": [],
      "source": [
        "xtrain, xtest, ytrain, ytest = train_test_split(df.drop(columns=['mortalidad']), df['mortalidad'], test_size=0.20, random_state=0)"
      ]
    },
    {
      "cell_type": "code",
      "execution_count": null,
      "metadata": {
        "id": "kuTzzrY0AxKf"
      },
      "outputs": [],
      "source": [
        "scaler = StandardScaler()\n",
        "x_train_scaled = scaler.fit_transform(xtrain)\n",
        "x_test_scaled = scaler.transform(xtest)"
      ]
    },
    {
      "cell_type": "markdown",
      "source": [
        "**RANDOM FOREST**"
      ],
      "metadata": {
        "id": "3VKFr7uNa_Pl"
      }
    },
    {
      "cell_type": "code",
      "execution_count": null,
      "metadata": {
        "id": "ERGip3qwAxKf",
        "colab": {
          "base_uri": "https://localhost:8080/",
          "height": 75
        },
        "outputId": "ac92408a-8599-4463-b17f-8737b8b2721f"
      },
      "outputs": [
        {
          "output_type": "execute_result",
          "data": {
            "text/plain": [
              "RandomForestClassifier(random_state=42)"
            ],
            "text/html": [
              "<style>#sk-container-id-2 {color: black;background-color: white;}#sk-container-id-2 pre{padding: 0;}#sk-container-id-2 div.sk-toggleable {background-color: white;}#sk-container-id-2 label.sk-toggleable__label {cursor: pointer;display: block;width: 100%;margin-bottom: 0;padding: 0.3em;box-sizing: border-box;text-align: center;}#sk-container-id-2 label.sk-toggleable__label-arrow:before {content: \"▸\";float: left;margin-right: 0.25em;color: #696969;}#sk-container-id-2 label.sk-toggleable__label-arrow:hover:before {color: black;}#sk-container-id-2 div.sk-estimator:hover label.sk-toggleable__label-arrow:before {color: black;}#sk-container-id-2 div.sk-toggleable__content {max-height: 0;max-width: 0;overflow: hidden;text-align: left;background-color: #f0f8ff;}#sk-container-id-2 div.sk-toggleable__content pre {margin: 0.2em;color: black;border-radius: 0.25em;background-color: #f0f8ff;}#sk-container-id-2 input.sk-toggleable__control:checked~div.sk-toggleable__content {max-height: 200px;max-width: 100%;overflow: auto;}#sk-container-id-2 input.sk-toggleable__control:checked~label.sk-toggleable__label-arrow:before {content: \"▾\";}#sk-container-id-2 div.sk-estimator input.sk-toggleable__control:checked~label.sk-toggleable__label {background-color: #d4ebff;}#sk-container-id-2 div.sk-label input.sk-toggleable__control:checked~label.sk-toggleable__label {background-color: #d4ebff;}#sk-container-id-2 input.sk-hidden--visually {border: 0;clip: rect(1px 1px 1px 1px);clip: rect(1px, 1px, 1px, 1px);height: 1px;margin: -1px;overflow: hidden;padding: 0;position: absolute;width: 1px;}#sk-container-id-2 div.sk-estimator {font-family: monospace;background-color: #f0f8ff;border: 1px dotted black;border-radius: 0.25em;box-sizing: border-box;margin-bottom: 0.5em;}#sk-container-id-2 div.sk-estimator:hover {background-color: #d4ebff;}#sk-container-id-2 div.sk-parallel-item::after {content: \"\";width: 100%;border-bottom: 1px solid gray;flex-grow: 1;}#sk-container-id-2 div.sk-label:hover label.sk-toggleable__label {background-color: #d4ebff;}#sk-container-id-2 div.sk-serial::before {content: \"\";position: absolute;border-left: 1px solid gray;box-sizing: border-box;top: 0;bottom: 0;left: 50%;z-index: 0;}#sk-container-id-2 div.sk-serial {display: flex;flex-direction: column;align-items: center;background-color: white;padding-right: 0.2em;padding-left: 0.2em;position: relative;}#sk-container-id-2 div.sk-item {position: relative;z-index: 1;}#sk-container-id-2 div.sk-parallel {display: flex;align-items: stretch;justify-content: center;background-color: white;position: relative;}#sk-container-id-2 div.sk-item::before, #sk-container-id-2 div.sk-parallel-item::before {content: \"\";position: absolute;border-left: 1px solid gray;box-sizing: border-box;top: 0;bottom: 0;left: 50%;z-index: -1;}#sk-container-id-2 div.sk-parallel-item {display: flex;flex-direction: column;z-index: 1;position: relative;background-color: white;}#sk-container-id-2 div.sk-parallel-item:first-child::after {align-self: flex-end;width: 50%;}#sk-container-id-2 div.sk-parallel-item:last-child::after {align-self: flex-start;width: 50%;}#sk-container-id-2 div.sk-parallel-item:only-child::after {width: 0;}#sk-container-id-2 div.sk-dashed-wrapped {border: 1px dashed gray;margin: 0 0.4em 0.5em 0.4em;box-sizing: border-box;padding-bottom: 0.4em;background-color: white;}#sk-container-id-2 div.sk-label label {font-family: monospace;font-weight: bold;display: inline-block;line-height: 1.2em;}#sk-container-id-2 div.sk-label-container {text-align: center;}#sk-container-id-2 div.sk-container {/* jupyter's `normalize.less` sets `[hidden] { display: none; }` but bootstrap.min.css set `[hidden] { display: none !important; }` so we also need the `!important` here to be able to override the default hidden behavior on the sphinx rendered scikit-learn.org. See: https://github.com/scikit-learn/scikit-learn/issues/21755 */display: inline-block !important;position: relative;}#sk-container-id-2 div.sk-text-repr-fallback {display: none;}</style><div id=\"sk-container-id-2\" class=\"sk-top-container\"><div class=\"sk-text-repr-fallback\"><pre>RandomForestClassifier(random_state=42)</pre><b>In a Jupyter environment, please rerun this cell to show the HTML representation or trust the notebook. <br />On GitHub, the HTML representation is unable to render, please try loading this page with nbviewer.org.</b></div><div class=\"sk-container\" hidden><div class=\"sk-item\"><div class=\"sk-estimator sk-toggleable\"><input class=\"sk-toggleable__control sk-hidden--visually\" id=\"sk-estimator-id-2\" type=\"checkbox\" checked><label for=\"sk-estimator-id-2\" class=\"sk-toggleable__label sk-toggleable__label-arrow\">RandomForestClassifier</label><div class=\"sk-toggleable__content\"><pre>RandomForestClassifier(random_state=42)</pre></div></div></div></div></div>"
            ]
          },
          "metadata": {},
          "execution_count": 92
        }
      ],
      "source": [
        "rf = RandomForestClassifier(random_state=42)\n",
        "rf.fit(x_train_scaled, ytrain)"
      ]
    },
    {
      "cell_type": "code",
      "execution_count": null,
      "metadata": {
        "id": "V8GcBFzwAxKg"
      },
      "outputs": [],
      "source": [
        "ypred_rf = rf.predict(x_test_scaled)"
      ]
    },
    {
      "cell_type": "code",
      "execution_count": null,
      "metadata": {
        "id": "_YH_wJ5rAxKg"
      },
      "outputs": [],
      "source": [
        "y_pred_proba_rf = rf.predict_proba(x_test_scaled)"
      ]
    },
    {
      "cell_type": "code",
      "source": [
        "print('ROC-AUC score of the model: {}'.format(roc_auc_score(ytest, y_pred_proba_rf[:, 1])))\n",
        "print('Accuracy of the model: {}\\n'.format(accuracy_score(ytest, ypred_rf)))\n",
        "print('Classification report: \\n{}\\n'.format(classification_report(ytest, ypred_rf)))\n",
        "print('Confusion matrix: \\n{}\\n'.format(confusion_matrix(ytest, ypred_rf)))\n",
        "print('Confusion matrix normalizada: \\n{}\\n'.format((confusion_matrix(ytest, ypred_rf))/np.sum(confusion_matrix(ytest, ypred_rf),axis = 1).reshape(-1,1),2))"
      ],
      "metadata": {
        "id": "kl0nmRDHA3x1",
        "colab": {
          "base_uri": "https://localhost:8080/"
        },
        "outputId": "ff081925-a67b-4c4f-cfb1-8f828d74ecf8"
      },
      "execution_count": null,
      "outputs": [
        {
          "output_type": "stream",
          "name": "stdout",
          "text": [
            "ROC-AUC score of the model: 0.8340005453373655\n",
            "Accuracy of the model: 0.9915588069780529\n",
            "\n",
            "Classification report: \n",
            "              precision    recall  f1-score   support\n",
            "\n",
            "           1       1.00      0.35      0.52        46\n",
            "           2       0.99      1.00      1.00      3508\n",
            "\n",
            "    accuracy                           0.99      3554\n",
            "   macro avg       1.00      0.67      0.76      3554\n",
            "weighted avg       0.99      0.99      0.99      3554\n",
            "\n",
            "\n",
            "Confusion matrix: \n",
            "[[  16   30]\n",
            " [   0 3508]]\n",
            "\n",
            "Confusion matrix normalizada: \n",
            "[[0.34782609 0.65217391]\n",
            " [0.         1.        ]]\n",
            "\n"
          ]
        }
      ]
    },
    {
      "cell_type": "markdown",
      "source": [
        "**AJUSTE UMBRAL**"
      ],
      "metadata": {
        "id": "ExnTIo42_15x"
      }
    },
    {
      "cell_type": "code",
      "source": [
        "#DE ESTA FORMA SE AJUSTA EL UMBRAL DE PREDICCIÓN DE FORMA MANUAL, DE LA OTRA FORMA DE MAS ABAJO ESTAMOS BUSCANDO EL PUTNO MAS OPTIMO\n",
        "\n",
        "# Definir el umbral personalizado\n",
        "#threshold = 0.6\n",
        "\n",
        "# Aplicar el umbral a las probabilidades de predicción\n",
        "#y_pred_threshold = (y_pred_proba_rf[:, 1] >= threshold).astype(int)\n",
        "\n",
        "# Imprimir métricas con el umbral ajustado\n",
        "#print('Accuracy with threshold {}: {}'.format(threshold, accuracy_score(ytest, y_pred_threshold)))\n",
        "#print('Classification report with threshold {}: \\n{}'.format(threshold, classification_report(ytest, y_pred_threshold)))\n",
        "#print('Confusion matrix with threshold {}: \\n{}'.format(threshold, confusion_matrix(ytest, y_pred_threshold)))\n"
      ],
      "metadata": {
        "id": "eGo-JST50cCN"
      },
      "execution_count": null,
      "outputs": []
    },
    {
      "cell_type": "code",
      "source": [
        "#AJUSTAMOS EL UMBRAL DE PREDICCIÓN\n",
        "\n",
        "from sklearn.preprocessing import LabelEncoder\n",
        "# Convertir las etiquetas de clase a {0, 1}\n",
        "le = LabelEncoder()\n",
        "ytest_encoded = le.fit_transform(ytest)"
      ],
      "metadata": {
        "id": "oTKLsSQz4JB8"
      },
      "execution_count": null,
      "outputs": []
    },
    {
      "cell_type": "code",
      "source": [
        "yhat = y_pred_proba_rf[:, 1]\n",
        "fpr, tpr, thresholds = roc_curve(ytest_encoded, yhat)\n",
        "gmeans = np.sqrt(tpr * (1-fpr))\n",
        "ix = np.argmax(gmeans)\n",
        "print('Best Threshold=%f, G-Mean=%.3f' % (thresholds[ix], gmeans[ix]))\n",
        "\n",
        "ypred_new_threshold = (y_pred_proba_rf[:,1]>thresholds[ix]).astype(int)"
      ],
      "metadata": {
        "id": "MvW-XYevwSjA",
        "colab": {
          "base_uri": "https://localhost:8080/"
        },
        "outputId": "bc346119-f80d-4d42-ae8b-fd00d79be66c"
      },
      "execution_count": null,
      "outputs": [
        {
          "output_type": "stream",
          "name": "stdout",
          "text": [
            "Best Threshold=0.970000, G-Mean=0.788\n"
          ]
        }
      ]
    },
    {
      "cell_type": "code",
      "source": [
        "# Imprimir métricas con el umbral ajustado\n",
        "print('Accuracy with threshold {}: {}'.format(thresholds[ix], accuracy_score(ytest, ypred_new_threshold)))\n",
        "print('Classification report with threshold {}: \\n{}'.format(thresholds[ix], classification_report(ytest, ypred_new_threshold)))\n",
        "print('Confusion matrix with threshold {}: \\n{}'.format(thresholds[ix], confusion_matrix(ytest, ypred_new_threshold)))\n"
      ],
      "metadata": {
        "id": "IqdEPozp90PM",
        "colab": {
          "base_uri": "https://localhost:8080/"
        },
        "outputId": "173ab29a-2576-440f-8824-5d0198a9f52e"
      },
      "execution_count": null,
      "outputs": [
        {
          "output_type": "stream",
          "name": "stdout",
          "text": [
            "Accuracy with threshold 0.97: 0.0033764772087788407\n",
            "Classification report with threshold 0.97: \n",
            "              precision    recall  f1-score   support\n",
            "\n",
            "           0       0.00      0.00      0.00         0\n",
            "           1       0.00      0.26      0.01        46\n",
            "           2       0.00      0.00      0.00      3508\n",
            "\n",
            "    accuracy                           0.00      3554\n",
            "   macro avg       0.00      0.09      0.00      3554\n",
            "weighted avg       0.00      0.00      0.00      3554\n",
            "\n",
            "Confusion matrix with threshold 0.97: \n",
            "[[   0    0    0]\n",
            " [  34   12    0]\n",
            " [ 581 2927    0]]\n"
          ]
        }
      ]
    },
    {
      "cell_type": "markdown",
      "source": [
        "**OVERFITTING**"
      ],
      "metadata": {
        "id": "J6o3sW7zBHSu"
      }
    },
    {
      "cell_type": "code",
      "source": [
        "ytrain_encoded = le.fit_transform(ytrain)"
      ],
      "metadata": {
        "id": "MBedJUgCBf40"
      },
      "execution_count": null,
      "outputs": []
    },
    {
      "cell_type": "code",
      "source": [
        "ypred = rf.predict(xtrain)\n",
        "ypred_proba = rf.predict_proba(xtrain)\n",
        "\n",
        "\n",
        "yhat = ypred_proba[:, 1]\n",
        "\n",
        "fpr, tpr, thresholds = roc_curve(ytrain_encoded, yhat)\n",
        "\n",
        "gmeans = np.sqrt(tpr * (1-fpr))\n",
        "\n",
        "ix = np.argmax(gmeans)\n",
        "print('Best Threshold=%f, G-Mean=%.3f' % (thresholds[ix], gmeans[ix]))\n",
        "\n",
        "ypred_new_threshold = (ypred_proba[:,1]>thresholds[ix]).astype(int)\n",
        "#evaluate_model(ytrain,ypred_new_threshold,ypred_proba)"
      ],
      "metadata": {
        "id": "kzgR0A9GBGOg",
        "colab": {
          "base_uri": "https://localhost:8080/"
        },
        "outputId": "609aa238-dfb4-4770-ec2b-40c5f28f9e94"
      },
      "execution_count": null,
      "outputs": [
        {
          "output_type": "stream",
          "name": "stdout",
          "text": [
            "Best Threshold=0.610000, G-Mean=0.583\n"
          ]
        }
      ]
    },
    {
      "cell_type": "markdown",
      "source": [
        "Tras intentarlo de manera exhaustiva, no conseguimos que nos funcione el ajuste del umbral ni la comprobación del overfitting. Si no se puede ajustar el umbral de clasificación o estudiar el overfitting, puede haber algunas consecuencias importantes. Podría ser difícil equilibrar la precisión y la exhaustividad del modelo, lo que afectaría la capacidad de hacer predicciones precisas. Además, si hay clases desbalanceadas en los datos, el modelo podría favorecer la clase mayoritaria y no capturar bien la clase minoritaria. Interpretar las predicciones también sería más complicado, ya que el umbral no se puede ajustar para equilibrar los errores. Por último, el modelo podría tener dificultades para generalizar correctamente a nuevos datos, lo que afectaría su rendimiento en situaciones del mundo real."
      ],
      "metadata": {
        "id": "S71Nj04LJBsi"
      }
    },
    {
      "cell_type": "markdown",
      "source": [
        " **REGRESIÓN LOGISTICA** \n",
        "\n"
      ],
      "metadata": {
        "id": "q0OWy21eM5K6"
      }
    },
    {
      "cell_type": "code",
      "source": [
        "lr = LogisticRegression(random_state=42)\n",
        "lr.fit(x_train_scaled, ytrain)"
      ],
      "metadata": {
        "colab": {
          "base_uri": "https://localhost:8080/",
          "height": 75
        },
        "id": "NmGw6CJONFxY",
        "outputId": "491a7052-870e-4ae0-b419-e35ac9182caa"
      },
      "execution_count": null,
      "outputs": [
        {
          "output_type": "execute_result",
          "data": {
            "text/plain": [
              "LogisticRegression(random_state=42)"
            ],
            "text/html": [
              "<style>#sk-container-id-3 {color: black;background-color: white;}#sk-container-id-3 pre{padding: 0;}#sk-container-id-3 div.sk-toggleable {background-color: white;}#sk-container-id-3 label.sk-toggleable__label {cursor: pointer;display: block;width: 100%;margin-bottom: 0;padding: 0.3em;box-sizing: border-box;text-align: center;}#sk-container-id-3 label.sk-toggleable__label-arrow:before {content: \"▸\";float: left;margin-right: 0.25em;color: #696969;}#sk-container-id-3 label.sk-toggleable__label-arrow:hover:before {color: black;}#sk-container-id-3 div.sk-estimator:hover label.sk-toggleable__label-arrow:before {color: black;}#sk-container-id-3 div.sk-toggleable__content {max-height: 0;max-width: 0;overflow: hidden;text-align: left;background-color: #f0f8ff;}#sk-container-id-3 div.sk-toggleable__content pre {margin: 0.2em;color: black;border-radius: 0.25em;background-color: #f0f8ff;}#sk-container-id-3 input.sk-toggleable__control:checked~div.sk-toggleable__content {max-height: 200px;max-width: 100%;overflow: auto;}#sk-container-id-3 input.sk-toggleable__control:checked~label.sk-toggleable__label-arrow:before {content: \"▾\";}#sk-container-id-3 div.sk-estimator input.sk-toggleable__control:checked~label.sk-toggleable__label {background-color: #d4ebff;}#sk-container-id-3 div.sk-label input.sk-toggleable__control:checked~label.sk-toggleable__label {background-color: #d4ebff;}#sk-container-id-3 input.sk-hidden--visually {border: 0;clip: rect(1px 1px 1px 1px);clip: rect(1px, 1px, 1px, 1px);height: 1px;margin: -1px;overflow: hidden;padding: 0;position: absolute;width: 1px;}#sk-container-id-3 div.sk-estimator {font-family: monospace;background-color: #f0f8ff;border: 1px dotted black;border-radius: 0.25em;box-sizing: border-box;margin-bottom: 0.5em;}#sk-container-id-3 div.sk-estimator:hover {background-color: #d4ebff;}#sk-container-id-3 div.sk-parallel-item::after {content: \"\";width: 100%;border-bottom: 1px solid gray;flex-grow: 1;}#sk-container-id-3 div.sk-label:hover label.sk-toggleable__label {background-color: #d4ebff;}#sk-container-id-3 div.sk-serial::before {content: \"\";position: absolute;border-left: 1px solid gray;box-sizing: border-box;top: 0;bottom: 0;left: 50%;z-index: 0;}#sk-container-id-3 div.sk-serial {display: flex;flex-direction: column;align-items: center;background-color: white;padding-right: 0.2em;padding-left: 0.2em;position: relative;}#sk-container-id-3 div.sk-item {position: relative;z-index: 1;}#sk-container-id-3 div.sk-parallel {display: flex;align-items: stretch;justify-content: center;background-color: white;position: relative;}#sk-container-id-3 div.sk-item::before, #sk-container-id-3 div.sk-parallel-item::before {content: \"\";position: absolute;border-left: 1px solid gray;box-sizing: border-box;top: 0;bottom: 0;left: 50%;z-index: -1;}#sk-container-id-3 div.sk-parallel-item {display: flex;flex-direction: column;z-index: 1;position: relative;background-color: white;}#sk-container-id-3 div.sk-parallel-item:first-child::after {align-self: flex-end;width: 50%;}#sk-container-id-3 div.sk-parallel-item:last-child::after {align-self: flex-start;width: 50%;}#sk-container-id-3 div.sk-parallel-item:only-child::after {width: 0;}#sk-container-id-3 div.sk-dashed-wrapped {border: 1px dashed gray;margin: 0 0.4em 0.5em 0.4em;box-sizing: border-box;padding-bottom: 0.4em;background-color: white;}#sk-container-id-3 div.sk-label label {font-family: monospace;font-weight: bold;display: inline-block;line-height: 1.2em;}#sk-container-id-3 div.sk-label-container {text-align: center;}#sk-container-id-3 div.sk-container {/* jupyter's `normalize.less` sets `[hidden] { display: none; }` but bootstrap.min.css set `[hidden] { display: none !important; }` so we also need the `!important` here to be able to override the default hidden behavior on the sphinx rendered scikit-learn.org. See: https://github.com/scikit-learn/scikit-learn/issues/21755 */display: inline-block !important;position: relative;}#sk-container-id-3 div.sk-text-repr-fallback {display: none;}</style><div id=\"sk-container-id-3\" class=\"sk-top-container\"><div class=\"sk-text-repr-fallback\"><pre>LogisticRegression(random_state=42)</pre><b>In a Jupyter environment, please rerun this cell to show the HTML representation or trust the notebook. <br />On GitHub, the HTML representation is unable to render, please try loading this page with nbviewer.org.</b></div><div class=\"sk-container\" hidden><div class=\"sk-item\"><div class=\"sk-estimator sk-toggleable\"><input class=\"sk-toggleable__control sk-hidden--visually\" id=\"sk-estimator-id-3\" type=\"checkbox\" checked><label for=\"sk-estimator-id-3\" class=\"sk-toggleable__label sk-toggleable__label-arrow\">LogisticRegression</label><div class=\"sk-toggleable__content\"><pre>LogisticRegression(random_state=42)</pre></div></div></div></div></div>"
            ]
          },
          "metadata": {},
          "execution_count": 102
        }
      ]
    },
    {
      "cell_type": "code",
      "source": [
        "ypred_lr = lr.predict(x_test_scaled)"
      ],
      "metadata": {
        "id": "UxswO4pBNWTj"
      },
      "execution_count": null,
      "outputs": []
    },
    {
      "cell_type": "code",
      "source": [
        "y_pred_proba_lr = lr.predict_proba(x_test_scaled)"
      ],
      "metadata": {
        "id": "Udkw5ZoHNXcL"
      },
      "execution_count": null,
      "outputs": []
    },
    {
      "cell_type": "code",
      "source": [
        "print('ROC-AUC score of the model: {}'.format(roc_auc_score(ytest, y_pred_proba_lr[:, 1])))\n",
        "print('Accuracy of the model: {}\\n'.format(accuracy_score(ytest, ypred_lr)))\n",
        "print('Classification report: \\n{}\\n'.format(classification_report(ytest, ypred_lr)))\n",
        "print('Confusion matrix: \\n{}\\n'.format(confusion_matrix(ytest, ypred_lr)))\n",
        "print('Confusion matrix normalizada: \\n{}\\n'.format((confusion_matrix(ytest, ypred_lr))/np.sum(confusion_matrix(ytest, ypred_lr),axis = 1).reshape(-1,1),2))"
      ],
      "metadata": {
        "colab": {
          "base_uri": "https://localhost:8080/"
        },
        "id": "uaca1gqSNf9E",
        "outputId": "f11f8ab9-5a77-470f-8619-f3b6e4f417fa"
      },
      "execution_count": null,
      "outputs": [
        {
          "output_type": "stream",
          "name": "stdout",
          "text": [
            "ROC-AUC score of the model: 0.7870457587625799\n",
            "Accuracy of the model: 0.9884637028700056\n",
            "\n",
            "Classification report: \n",
            "              precision    recall  f1-score   support\n",
            "\n",
            "           1       1.00      0.11      0.20        46\n",
            "           2       0.99      1.00      0.99      3508\n",
            "\n",
            "    accuracy                           0.99      3554\n",
            "   macro avg       0.99      0.55      0.60      3554\n",
            "weighted avg       0.99      0.99      0.98      3554\n",
            "\n",
            "\n",
            "Confusion matrix: \n",
            "[[   5   41]\n",
            " [   0 3508]]\n",
            "\n",
            "Confusion matrix normalizada: \n",
            "[[0.10869565 0.89130435]\n",
            " [0.         1.        ]]\n",
            "\n"
          ]
        }
      ]
    },
    {
      "cell_type": "markdown",
      "source": [
        "**KNN**"
      ],
      "metadata": {
        "id": "sF3ZsbcMnyDR"
      }
    },
    {
      "cell_type": "code",
      "source": [
        "knn = KNeighborsClassifier(n_neighbors=5)\n",
        "knn.fit(x_train_scaled, ytrain)"
      ],
      "metadata": {
        "colab": {
          "base_uri": "https://localhost:8080/",
          "height": 75
        },
        "id": "5c9uOdlOOCkK",
        "outputId": "dd3b4eaf-5a42-4c88-b93c-4df8f1ee87e7"
      },
      "execution_count": null,
      "outputs": [
        {
          "output_type": "execute_result",
          "data": {
            "text/plain": [
              "KNeighborsClassifier()"
            ],
            "text/html": [
              "<style>#sk-container-id-4 {color: black;background-color: white;}#sk-container-id-4 pre{padding: 0;}#sk-container-id-4 div.sk-toggleable {background-color: white;}#sk-container-id-4 label.sk-toggleable__label {cursor: pointer;display: block;width: 100%;margin-bottom: 0;padding: 0.3em;box-sizing: border-box;text-align: center;}#sk-container-id-4 label.sk-toggleable__label-arrow:before {content: \"▸\";float: left;margin-right: 0.25em;color: #696969;}#sk-container-id-4 label.sk-toggleable__label-arrow:hover:before {color: black;}#sk-container-id-4 div.sk-estimator:hover label.sk-toggleable__label-arrow:before {color: black;}#sk-container-id-4 div.sk-toggleable__content {max-height: 0;max-width: 0;overflow: hidden;text-align: left;background-color: #f0f8ff;}#sk-container-id-4 div.sk-toggleable__content pre {margin: 0.2em;color: black;border-radius: 0.25em;background-color: #f0f8ff;}#sk-container-id-4 input.sk-toggleable__control:checked~div.sk-toggleable__content {max-height: 200px;max-width: 100%;overflow: auto;}#sk-container-id-4 input.sk-toggleable__control:checked~label.sk-toggleable__label-arrow:before {content: \"▾\";}#sk-container-id-4 div.sk-estimator input.sk-toggleable__control:checked~label.sk-toggleable__label {background-color: #d4ebff;}#sk-container-id-4 div.sk-label input.sk-toggleable__control:checked~label.sk-toggleable__label {background-color: #d4ebff;}#sk-container-id-4 input.sk-hidden--visually {border: 0;clip: rect(1px 1px 1px 1px);clip: rect(1px, 1px, 1px, 1px);height: 1px;margin: -1px;overflow: hidden;padding: 0;position: absolute;width: 1px;}#sk-container-id-4 div.sk-estimator {font-family: monospace;background-color: #f0f8ff;border: 1px dotted black;border-radius: 0.25em;box-sizing: border-box;margin-bottom: 0.5em;}#sk-container-id-4 div.sk-estimator:hover {background-color: #d4ebff;}#sk-container-id-4 div.sk-parallel-item::after {content: \"\";width: 100%;border-bottom: 1px solid gray;flex-grow: 1;}#sk-container-id-4 div.sk-label:hover label.sk-toggleable__label {background-color: #d4ebff;}#sk-container-id-4 div.sk-serial::before {content: \"\";position: absolute;border-left: 1px solid gray;box-sizing: border-box;top: 0;bottom: 0;left: 50%;z-index: 0;}#sk-container-id-4 div.sk-serial {display: flex;flex-direction: column;align-items: center;background-color: white;padding-right: 0.2em;padding-left: 0.2em;position: relative;}#sk-container-id-4 div.sk-item {position: relative;z-index: 1;}#sk-container-id-4 div.sk-parallel {display: flex;align-items: stretch;justify-content: center;background-color: white;position: relative;}#sk-container-id-4 div.sk-item::before, #sk-container-id-4 div.sk-parallel-item::before {content: \"\";position: absolute;border-left: 1px solid gray;box-sizing: border-box;top: 0;bottom: 0;left: 50%;z-index: -1;}#sk-container-id-4 div.sk-parallel-item {display: flex;flex-direction: column;z-index: 1;position: relative;background-color: white;}#sk-container-id-4 div.sk-parallel-item:first-child::after {align-self: flex-end;width: 50%;}#sk-container-id-4 div.sk-parallel-item:last-child::after {align-self: flex-start;width: 50%;}#sk-container-id-4 div.sk-parallel-item:only-child::after {width: 0;}#sk-container-id-4 div.sk-dashed-wrapped {border: 1px dashed gray;margin: 0 0.4em 0.5em 0.4em;box-sizing: border-box;padding-bottom: 0.4em;background-color: white;}#sk-container-id-4 div.sk-label label {font-family: monospace;font-weight: bold;display: inline-block;line-height: 1.2em;}#sk-container-id-4 div.sk-label-container {text-align: center;}#sk-container-id-4 div.sk-container {/* jupyter's `normalize.less` sets `[hidden] { display: none; }` but bootstrap.min.css set `[hidden] { display: none !important; }` so we also need the `!important` here to be able to override the default hidden behavior on the sphinx rendered scikit-learn.org. See: https://github.com/scikit-learn/scikit-learn/issues/21755 */display: inline-block !important;position: relative;}#sk-container-id-4 div.sk-text-repr-fallback {display: none;}</style><div id=\"sk-container-id-4\" class=\"sk-top-container\"><div class=\"sk-text-repr-fallback\"><pre>KNeighborsClassifier()</pre><b>In a Jupyter environment, please rerun this cell to show the HTML representation or trust the notebook. <br />On GitHub, the HTML representation is unable to render, please try loading this page with nbviewer.org.</b></div><div class=\"sk-container\" hidden><div class=\"sk-item\"><div class=\"sk-estimator sk-toggleable\"><input class=\"sk-toggleable__control sk-hidden--visually\" id=\"sk-estimator-id-4\" type=\"checkbox\" checked><label for=\"sk-estimator-id-4\" class=\"sk-toggleable__label sk-toggleable__label-arrow\">KNeighborsClassifier</label><div class=\"sk-toggleable__content\"><pre>KNeighborsClassifier()</pre></div></div></div></div></div>"
            ]
          },
          "metadata": {},
          "execution_count": 106
        }
      ]
    },
    {
      "cell_type": "code",
      "source": [
        "ypred_knn= knn.predict(x_test_scaled)"
      ],
      "metadata": {
        "id": "Wj3ImxliOR5r"
      },
      "execution_count": null,
      "outputs": []
    },
    {
      "cell_type": "code",
      "source": [
        "y_pred_proba_knn = knn.predict_proba(x_test_scaled)"
      ],
      "metadata": {
        "id": "6wuis7LhOR50"
      },
      "execution_count": null,
      "outputs": []
    },
    {
      "cell_type": "code",
      "source": [
        "print('ROC-AUC score of the model: {}'.format(roc_auc_score(ytest, y_pred_proba_knn[:, 1])))\n",
        "print('Accuracy of the model: {}\\n'.format(accuracy_score(ytest, ypred_knn)))\n",
        "print('Classification report: \\n{}\\n'.format(classification_report(ytest, ypred_knn)))\n",
        "print('Confusion matrix: \\n{}\\n'.format(confusion_matrix(ytest, ypred_knn)))\n",
        "print('Confusion matrix normalizada: \\n{}\\n'.format((confusion_matrix(ytest, ypred_knn))/np.sum(confusion_matrix(ytest, ypred_knn),axis = 1).reshape(-1,1),2))"
      ],
      "metadata": {
        "colab": {
          "base_uri": "https://localhost:8080/"
        },
        "id": "0-ikZRwTOqX6",
        "outputId": "174e60c0-b0e1-4faa-cbae-8b5cc9097e5d"
      },
      "execution_count": null,
      "outputs": [
        {
          "output_type": "stream",
          "name": "stdout",
          "text": [
            "ROC-AUC score of the model: 0.6207922264637351\n",
            "Accuracy of the model: 0.9873382104670794\n",
            "\n",
            "Classification report: \n",
            "              precision    recall  f1-score   support\n",
            "\n",
            "           1       1.00      0.02      0.04        46\n",
            "           2       0.99      1.00      0.99      3508\n",
            "\n",
            "    accuracy                           0.99      3554\n",
            "   macro avg       0.99      0.51      0.52      3554\n",
            "weighted avg       0.99      0.99      0.98      3554\n",
            "\n",
            "\n",
            "Confusion matrix: \n",
            "[[   1   45]\n",
            " [   0 3508]]\n",
            "\n",
            "Confusion matrix normalizada: \n",
            "[[0.02173913 0.97826087]\n",
            " [0.         1.        ]]\n",
            "\n"
          ]
        }
      ]
    },
    {
      "cell_type": "markdown",
      "source": [
        "**BAGGING CLASSIFIER**"
      ],
      "metadata": {
        "id": "o9_bg-eSP7bF"
      }
    },
    {
      "cell_type": "code",
      "source": [
        "bc = BaggingClassifier(random_state=42)\n",
        "bc.fit(x_train_scaled, ytrain)\n"
      ],
      "metadata": {
        "colab": {
          "base_uri": "https://localhost:8080/",
          "height": 75
        },
        "id": "r5RVLldvQBwh",
        "outputId": "71ce80dd-2f62-4cd8-b623-f36c3542e82c"
      },
      "execution_count": null,
      "outputs": [
        {
          "output_type": "execute_result",
          "data": {
            "text/plain": [
              "BaggingClassifier(random_state=42)"
            ],
            "text/html": [
              "<style>#sk-container-id-5 {color: black;background-color: white;}#sk-container-id-5 pre{padding: 0;}#sk-container-id-5 div.sk-toggleable {background-color: white;}#sk-container-id-5 label.sk-toggleable__label {cursor: pointer;display: block;width: 100%;margin-bottom: 0;padding: 0.3em;box-sizing: border-box;text-align: center;}#sk-container-id-5 label.sk-toggleable__label-arrow:before {content: \"▸\";float: left;margin-right: 0.25em;color: #696969;}#sk-container-id-5 label.sk-toggleable__label-arrow:hover:before {color: black;}#sk-container-id-5 div.sk-estimator:hover label.sk-toggleable__label-arrow:before {color: black;}#sk-container-id-5 div.sk-toggleable__content {max-height: 0;max-width: 0;overflow: hidden;text-align: left;background-color: #f0f8ff;}#sk-container-id-5 div.sk-toggleable__content pre {margin: 0.2em;color: black;border-radius: 0.25em;background-color: #f0f8ff;}#sk-container-id-5 input.sk-toggleable__control:checked~div.sk-toggleable__content {max-height: 200px;max-width: 100%;overflow: auto;}#sk-container-id-5 input.sk-toggleable__control:checked~label.sk-toggleable__label-arrow:before {content: \"▾\";}#sk-container-id-5 div.sk-estimator input.sk-toggleable__control:checked~label.sk-toggleable__label {background-color: #d4ebff;}#sk-container-id-5 div.sk-label input.sk-toggleable__control:checked~label.sk-toggleable__label {background-color: #d4ebff;}#sk-container-id-5 input.sk-hidden--visually {border: 0;clip: rect(1px 1px 1px 1px);clip: rect(1px, 1px, 1px, 1px);height: 1px;margin: -1px;overflow: hidden;padding: 0;position: absolute;width: 1px;}#sk-container-id-5 div.sk-estimator {font-family: monospace;background-color: #f0f8ff;border: 1px dotted black;border-radius: 0.25em;box-sizing: border-box;margin-bottom: 0.5em;}#sk-container-id-5 div.sk-estimator:hover {background-color: #d4ebff;}#sk-container-id-5 div.sk-parallel-item::after {content: \"\";width: 100%;border-bottom: 1px solid gray;flex-grow: 1;}#sk-container-id-5 div.sk-label:hover label.sk-toggleable__label {background-color: #d4ebff;}#sk-container-id-5 div.sk-serial::before {content: \"\";position: absolute;border-left: 1px solid gray;box-sizing: border-box;top: 0;bottom: 0;left: 50%;z-index: 0;}#sk-container-id-5 div.sk-serial {display: flex;flex-direction: column;align-items: center;background-color: white;padding-right: 0.2em;padding-left: 0.2em;position: relative;}#sk-container-id-5 div.sk-item {position: relative;z-index: 1;}#sk-container-id-5 div.sk-parallel {display: flex;align-items: stretch;justify-content: center;background-color: white;position: relative;}#sk-container-id-5 div.sk-item::before, #sk-container-id-5 div.sk-parallel-item::before {content: \"\";position: absolute;border-left: 1px solid gray;box-sizing: border-box;top: 0;bottom: 0;left: 50%;z-index: -1;}#sk-container-id-5 div.sk-parallel-item {display: flex;flex-direction: column;z-index: 1;position: relative;background-color: white;}#sk-container-id-5 div.sk-parallel-item:first-child::after {align-self: flex-end;width: 50%;}#sk-container-id-5 div.sk-parallel-item:last-child::after {align-self: flex-start;width: 50%;}#sk-container-id-5 div.sk-parallel-item:only-child::after {width: 0;}#sk-container-id-5 div.sk-dashed-wrapped {border: 1px dashed gray;margin: 0 0.4em 0.5em 0.4em;box-sizing: border-box;padding-bottom: 0.4em;background-color: white;}#sk-container-id-5 div.sk-label label {font-family: monospace;font-weight: bold;display: inline-block;line-height: 1.2em;}#sk-container-id-5 div.sk-label-container {text-align: center;}#sk-container-id-5 div.sk-container {/* jupyter's `normalize.less` sets `[hidden] { display: none; }` but bootstrap.min.css set `[hidden] { display: none !important; }` so we also need the `!important` here to be able to override the default hidden behavior on the sphinx rendered scikit-learn.org. See: https://github.com/scikit-learn/scikit-learn/issues/21755 */display: inline-block !important;position: relative;}#sk-container-id-5 div.sk-text-repr-fallback {display: none;}</style><div id=\"sk-container-id-5\" class=\"sk-top-container\"><div class=\"sk-text-repr-fallback\"><pre>BaggingClassifier(random_state=42)</pre><b>In a Jupyter environment, please rerun this cell to show the HTML representation or trust the notebook. <br />On GitHub, the HTML representation is unable to render, please try loading this page with nbviewer.org.</b></div><div class=\"sk-container\" hidden><div class=\"sk-item\"><div class=\"sk-estimator sk-toggleable\"><input class=\"sk-toggleable__control sk-hidden--visually\" id=\"sk-estimator-id-5\" type=\"checkbox\" checked><label for=\"sk-estimator-id-5\" class=\"sk-toggleable__label sk-toggleable__label-arrow\">BaggingClassifier</label><div class=\"sk-toggleable__content\"><pre>BaggingClassifier(random_state=42)</pre></div></div></div></div></div>"
            ]
          },
          "metadata": {},
          "execution_count": 110
        }
      ]
    },
    {
      "cell_type": "code",
      "execution_count": null,
      "metadata": {
        "id": "Kc1oCfS-QGut"
      },
      "outputs": [],
      "source": [
        "ypred_bc = bc.predict(x_test_scaled)"
      ]
    },
    {
      "cell_type": "code",
      "execution_count": null,
      "metadata": {
        "id": "zo8gG49eQGu2"
      },
      "outputs": [],
      "source": [
        "y_pred_proba_bc = bc.predict_proba(x_test_scaled)"
      ]
    },
    {
      "cell_type": "code",
      "source": [
        "print('ROC-AUC score of the model: {}'.format(roc_auc_score(ytest, y_pred_proba_bc[:, 1])))\n",
        "print('Accuracy of the model: {}\\n'.format(accuracy_score(ytest, ypred_bc)))\n",
        "print('Classification report: \\n{}\\n'.format(classification_report(ytest, ypred_bc)))\n",
        "print('Confusion matrix: \\n{}\\n'.format(confusion_matrix(ytest, ypred_bc)))\n",
        "print('Confusion matrix normalizada: \\n{}\\n'.format((confusion_matrix(ytest, ypred_bc))/np.sum(confusion_matrix(ytest, ypred_bc),axis = 1).reshape(-1,1),2))"
      ],
      "metadata": {
        "colab": {
          "base_uri": "https://localhost:8080/"
        },
        "id": "0ZPwTONDQQF3",
        "outputId": "960fda02-62f8-4d9c-a918-4061499e9d2c"
      },
      "execution_count": null,
      "outputs": [
        {
          "output_type": "stream",
          "name": "stdout",
          "text": [
            "ROC-AUC score of the model: 0.757963164939765\n",
            "Accuracy of the model: 0.9904333145751266\n",
            "\n",
            "Classification report: \n",
            "              precision    recall  f1-score   support\n",
            "\n",
            "           1       0.83      0.33      0.47        46\n",
            "           2       0.99      1.00      1.00      3508\n",
            "\n",
            "    accuracy                           0.99      3554\n",
            "   macro avg       0.91      0.66      0.73      3554\n",
            "weighted avg       0.99      0.99      0.99      3554\n",
            "\n",
            "\n",
            "Confusion matrix: \n",
            "[[  15   31]\n",
            " [   3 3505]]\n",
            "\n",
            "Confusion matrix normalizada: \n",
            "[[3.26086957e-01 6.73913043e-01]\n",
            " [8.55188141e-04 9.99144812e-01]]\n",
            "\n"
          ]
        }
      ]
    },
    {
      "cell_type": "markdown",
      "source": [
        "**Gradient Boost**"
      ],
      "metadata": {
        "id": "0p98s__sQs6p"
      }
    },
    {
      "cell_type": "code",
      "source": [
        "gb = GradientBoostingClassifier(random_state=42)\n",
        "gb.fit(x_train_scaled, ytrain)"
      ],
      "metadata": {
        "id": "A4tLCKEmQvME",
        "colab": {
          "base_uri": "https://localhost:8080/",
          "height": 75
        },
        "outputId": "b7527319-bd2b-4624-8567-a592e3cefc59"
      },
      "execution_count": null,
      "outputs": [
        {
          "output_type": "execute_result",
          "data": {
            "text/plain": [
              "GradientBoostingClassifier(random_state=42)"
            ],
            "text/html": [
              "<style>#sk-container-id-6 {color: black;background-color: white;}#sk-container-id-6 pre{padding: 0;}#sk-container-id-6 div.sk-toggleable {background-color: white;}#sk-container-id-6 label.sk-toggleable__label {cursor: pointer;display: block;width: 100%;margin-bottom: 0;padding: 0.3em;box-sizing: border-box;text-align: center;}#sk-container-id-6 label.sk-toggleable__label-arrow:before {content: \"▸\";float: left;margin-right: 0.25em;color: #696969;}#sk-container-id-6 label.sk-toggleable__label-arrow:hover:before {color: black;}#sk-container-id-6 div.sk-estimator:hover label.sk-toggleable__label-arrow:before {color: black;}#sk-container-id-6 div.sk-toggleable__content {max-height: 0;max-width: 0;overflow: hidden;text-align: left;background-color: #f0f8ff;}#sk-container-id-6 div.sk-toggleable__content pre {margin: 0.2em;color: black;border-radius: 0.25em;background-color: #f0f8ff;}#sk-container-id-6 input.sk-toggleable__control:checked~div.sk-toggleable__content {max-height: 200px;max-width: 100%;overflow: auto;}#sk-container-id-6 input.sk-toggleable__control:checked~label.sk-toggleable__label-arrow:before {content: \"▾\";}#sk-container-id-6 div.sk-estimator input.sk-toggleable__control:checked~label.sk-toggleable__label {background-color: #d4ebff;}#sk-container-id-6 div.sk-label input.sk-toggleable__control:checked~label.sk-toggleable__label {background-color: #d4ebff;}#sk-container-id-6 input.sk-hidden--visually {border: 0;clip: rect(1px 1px 1px 1px);clip: rect(1px, 1px, 1px, 1px);height: 1px;margin: -1px;overflow: hidden;padding: 0;position: absolute;width: 1px;}#sk-container-id-6 div.sk-estimator {font-family: monospace;background-color: #f0f8ff;border: 1px dotted black;border-radius: 0.25em;box-sizing: border-box;margin-bottom: 0.5em;}#sk-container-id-6 div.sk-estimator:hover {background-color: #d4ebff;}#sk-container-id-6 div.sk-parallel-item::after {content: \"\";width: 100%;border-bottom: 1px solid gray;flex-grow: 1;}#sk-container-id-6 div.sk-label:hover label.sk-toggleable__label {background-color: #d4ebff;}#sk-container-id-6 div.sk-serial::before {content: \"\";position: absolute;border-left: 1px solid gray;box-sizing: border-box;top: 0;bottom: 0;left: 50%;z-index: 0;}#sk-container-id-6 div.sk-serial {display: flex;flex-direction: column;align-items: center;background-color: white;padding-right: 0.2em;padding-left: 0.2em;position: relative;}#sk-container-id-6 div.sk-item {position: relative;z-index: 1;}#sk-container-id-6 div.sk-parallel {display: flex;align-items: stretch;justify-content: center;background-color: white;position: relative;}#sk-container-id-6 div.sk-item::before, #sk-container-id-6 div.sk-parallel-item::before {content: \"\";position: absolute;border-left: 1px solid gray;box-sizing: border-box;top: 0;bottom: 0;left: 50%;z-index: -1;}#sk-container-id-6 div.sk-parallel-item {display: flex;flex-direction: column;z-index: 1;position: relative;background-color: white;}#sk-container-id-6 div.sk-parallel-item:first-child::after {align-self: flex-end;width: 50%;}#sk-container-id-6 div.sk-parallel-item:last-child::after {align-self: flex-start;width: 50%;}#sk-container-id-6 div.sk-parallel-item:only-child::after {width: 0;}#sk-container-id-6 div.sk-dashed-wrapped {border: 1px dashed gray;margin: 0 0.4em 0.5em 0.4em;box-sizing: border-box;padding-bottom: 0.4em;background-color: white;}#sk-container-id-6 div.sk-label label {font-family: monospace;font-weight: bold;display: inline-block;line-height: 1.2em;}#sk-container-id-6 div.sk-label-container {text-align: center;}#sk-container-id-6 div.sk-container {/* jupyter's `normalize.less` sets `[hidden] { display: none; }` but bootstrap.min.css set `[hidden] { display: none !important; }` so we also need the `!important` here to be able to override the default hidden behavior on the sphinx rendered scikit-learn.org. See: https://github.com/scikit-learn/scikit-learn/issues/21755 */display: inline-block !important;position: relative;}#sk-container-id-6 div.sk-text-repr-fallback {display: none;}</style><div id=\"sk-container-id-6\" class=\"sk-top-container\"><div class=\"sk-text-repr-fallback\"><pre>GradientBoostingClassifier(random_state=42)</pre><b>In a Jupyter environment, please rerun this cell to show the HTML representation or trust the notebook. <br />On GitHub, the HTML representation is unable to render, please try loading this page with nbviewer.org.</b></div><div class=\"sk-container\" hidden><div class=\"sk-item\"><div class=\"sk-estimator sk-toggleable\"><input class=\"sk-toggleable__control sk-hidden--visually\" id=\"sk-estimator-id-6\" type=\"checkbox\" checked><label for=\"sk-estimator-id-6\" class=\"sk-toggleable__label sk-toggleable__label-arrow\">GradientBoostingClassifier</label><div class=\"sk-toggleable__content\"><pre>GradientBoostingClassifier(random_state=42)</pre></div></div></div></div></div>"
            ]
          },
          "metadata": {},
          "execution_count": 114
        }
      ]
    },
    {
      "cell_type": "code",
      "execution_count": null,
      "metadata": {
        "id": "t-e2cOQeQ0L_"
      },
      "outputs": [],
      "source": [
        "ypred_gb = gb.predict(x_test_scaled)"
      ]
    },
    {
      "cell_type": "code",
      "execution_count": null,
      "metadata": {
        "id": "I2mkBpB4Q0MI"
      },
      "outputs": [],
      "source": [
        "y_pred_proba_gb = gb.predict_proba(x_test_scaled)"
      ]
    },
    {
      "cell_type": "code",
      "source": [
        "print('ROC-AUC score of the model: {}'.format(roc_auc_score(ytest, y_pred_proba_gb[:, 1])))\n",
        "print('Accuracy of the model: {}\\n'.format(accuracy_score(ytest, ypred_gb)))\n",
        "print('Classification report: \\n{}\\n'.format(classification_report(ytest, ypred_gb)))\n",
        "print('Confusion matrix: \\n{}\\n'.format(confusion_matrix(ytest, ypred_gb)))\n",
        "print('Confusion matrix normalizada: \\n{}\\n'.format((confusion_matrix(ytest, ypred_gb))/np.sum(confusion_matrix(ytest, ypred_gb),axis = 1).reshape(-1,1),2))"
      ],
      "metadata": {
        "colab": {
          "base_uri": "https://localhost:8080/"
        },
        "id": "F2HcMJd3enWM",
        "outputId": "06387169-a307-4f12-cf19-671c8d49f86b"
      },
      "execution_count": null,
      "outputs": [
        {
          "output_type": "stream",
          "name": "stdout",
          "text": [
            "ROC-AUC score of the model: 0.8602944821773835\n",
            "Accuracy of the model: 0.9898705683736635\n",
            "\n",
            "Classification report: \n",
            "              precision    recall  f1-score   support\n",
            "\n",
            "           1       0.73      0.35      0.47        46\n",
            "           2       0.99      1.00      0.99      3508\n",
            "\n",
            "    accuracy                           0.99      3554\n",
            "   macro avg       0.86      0.67      0.73      3554\n",
            "weighted avg       0.99      0.99      0.99      3554\n",
            "\n",
            "\n",
            "Confusion matrix: \n",
            "[[  16   30]\n",
            " [   6 3502]]\n",
            "\n",
            "Confusion matrix normalizada: \n",
            "[[0.34782609 0.65217391]\n",
            " [0.00171038 0.99828962]]\n",
            "\n"
          ]
        }
      ]
    },
    {
      "cell_type": "markdown",
      "source": [
        "**LIGHTGBM**"
      ],
      "metadata": {
        "id": "iGeZgktpN6wB"
      }
    },
    {
      "cell_type": "code",
      "source": [
        "import lightgbm as lgbm\n",
        "lgbm = lgbm.LGBMClassifier()\n",
        "lgbm.fit(x_train_scaled, ytrain)"
      ],
      "metadata": {
        "id": "f2RtXjgHn3Hs",
        "colab": {
          "base_uri": "https://localhost:8080/",
          "height": 75
        },
        "outputId": "07ca7999-4091-472e-9239-d1db4d8234e3"
      },
      "execution_count": null,
      "outputs": [
        {
          "output_type": "execute_result",
          "data": {
            "text/plain": [
              "LGBMClassifier()"
            ],
            "text/html": [
              "<style>#sk-container-id-7 {color: black;background-color: white;}#sk-container-id-7 pre{padding: 0;}#sk-container-id-7 div.sk-toggleable {background-color: white;}#sk-container-id-7 label.sk-toggleable__label {cursor: pointer;display: block;width: 100%;margin-bottom: 0;padding: 0.3em;box-sizing: border-box;text-align: center;}#sk-container-id-7 label.sk-toggleable__label-arrow:before {content: \"▸\";float: left;margin-right: 0.25em;color: #696969;}#sk-container-id-7 label.sk-toggleable__label-arrow:hover:before {color: black;}#sk-container-id-7 div.sk-estimator:hover label.sk-toggleable__label-arrow:before {color: black;}#sk-container-id-7 div.sk-toggleable__content {max-height: 0;max-width: 0;overflow: hidden;text-align: left;background-color: #f0f8ff;}#sk-container-id-7 div.sk-toggleable__content pre {margin: 0.2em;color: black;border-radius: 0.25em;background-color: #f0f8ff;}#sk-container-id-7 input.sk-toggleable__control:checked~div.sk-toggleable__content {max-height: 200px;max-width: 100%;overflow: auto;}#sk-container-id-7 input.sk-toggleable__control:checked~label.sk-toggleable__label-arrow:before {content: \"▾\";}#sk-container-id-7 div.sk-estimator input.sk-toggleable__control:checked~label.sk-toggleable__label {background-color: #d4ebff;}#sk-container-id-7 div.sk-label input.sk-toggleable__control:checked~label.sk-toggleable__label {background-color: #d4ebff;}#sk-container-id-7 input.sk-hidden--visually {border: 0;clip: rect(1px 1px 1px 1px);clip: rect(1px, 1px, 1px, 1px);height: 1px;margin: -1px;overflow: hidden;padding: 0;position: absolute;width: 1px;}#sk-container-id-7 div.sk-estimator {font-family: monospace;background-color: #f0f8ff;border: 1px dotted black;border-radius: 0.25em;box-sizing: border-box;margin-bottom: 0.5em;}#sk-container-id-7 div.sk-estimator:hover {background-color: #d4ebff;}#sk-container-id-7 div.sk-parallel-item::after {content: \"\";width: 100%;border-bottom: 1px solid gray;flex-grow: 1;}#sk-container-id-7 div.sk-label:hover label.sk-toggleable__label {background-color: #d4ebff;}#sk-container-id-7 div.sk-serial::before {content: \"\";position: absolute;border-left: 1px solid gray;box-sizing: border-box;top: 0;bottom: 0;left: 50%;z-index: 0;}#sk-container-id-7 div.sk-serial {display: flex;flex-direction: column;align-items: center;background-color: white;padding-right: 0.2em;padding-left: 0.2em;position: relative;}#sk-container-id-7 div.sk-item {position: relative;z-index: 1;}#sk-container-id-7 div.sk-parallel {display: flex;align-items: stretch;justify-content: center;background-color: white;position: relative;}#sk-container-id-7 div.sk-item::before, #sk-container-id-7 div.sk-parallel-item::before {content: \"\";position: absolute;border-left: 1px solid gray;box-sizing: border-box;top: 0;bottom: 0;left: 50%;z-index: -1;}#sk-container-id-7 div.sk-parallel-item {display: flex;flex-direction: column;z-index: 1;position: relative;background-color: white;}#sk-container-id-7 div.sk-parallel-item:first-child::after {align-self: flex-end;width: 50%;}#sk-container-id-7 div.sk-parallel-item:last-child::after {align-self: flex-start;width: 50%;}#sk-container-id-7 div.sk-parallel-item:only-child::after {width: 0;}#sk-container-id-7 div.sk-dashed-wrapped {border: 1px dashed gray;margin: 0 0.4em 0.5em 0.4em;box-sizing: border-box;padding-bottom: 0.4em;background-color: white;}#sk-container-id-7 div.sk-label label {font-family: monospace;font-weight: bold;display: inline-block;line-height: 1.2em;}#sk-container-id-7 div.sk-label-container {text-align: center;}#sk-container-id-7 div.sk-container {/* jupyter's `normalize.less` sets `[hidden] { display: none; }` but bootstrap.min.css set `[hidden] { display: none !important; }` so we also need the `!important` here to be able to override the default hidden behavior on the sphinx rendered scikit-learn.org. See: https://github.com/scikit-learn/scikit-learn/issues/21755 */display: inline-block !important;position: relative;}#sk-container-id-7 div.sk-text-repr-fallback {display: none;}</style><div id=\"sk-container-id-7\" class=\"sk-top-container\"><div class=\"sk-text-repr-fallback\"><pre>LGBMClassifier()</pre><b>In a Jupyter environment, please rerun this cell to show the HTML representation or trust the notebook. <br />On GitHub, the HTML representation is unable to render, please try loading this page with nbviewer.org.</b></div><div class=\"sk-container\" hidden><div class=\"sk-item\"><div class=\"sk-estimator sk-toggleable\"><input class=\"sk-toggleable__control sk-hidden--visually\" id=\"sk-estimator-id-7\" type=\"checkbox\" checked><label for=\"sk-estimator-id-7\" class=\"sk-toggleable__label sk-toggleable__label-arrow\">LGBMClassifier</label><div class=\"sk-toggleable__content\"><pre>LGBMClassifier()</pre></div></div></div></div></div>"
            ]
          },
          "metadata": {},
          "execution_count": 118
        }
      ]
    },
    {
      "cell_type": "code",
      "source": [
        "ypred_lgbm = lgbm.predict(x_test_scaled)"
      ],
      "metadata": {
        "id": "FF1C48EPn9Rt"
      },
      "execution_count": null,
      "outputs": []
    },
    {
      "cell_type": "code",
      "source": [
        "y_pred_proba_lgbm = lgbm.predict_proba(x_test_scaled)"
      ],
      "metadata": {
        "id": "EZsUj1FToBWY"
      },
      "execution_count": null,
      "outputs": []
    },
    {
      "cell_type": "code",
      "source": [
        "print('ROC-AUC score of the model: {}'.format(roc_auc_score(ytest, y_pred_proba_lgbm[:, 1])))\n",
        "print('Accuracy of the model: {}\\n'.format(accuracy_score(ytest, ypred_lgbm)))\n",
        "print('Classification report: \\n{}\\n'.format(classification_report(ytest, ypred_lgbm)))\n",
        "print('Confusion matrix: \\n{}\\n'.format(confusion_matrix(ytest, ypred_lgbm)))\n",
        "print('Confusion matrix normalizada: \\n{}\\n'.format((confusion_matrix(ytest, ypred_lgbm))/np.sum(confusion_matrix(ytest, ypred_lgbm),axis = 1).reshape(-1,1)))"
      ],
      "metadata": {
        "id": "s1xZ4s8ypUpB",
        "colab": {
          "base_uri": "https://localhost:8080/"
        },
        "outputId": "44b6bc22-d09b-4da4-c5cf-74606e584fbf"
      },
      "execution_count": null,
      "outputs": [
        {
          "output_type": "stream",
          "name": "stdout",
          "text": [
            "ROC-AUC score of the model: 0.848513955678945\n",
            "Accuracy of the model: 0.9912774338773214\n",
            "\n",
            "Classification report: \n",
            "              precision    recall  f1-score   support\n",
            "\n",
            "           1       0.94      0.35      0.51        46\n",
            "           2       0.99      1.00      1.00      3508\n",
            "\n",
            "    accuracy                           0.99      3554\n",
            "   macro avg       0.97      0.67      0.75      3554\n",
            "weighted avg       0.99      0.99      0.99      3554\n",
            "\n",
            "\n",
            "Confusion matrix: \n",
            "[[  16   30]\n",
            " [   1 3507]]\n",
            "\n",
            "Confusion matrix normalizada: \n",
            "[[3.47826087e-01 6.52173913e-01]\n",
            " [2.85062714e-04 9.99714937e-01]]\n",
            "\n"
          ]
        }
      ]
    },
    {
      "cell_type": "markdown",
      "source": [
        "**ARBOLES DE DECISION**"
      ],
      "metadata": {
        "id": "YezuCd97poMr"
      }
    },
    {
      "cell_type": "code",
      "source": [
        "dtree = DecisionTreeClassifier()\n",
        "dtree.fit(x_train_scaled, ytrain)"
      ],
      "metadata": {
        "id": "a3DXRLI3rDPv",
        "colab": {
          "base_uri": "https://localhost:8080/",
          "height": 75
        },
        "outputId": "1615f9f9-1580-42c8-a954-5d09fe8f7793"
      },
      "execution_count": null,
      "outputs": [
        {
          "output_type": "execute_result",
          "data": {
            "text/plain": [
              "DecisionTreeClassifier()"
            ],
            "text/html": [
              "<style>#sk-container-id-8 {color: black;background-color: white;}#sk-container-id-8 pre{padding: 0;}#sk-container-id-8 div.sk-toggleable {background-color: white;}#sk-container-id-8 label.sk-toggleable__label {cursor: pointer;display: block;width: 100%;margin-bottom: 0;padding: 0.3em;box-sizing: border-box;text-align: center;}#sk-container-id-8 label.sk-toggleable__label-arrow:before {content: \"▸\";float: left;margin-right: 0.25em;color: #696969;}#sk-container-id-8 label.sk-toggleable__label-arrow:hover:before {color: black;}#sk-container-id-8 div.sk-estimator:hover label.sk-toggleable__label-arrow:before {color: black;}#sk-container-id-8 div.sk-toggleable__content {max-height: 0;max-width: 0;overflow: hidden;text-align: left;background-color: #f0f8ff;}#sk-container-id-8 div.sk-toggleable__content pre {margin: 0.2em;color: black;border-radius: 0.25em;background-color: #f0f8ff;}#sk-container-id-8 input.sk-toggleable__control:checked~div.sk-toggleable__content {max-height: 200px;max-width: 100%;overflow: auto;}#sk-container-id-8 input.sk-toggleable__control:checked~label.sk-toggleable__label-arrow:before {content: \"▾\";}#sk-container-id-8 div.sk-estimator input.sk-toggleable__control:checked~label.sk-toggleable__label {background-color: #d4ebff;}#sk-container-id-8 div.sk-label input.sk-toggleable__control:checked~label.sk-toggleable__label {background-color: #d4ebff;}#sk-container-id-8 input.sk-hidden--visually {border: 0;clip: rect(1px 1px 1px 1px);clip: rect(1px, 1px, 1px, 1px);height: 1px;margin: -1px;overflow: hidden;padding: 0;position: absolute;width: 1px;}#sk-container-id-8 div.sk-estimator {font-family: monospace;background-color: #f0f8ff;border: 1px dotted black;border-radius: 0.25em;box-sizing: border-box;margin-bottom: 0.5em;}#sk-container-id-8 div.sk-estimator:hover {background-color: #d4ebff;}#sk-container-id-8 div.sk-parallel-item::after {content: \"\";width: 100%;border-bottom: 1px solid gray;flex-grow: 1;}#sk-container-id-8 div.sk-label:hover label.sk-toggleable__label {background-color: #d4ebff;}#sk-container-id-8 div.sk-serial::before {content: \"\";position: absolute;border-left: 1px solid gray;box-sizing: border-box;top: 0;bottom: 0;left: 50%;z-index: 0;}#sk-container-id-8 div.sk-serial {display: flex;flex-direction: column;align-items: center;background-color: white;padding-right: 0.2em;padding-left: 0.2em;position: relative;}#sk-container-id-8 div.sk-item {position: relative;z-index: 1;}#sk-container-id-8 div.sk-parallel {display: flex;align-items: stretch;justify-content: center;background-color: white;position: relative;}#sk-container-id-8 div.sk-item::before, #sk-container-id-8 div.sk-parallel-item::before {content: \"\";position: absolute;border-left: 1px solid gray;box-sizing: border-box;top: 0;bottom: 0;left: 50%;z-index: -1;}#sk-container-id-8 div.sk-parallel-item {display: flex;flex-direction: column;z-index: 1;position: relative;background-color: white;}#sk-container-id-8 div.sk-parallel-item:first-child::after {align-self: flex-end;width: 50%;}#sk-container-id-8 div.sk-parallel-item:last-child::after {align-self: flex-start;width: 50%;}#sk-container-id-8 div.sk-parallel-item:only-child::after {width: 0;}#sk-container-id-8 div.sk-dashed-wrapped {border: 1px dashed gray;margin: 0 0.4em 0.5em 0.4em;box-sizing: border-box;padding-bottom: 0.4em;background-color: white;}#sk-container-id-8 div.sk-label label {font-family: monospace;font-weight: bold;display: inline-block;line-height: 1.2em;}#sk-container-id-8 div.sk-label-container {text-align: center;}#sk-container-id-8 div.sk-container {/* jupyter's `normalize.less` sets `[hidden] { display: none; }` but bootstrap.min.css set `[hidden] { display: none !important; }` so we also need the `!important` here to be able to override the default hidden behavior on the sphinx rendered scikit-learn.org. See: https://github.com/scikit-learn/scikit-learn/issues/21755 */display: inline-block !important;position: relative;}#sk-container-id-8 div.sk-text-repr-fallback {display: none;}</style><div id=\"sk-container-id-8\" class=\"sk-top-container\"><div class=\"sk-text-repr-fallback\"><pre>DecisionTreeClassifier()</pre><b>In a Jupyter environment, please rerun this cell to show the HTML representation or trust the notebook. <br />On GitHub, the HTML representation is unable to render, please try loading this page with nbviewer.org.</b></div><div class=\"sk-container\" hidden><div class=\"sk-item\"><div class=\"sk-estimator sk-toggleable\"><input class=\"sk-toggleable__control sk-hidden--visually\" id=\"sk-estimator-id-8\" type=\"checkbox\" checked><label for=\"sk-estimator-id-8\" class=\"sk-toggleable__label sk-toggleable__label-arrow\">DecisionTreeClassifier</label><div class=\"sk-toggleable__content\"><pre>DecisionTreeClassifier()</pre></div></div></div></div></div>"
            ]
          },
          "metadata": {},
          "execution_count": 122
        }
      ]
    },
    {
      "cell_type": "code",
      "source": [
        "ypred_dtree = dtree.predict(x_test_scaled)"
      ],
      "metadata": {
        "id": "9RJvT2R0rKCp"
      },
      "execution_count": null,
      "outputs": []
    },
    {
      "cell_type": "code",
      "source": [
        "y_pred_proba_dtree = dtree.predict_proba(x_test_scaled)"
      ],
      "metadata": {
        "id": "1wufJQ-RrUtz"
      },
      "execution_count": null,
      "outputs": []
    },
    {
      "cell_type": "code",
      "source": [
        "print('ROC-AUC score of the model: {}'.format(roc_auc_score(ytest, y_pred_proba_dtree[:, 1])))\n",
        "print('Accuracy of the model: {}\\n'.format(accuracy_score(ytest, ypred_dtree)))\n",
        "print('Classification report: \\n{}\\n'.format(classification_report(ytest, ypred_dtree)))\n",
        "print('Confusion matrix: \\n{}\\n'.format(confusion_matrix(ytest, ypred_dtree)))\n",
        "print('Confusion matrix normalizada: \\n{}\\n'.format((confusion_matrix(ytest, ypred_dtree))/np.sum(confusion_matrix(ytest, ypred_dtree),axis = 1).reshape(-1,1)))"
      ],
      "metadata": {
        "id": "DRkvPItxrWoI",
        "colab": {
          "base_uri": "https://localhost:8080/"
        },
        "outputId": "1a87c858-b24c-4597-c855-1db25fa117c7"
      },
      "execution_count": null,
      "outputs": [
        {
          "output_type": "stream",
          "name": "stdout",
          "text": [
            "ROC-AUC score of the model: 0.6878129492836249\n",
            "Accuracy of the model: 0.9766460326392797\n",
            "\n",
            "Classification report: \n",
            "              precision    recall  f1-score   support\n",
            "\n",
            "           1       0.25      0.39      0.30        46\n",
            "           2       0.99      0.98      0.99      3508\n",
            "\n",
            "    accuracy                           0.98      3554\n",
            "   macro avg       0.62      0.69      0.65      3554\n",
            "weighted avg       0.98      0.98      0.98      3554\n",
            "\n",
            "\n",
            "Confusion matrix: \n",
            "[[  18   28]\n",
            " [  55 3453]]\n",
            "\n",
            "Confusion matrix normalizada: \n",
            "[[0.39130435 0.60869565]\n",
            " [0.01567845 0.98432155]]\n",
            "\n"
          ]
        }
      ]
    },
    {
      "cell_type": "markdown",
      "source": [
        "**CONCLUSIONES**"
      ],
      "metadata": {
        "id": "cuwujU_6iYwE"
      }
    },
    {
      "cell_type": "code",
      "source": [
        "datos_modelos = {'Modelo': ['Random Forest', 'Regresión logística', 'KNN', 'Bagging Classifier', 'Gradient Boost','LightGBM','Árboles de decisión'],\n",
        "\n",
        "                'Accuracy': ['1', '1', '1', '0.83', '0.73', '0.94', '0.24'],\n",
        "\n",
        "                'ROC-AUC': ['0.83', '0.78', '0.62', '0.86', '0.81', '0.85', '0.68'],\n",
        "\n",
        "                'False positives': ['0', '0', '0', '0.', '0', '0', '0.01'],\n",
        "\n",
        "                'True positives': ['0.34', '0.10', '0', '0.001', '0.34', '0', '0.39' ],\n",
        "\n",
        "                }\n",
        "\n",
        "tabla_modelos = pd.DataFrame(datos_modelos, columns=['Modelo', 'Accuracy', 'ROC-AUC', 'False positives',\n",
        "                                                    'True positives'])\n",
        "tabla_modelos"
      ],
      "metadata": {
        "colab": {
          "base_uri": "https://localhost:8080/",
          "height": 269
        },
        "id": "SuftGKXuwz1V",
        "outputId": "6e54c865-885f-4ff7-fccc-e8e3d78c3282"
      },
      "execution_count": null,
      "outputs": [
        {
          "output_type": "execute_result",
          "data": {
            "text/plain": [
              "                Modelo Accuracy ROC-AUC False positives True positives\n",
              "0        Random Forest        1    0.83               0           0.34\n",
              "1  Regresión logística        1    0.78               0           0.10\n",
              "2                  KNN        1    0.62               0              0\n",
              "3   Bagging Classifier     0.83    0.86              0.          0.001\n",
              "4       Gradient Boost     0.73    0.81               0           0.34\n",
              "5             LightGBM     0.94    0.85               0              0\n",
              "6  Árboles de decisión     0.24    0.68            0.01           0.39"
            ],
            "text/html": [
              "\n",
              "  <div id=\"df-3afafade-c40d-4b8c-8441-db04f61c3840\">\n",
              "    <div class=\"colab-df-container\">\n",
              "      <div>\n",
              "<style scoped>\n",
              "    .dataframe tbody tr th:only-of-type {\n",
              "        vertical-align: middle;\n",
              "    }\n",
              "\n",
              "    .dataframe tbody tr th {\n",
              "        vertical-align: top;\n",
              "    }\n",
              "\n",
              "    .dataframe thead th {\n",
              "        text-align: right;\n",
              "    }\n",
              "</style>\n",
              "<table border=\"1\" class=\"dataframe\">\n",
              "  <thead>\n",
              "    <tr style=\"text-align: right;\">\n",
              "      <th></th>\n",
              "      <th>Modelo</th>\n",
              "      <th>Accuracy</th>\n",
              "      <th>ROC-AUC</th>\n",
              "      <th>False positives</th>\n",
              "      <th>True positives</th>\n",
              "    </tr>\n",
              "  </thead>\n",
              "  <tbody>\n",
              "    <tr>\n",
              "      <th>0</th>\n",
              "      <td>Random Forest</td>\n",
              "      <td>1</td>\n",
              "      <td>0.83</td>\n",
              "      <td>0</td>\n",
              "      <td>0.34</td>\n",
              "    </tr>\n",
              "    <tr>\n",
              "      <th>1</th>\n",
              "      <td>Regresión logística</td>\n",
              "      <td>1</td>\n",
              "      <td>0.78</td>\n",
              "      <td>0</td>\n",
              "      <td>0.10</td>\n",
              "    </tr>\n",
              "    <tr>\n",
              "      <th>2</th>\n",
              "      <td>KNN</td>\n",
              "      <td>1</td>\n",
              "      <td>0.62</td>\n",
              "      <td>0</td>\n",
              "      <td>0</td>\n",
              "    </tr>\n",
              "    <tr>\n",
              "      <th>3</th>\n",
              "      <td>Bagging Classifier</td>\n",
              "      <td>0.83</td>\n",
              "      <td>0.86</td>\n",
              "      <td>0.</td>\n",
              "      <td>0.001</td>\n",
              "    </tr>\n",
              "    <tr>\n",
              "      <th>4</th>\n",
              "      <td>Gradient Boost</td>\n",
              "      <td>0.73</td>\n",
              "      <td>0.81</td>\n",
              "      <td>0</td>\n",
              "      <td>0.34</td>\n",
              "    </tr>\n",
              "    <tr>\n",
              "      <th>5</th>\n",
              "      <td>LightGBM</td>\n",
              "      <td>0.94</td>\n",
              "      <td>0.85</td>\n",
              "      <td>0</td>\n",
              "      <td>0</td>\n",
              "    </tr>\n",
              "    <tr>\n",
              "      <th>6</th>\n",
              "      <td>Árboles de decisión</td>\n",
              "      <td>0.24</td>\n",
              "      <td>0.68</td>\n",
              "      <td>0.01</td>\n",
              "      <td>0.39</td>\n",
              "    </tr>\n",
              "  </tbody>\n",
              "</table>\n",
              "</div>\n",
              "      <button class=\"colab-df-convert\" onclick=\"convertToInteractive('df-3afafade-c40d-4b8c-8441-db04f61c3840')\"\n",
              "              title=\"Convert this dataframe to an interactive table.\"\n",
              "              style=\"display:none;\">\n",
              "        \n",
              "  <svg xmlns=\"http://www.w3.org/2000/svg\" height=\"24px\"viewBox=\"0 0 24 24\"\n",
              "       width=\"24px\">\n",
              "    <path d=\"M0 0h24v24H0V0z\" fill=\"none\"/>\n",
              "    <path d=\"M18.56 5.44l.94 2.06.94-2.06 2.06-.94-2.06-.94-.94-2.06-.94 2.06-2.06.94zm-11 1L8.5 8.5l.94-2.06 2.06-.94-2.06-.94L8.5 2.5l-.94 2.06-2.06.94zm10 10l.94 2.06.94-2.06 2.06-.94-2.06-.94-.94-2.06-.94 2.06-2.06.94z\"/><path d=\"M17.41 7.96l-1.37-1.37c-.4-.4-.92-.59-1.43-.59-.52 0-1.04.2-1.43.59L10.3 9.45l-7.72 7.72c-.78.78-.78 2.05 0 2.83L4 21.41c.39.39.9.59 1.41.59.51 0 1.02-.2 1.41-.59l7.78-7.78 2.81-2.81c.8-.78.8-2.07 0-2.86zM5.41 20L4 18.59l7.72-7.72 1.47 1.35L5.41 20z\"/>\n",
              "  </svg>\n",
              "      </button>\n",
              "      \n",
              "  <style>\n",
              "    .colab-df-container {\n",
              "      display:flex;\n",
              "      flex-wrap:wrap;\n",
              "      gap: 12px;\n",
              "    }\n",
              "\n",
              "    .colab-df-convert {\n",
              "      background-color: #E8F0FE;\n",
              "      border: none;\n",
              "      border-radius: 50%;\n",
              "      cursor: pointer;\n",
              "      display: none;\n",
              "      fill: #1967D2;\n",
              "      height: 32px;\n",
              "      padding: 0 0 0 0;\n",
              "      width: 32px;\n",
              "    }\n",
              "\n",
              "    .colab-df-convert:hover {\n",
              "      background-color: #E2EBFA;\n",
              "      box-shadow: 0px 1px 2px rgba(60, 64, 67, 0.3), 0px 1px 3px 1px rgba(60, 64, 67, 0.15);\n",
              "      fill: #174EA6;\n",
              "    }\n",
              "\n",
              "    [theme=dark] .colab-df-convert {\n",
              "      background-color: #3B4455;\n",
              "      fill: #D2E3FC;\n",
              "    }\n",
              "\n",
              "    [theme=dark] .colab-df-convert:hover {\n",
              "      background-color: #434B5C;\n",
              "      box-shadow: 0px 1px 3px 1px rgba(0, 0, 0, 0.15);\n",
              "      filter: drop-shadow(0px 1px 2px rgba(0, 0, 0, 0.3));\n",
              "      fill: #FFFFFF;\n",
              "    }\n",
              "  </style>\n",
              "\n",
              "      <script>\n",
              "        const buttonEl =\n",
              "          document.querySelector('#df-3afafade-c40d-4b8c-8441-db04f61c3840 button.colab-df-convert');\n",
              "        buttonEl.style.display =\n",
              "          google.colab.kernel.accessAllowed ? 'block' : 'none';\n",
              "\n",
              "        async function convertToInteractive(key) {\n",
              "          const element = document.querySelector('#df-3afafade-c40d-4b8c-8441-db04f61c3840');\n",
              "          const dataTable =\n",
              "            await google.colab.kernel.invokeFunction('convertToInteractive',\n",
              "                                                     [key], {});\n",
              "          if (!dataTable) return;\n",
              "\n",
              "          const docLinkHtml = 'Like what you see? Visit the ' +\n",
              "            '<a target=\"_blank\" href=https://colab.research.google.com/notebooks/data_table.ipynb>data table notebook</a>'\n",
              "            + ' to learn more about interactive tables.';\n",
              "          element.innerHTML = '';\n",
              "          dataTable['output_type'] = 'display_data';\n",
              "          await google.colab.output.renderOutput(dataTable, element);\n",
              "          const docLink = document.createElement('div');\n",
              "          docLink.innerHTML = docLinkHtml;\n",
              "          element.appendChild(docLink);\n",
              "        }\n",
              "      </script>\n",
              "    </div>\n",
              "  </div>\n",
              "  "
            ]
          },
          "metadata": {},
          "execution_count": 126
        }
      ]
    },
    {
      "cell_type": "markdown",
      "source": [
        "**Precisión (Accuracy):** El modelo Random Forest tiene una precisión de 1, lo que nos indica que clasifica prácticamente todas las muestras de forma correcta del conjunto de datos utilizado.\n",
        "\n",
        "**ROC-AUC:** El área bajo la curva ROC del modelo Gradient es de 0.83, es de los valores más cercanos a 1 y representa un mejor buen rendimiento de clasificación.\n",
        "\n",
        "**Falsos positivos y verdaderos positivos**: el modelo Random Forest tiene un bajo número de falsos positivos (0) y un alto número de verdaderos positivos (0.34). Esto significa que el modelo tiene capacidad para identificar correctamente las muestras positivas y minimiza los errores de clasificación. Aún asi, la cifra de verdaderos positivos no es suficiente como para considerarlo un buen modelo.\n",
        "\n",
        "En resumen, el modelo  **Random Forest muestra el mejor rendimiento frente a los otros modelos en términos de precisión, ROC-AUC y capacidad para clasificar correctamente las muestras positivas, por lo que estas características hacen que sea una opción sólida como modelo final.\n",
        "\n"
      ],
      "metadata": {
        "id": "bo6EetIT1A31"
      }
    },
    {
      "cell_type": "markdown",
      "source": [
        "**OPTIMIZACIÓN**"
      ],
      "metadata": {
        "id": "iT8IZxXg4xw8"
      }
    },
    {
      "cell_type": "markdown",
      "source": [
        "GRADIENT BOOST"
      ],
      "metadata": {
        "id": "LxMPF2Gk7shQ"
      }
    },
    {
      "cell_type": "code",
      "source": [
        "param_grid = {\n",
        "    'n_estimators': [50, 100, 200],\n",
        "    'learning_rate': [0.1, 0.01, 0.001],\n",
        "    'max_depth': [3, 4, 5]\n",
        "}\n",
        "\n",
        "\n",
        "CV2 = GridSearchCV(rf, param_grid, cv=3, n_jobs=8, scoring='roc_auc', verbose=1)"
      ],
      "metadata": {
        "id": "ywHfYz9i7vZw"
      },
      "execution_count": null,
      "outputs": []
    },
    {
      "cell_type": "code",
      "source": [
        "CV2.fit(xtrain, ytrain)\n",
        "print(CV2.best_params_)\n",
        "print(CV2.best_score_)"
      ],
      "metadata": {
        "colab": {
          "base_uri": "https://localhost:8080/",
          "height": 832
        },
        "id": "yYVCg_Kw8LfE",
        "outputId": "9b95e7e8-5d46-4176-efb7-ee48e2e91e2a"
      },
      "execution_count": null,
      "outputs": [
        {
          "output_type": "stream",
          "name": "stdout",
          "text": [
            "Fitting 3 folds for each of 27 candidates, totalling 81 fits\n"
          ]
        },
        {
          "output_type": "error",
          "ename": "ValueError",
          "evalue": "ignored",
          "traceback": [
            "\u001b[0;31m---------------------------------------------------------------------------\u001b[0m",
            "\u001b[0;31m_RemoteTraceback\u001b[0m                          Traceback (most recent call last)",
            "\u001b[0;31m_RemoteTraceback\u001b[0m: \n\"\"\"\nTraceback (most recent call last):\n  File \"/usr/local/lib/python3.10/dist-packages/joblib/externals/loky/process_executor.py\", line 428, in _process_worker\n    r = call_item()\n  File \"/usr/local/lib/python3.10/dist-packages/joblib/externals/loky/process_executor.py\", line 275, in __call__\n    return self.fn(*self.args, **self.kwargs)\n  File \"/usr/local/lib/python3.10/dist-packages/joblib/_parallel_backends.py\", line 620, in __call__\n    return self.func(*args, **kwargs)\n  File \"/usr/local/lib/python3.10/dist-packages/joblib/parallel.py\", line 288, in __call__\n    return [func(*args, **kwargs)\n  File \"/usr/local/lib/python3.10/dist-packages/joblib/parallel.py\", line 288, in <listcomp>\n    return [func(*args, **kwargs)\n  File \"/usr/local/lib/python3.10/dist-packages/sklearn/utils/parallel.py\", line 123, in __call__\n    return self.function(*args, **kwargs)\n  File \"/usr/local/lib/python3.10/dist-packages/sklearn/model_selection/_validation.py\", line 674, in _fit_and_score\n    estimator = estimator.set_params(**cloned_parameters)\n  File \"/usr/local/lib/python3.10/dist-packages/sklearn/base.py\", line 205, in set_params\n    raise ValueError(\nValueError: Invalid parameter 'learning_rate' for estimator RandomForestClassifier(random_state=42). Valid parameters are: ['bootstrap', 'ccp_alpha', 'class_weight', 'criterion', 'max_depth', 'max_features', 'max_leaf_nodes', 'max_samples', 'min_impurity_decrease', 'min_samples_leaf', 'min_samples_split', 'min_weight_fraction_leaf', 'n_estimators', 'n_jobs', 'oob_score', 'random_state', 'verbose', 'warm_start'].\n\"\"\"",
            "\nThe above exception was the direct cause of the following exception:\n",
            "\u001b[0;31mValueError\u001b[0m                                Traceback (most recent call last)",
            "\u001b[0;32m<ipython-input-137-2b20dda5285b>\u001b[0m in \u001b[0;36m<cell line: 1>\u001b[0;34m()\u001b[0m\n\u001b[0;32m----> 1\u001b[0;31m \u001b[0mCV2\u001b[0m\u001b[0;34m.\u001b[0m\u001b[0mfit\u001b[0m\u001b[0;34m(\u001b[0m\u001b[0mxtrain\u001b[0m\u001b[0;34m,\u001b[0m \u001b[0mytrain\u001b[0m\u001b[0;34m)\u001b[0m\u001b[0;34m\u001b[0m\u001b[0;34m\u001b[0m\u001b[0m\n\u001b[0m\u001b[1;32m      2\u001b[0m \u001b[0mprint\u001b[0m\u001b[0;34m(\u001b[0m\u001b[0mCV2\u001b[0m\u001b[0;34m.\u001b[0m\u001b[0mbest_params_\u001b[0m\u001b[0;34m)\u001b[0m\u001b[0;34m\u001b[0m\u001b[0;34m\u001b[0m\u001b[0m\n\u001b[1;32m      3\u001b[0m \u001b[0mprint\u001b[0m\u001b[0;34m(\u001b[0m\u001b[0mCV2\u001b[0m\u001b[0;34m.\u001b[0m\u001b[0mbest_score_\u001b[0m\u001b[0;34m)\u001b[0m\u001b[0;34m\u001b[0m\u001b[0;34m\u001b[0m\u001b[0m\n",
            "\u001b[0;32m/usr/local/lib/python3.10/dist-packages/sklearn/model_selection/_search.py\u001b[0m in \u001b[0;36mfit\u001b[0;34m(self, X, y, groups, **fit_params)\u001b[0m\n\u001b[1;32m    872\u001b[0m                 \u001b[0;32mreturn\u001b[0m \u001b[0mresults\u001b[0m\u001b[0;34m\u001b[0m\u001b[0;34m\u001b[0m\u001b[0m\n\u001b[1;32m    873\u001b[0m \u001b[0;34m\u001b[0m\u001b[0m\n\u001b[0;32m--> 874\u001b[0;31m             \u001b[0mself\u001b[0m\u001b[0;34m.\u001b[0m\u001b[0m_run_search\u001b[0m\u001b[0;34m(\u001b[0m\u001b[0mevaluate_candidates\u001b[0m\u001b[0;34m)\u001b[0m\u001b[0;34m\u001b[0m\u001b[0;34m\u001b[0m\u001b[0m\n\u001b[0m\u001b[1;32m    875\u001b[0m \u001b[0;34m\u001b[0m\u001b[0m\n\u001b[1;32m    876\u001b[0m             \u001b[0;31m# multimetric is determined here because in the case of a callable\u001b[0m\u001b[0;34m\u001b[0m\u001b[0;34m\u001b[0m\u001b[0m\n",
            "\u001b[0;32m/usr/local/lib/python3.10/dist-packages/sklearn/model_selection/_search.py\u001b[0m in \u001b[0;36m_run_search\u001b[0;34m(self, evaluate_candidates)\u001b[0m\n\u001b[1;32m   1386\u001b[0m     \u001b[0;32mdef\u001b[0m \u001b[0m_run_search\u001b[0m\u001b[0;34m(\u001b[0m\u001b[0mself\u001b[0m\u001b[0;34m,\u001b[0m \u001b[0mevaluate_candidates\u001b[0m\u001b[0;34m)\u001b[0m\u001b[0;34m:\u001b[0m\u001b[0;34m\u001b[0m\u001b[0;34m\u001b[0m\u001b[0m\n\u001b[1;32m   1387\u001b[0m         \u001b[0;34m\"\"\"Search all candidates in param_grid\"\"\"\u001b[0m\u001b[0;34m\u001b[0m\u001b[0;34m\u001b[0m\u001b[0m\n\u001b[0;32m-> 1388\u001b[0;31m         \u001b[0mevaluate_candidates\u001b[0m\u001b[0;34m(\u001b[0m\u001b[0mParameterGrid\u001b[0m\u001b[0;34m(\u001b[0m\u001b[0mself\u001b[0m\u001b[0;34m.\u001b[0m\u001b[0mparam_grid\u001b[0m\u001b[0;34m)\u001b[0m\u001b[0;34m)\u001b[0m\u001b[0;34m\u001b[0m\u001b[0;34m\u001b[0m\u001b[0m\n\u001b[0m\u001b[1;32m   1389\u001b[0m \u001b[0;34m\u001b[0m\u001b[0m\n\u001b[1;32m   1390\u001b[0m \u001b[0;34m\u001b[0m\u001b[0m\n",
            "\u001b[0;32m/usr/local/lib/python3.10/dist-packages/sklearn/model_selection/_search.py\u001b[0m in \u001b[0;36mevaluate_candidates\u001b[0;34m(candidate_params, cv, more_results)\u001b[0m\n\u001b[1;32m    819\u001b[0m                     )\n\u001b[1;32m    820\u001b[0m \u001b[0;34m\u001b[0m\u001b[0m\n\u001b[0;32m--> 821\u001b[0;31m                 out = parallel(\n\u001b[0m\u001b[1;32m    822\u001b[0m                     delayed(_fit_and_score)(\n\u001b[1;32m    823\u001b[0m                         \u001b[0mclone\u001b[0m\u001b[0;34m(\u001b[0m\u001b[0mbase_estimator\u001b[0m\u001b[0;34m)\u001b[0m\u001b[0;34m,\u001b[0m\u001b[0;34m\u001b[0m\u001b[0;34m\u001b[0m\u001b[0m\n",
            "\u001b[0;32m/usr/local/lib/python3.10/dist-packages/sklearn/utils/parallel.py\u001b[0m in \u001b[0;36m__call__\u001b[0;34m(self, iterable)\u001b[0m\n\u001b[1;32m     61\u001b[0m             \u001b[0;32mfor\u001b[0m \u001b[0mdelayed_func\u001b[0m\u001b[0;34m,\u001b[0m \u001b[0margs\u001b[0m\u001b[0;34m,\u001b[0m \u001b[0mkwargs\u001b[0m \u001b[0;32min\u001b[0m \u001b[0miterable\u001b[0m\u001b[0;34m\u001b[0m\u001b[0;34m\u001b[0m\u001b[0m\n\u001b[1;32m     62\u001b[0m         )\n\u001b[0;32m---> 63\u001b[0;31m         \u001b[0;32mreturn\u001b[0m \u001b[0msuper\u001b[0m\u001b[0;34m(\u001b[0m\u001b[0;34m)\u001b[0m\u001b[0;34m.\u001b[0m\u001b[0m__call__\u001b[0m\u001b[0;34m(\u001b[0m\u001b[0miterable_with_config\u001b[0m\u001b[0;34m)\u001b[0m\u001b[0;34m\u001b[0m\u001b[0;34m\u001b[0m\u001b[0m\n\u001b[0m\u001b[1;32m     64\u001b[0m \u001b[0;34m\u001b[0m\u001b[0m\n\u001b[1;32m     65\u001b[0m \u001b[0;34m\u001b[0m\u001b[0m\n",
            "\u001b[0;32m/usr/local/lib/python3.10/dist-packages/joblib/parallel.py\u001b[0m in \u001b[0;36m__call__\u001b[0;34m(self, iterable)\u001b[0m\n\u001b[1;32m   1096\u001b[0m \u001b[0;34m\u001b[0m\u001b[0m\n\u001b[1;32m   1097\u001b[0m             \u001b[0;32mwith\u001b[0m \u001b[0mself\u001b[0m\u001b[0;34m.\u001b[0m\u001b[0m_backend\u001b[0m\u001b[0;34m.\u001b[0m\u001b[0mretrieval_context\u001b[0m\u001b[0;34m(\u001b[0m\u001b[0;34m)\u001b[0m\u001b[0;34m:\u001b[0m\u001b[0;34m\u001b[0m\u001b[0;34m\u001b[0m\u001b[0m\n\u001b[0;32m-> 1098\u001b[0;31m                 \u001b[0mself\u001b[0m\u001b[0;34m.\u001b[0m\u001b[0mretrieve\u001b[0m\u001b[0;34m(\u001b[0m\u001b[0;34m)\u001b[0m\u001b[0;34m\u001b[0m\u001b[0;34m\u001b[0m\u001b[0m\n\u001b[0m\u001b[1;32m   1099\u001b[0m             \u001b[0;31m# Make sure that we get a last message telling us we are done\u001b[0m\u001b[0;34m\u001b[0m\u001b[0;34m\u001b[0m\u001b[0m\n\u001b[1;32m   1100\u001b[0m             \u001b[0melapsed_time\u001b[0m \u001b[0;34m=\u001b[0m \u001b[0mtime\u001b[0m\u001b[0;34m.\u001b[0m\u001b[0mtime\u001b[0m\u001b[0;34m(\u001b[0m\u001b[0;34m)\u001b[0m \u001b[0;34m-\u001b[0m \u001b[0mself\u001b[0m\u001b[0;34m.\u001b[0m\u001b[0m_start_time\u001b[0m\u001b[0;34m\u001b[0m\u001b[0;34m\u001b[0m\u001b[0m\n",
            "\u001b[0;32m/usr/local/lib/python3.10/dist-packages/joblib/parallel.py\u001b[0m in \u001b[0;36mretrieve\u001b[0;34m(self)\u001b[0m\n\u001b[1;32m    973\u001b[0m             \u001b[0;32mtry\u001b[0m\u001b[0;34m:\u001b[0m\u001b[0;34m\u001b[0m\u001b[0;34m\u001b[0m\u001b[0m\n\u001b[1;32m    974\u001b[0m                 \u001b[0;32mif\u001b[0m \u001b[0mgetattr\u001b[0m\u001b[0;34m(\u001b[0m\u001b[0mself\u001b[0m\u001b[0;34m.\u001b[0m\u001b[0m_backend\u001b[0m\u001b[0;34m,\u001b[0m \u001b[0;34m'supports_timeout'\u001b[0m\u001b[0;34m,\u001b[0m \u001b[0;32mFalse\u001b[0m\u001b[0;34m)\u001b[0m\u001b[0;34m:\u001b[0m\u001b[0;34m\u001b[0m\u001b[0;34m\u001b[0m\u001b[0m\n\u001b[0;32m--> 975\u001b[0;31m                     \u001b[0mself\u001b[0m\u001b[0;34m.\u001b[0m\u001b[0m_output\u001b[0m\u001b[0;34m.\u001b[0m\u001b[0mextend\u001b[0m\u001b[0;34m(\u001b[0m\u001b[0mjob\u001b[0m\u001b[0;34m.\u001b[0m\u001b[0mget\u001b[0m\u001b[0;34m(\u001b[0m\u001b[0mtimeout\u001b[0m\u001b[0;34m=\u001b[0m\u001b[0mself\u001b[0m\u001b[0;34m.\u001b[0m\u001b[0mtimeout\u001b[0m\u001b[0;34m)\u001b[0m\u001b[0;34m)\u001b[0m\u001b[0;34m\u001b[0m\u001b[0;34m\u001b[0m\u001b[0m\n\u001b[0m\u001b[1;32m    976\u001b[0m                 \u001b[0;32melse\u001b[0m\u001b[0;34m:\u001b[0m\u001b[0;34m\u001b[0m\u001b[0;34m\u001b[0m\u001b[0m\n\u001b[1;32m    977\u001b[0m                     \u001b[0mself\u001b[0m\u001b[0;34m.\u001b[0m\u001b[0m_output\u001b[0m\u001b[0;34m.\u001b[0m\u001b[0mextend\u001b[0m\u001b[0;34m(\u001b[0m\u001b[0mjob\u001b[0m\u001b[0;34m.\u001b[0m\u001b[0mget\u001b[0m\u001b[0;34m(\u001b[0m\u001b[0;34m)\u001b[0m\u001b[0;34m)\u001b[0m\u001b[0;34m\u001b[0m\u001b[0;34m\u001b[0m\u001b[0m\n",
            "\u001b[0;32m/usr/local/lib/python3.10/dist-packages/joblib/_parallel_backends.py\u001b[0m in \u001b[0;36mwrap_future_result\u001b[0;34m(future, timeout)\u001b[0m\n\u001b[1;32m    565\u001b[0m         AsyncResults.get from multiprocessing.\"\"\"\n\u001b[1;32m    566\u001b[0m         \u001b[0;32mtry\u001b[0m\u001b[0;34m:\u001b[0m\u001b[0;34m\u001b[0m\u001b[0;34m\u001b[0m\u001b[0m\n\u001b[0;32m--> 567\u001b[0;31m             \u001b[0;32mreturn\u001b[0m \u001b[0mfuture\u001b[0m\u001b[0;34m.\u001b[0m\u001b[0mresult\u001b[0m\u001b[0;34m(\u001b[0m\u001b[0mtimeout\u001b[0m\u001b[0;34m=\u001b[0m\u001b[0mtimeout\u001b[0m\u001b[0;34m)\u001b[0m\u001b[0;34m\u001b[0m\u001b[0;34m\u001b[0m\u001b[0m\n\u001b[0m\u001b[1;32m    568\u001b[0m         \u001b[0;32mexcept\u001b[0m \u001b[0mCfTimeoutError\u001b[0m \u001b[0;32mas\u001b[0m \u001b[0me\u001b[0m\u001b[0;34m:\u001b[0m\u001b[0;34m\u001b[0m\u001b[0;34m\u001b[0m\u001b[0m\n\u001b[1;32m    569\u001b[0m             \u001b[0;32mraise\u001b[0m \u001b[0mTimeoutError\u001b[0m \u001b[0;32mfrom\u001b[0m \u001b[0me\u001b[0m\u001b[0;34m\u001b[0m\u001b[0;34m\u001b[0m\u001b[0m\n",
            "\u001b[0;32m/usr/lib/python3.10/concurrent/futures/_base.py\u001b[0m in \u001b[0;36mresult\u001b[0;34m(self, timeout)\u001b[0m\n\u001b[1;32m    456\u001b[0m                     \u001b[0;32mraise\u001b[0m \u001b[0mCancelledError\u001b[0m\u001b[0;34m(\u001b[0m\u001b[0;34m)\u001b[0m\u001b[0;34m\u001b[0m\u001b[0;34m\u001b[0m\u001b[0m\n\u001b[1;32m    457\u001b[0m                 \u001b[0;32melif\u001b[0m \u001b[0mself\u001b[0m\u001b[0;34m.\u001b[0m\u001b[0m_state\u001b[0m \u001b[0;34m==\u001b[0m \u001b[0mFINISHED\u001b[0m\u001b[0;34m:\u001b[0m\u001b[0;34m\u001b[0m\u001b[0;34m\u001b[0m\u001b[0m\n\u001b[0;32m--> 458\u001b[0;31m                     \u001b[0;32mreturn\u001b[0m \u001b[0mself\u001b[0m\u001b[0;34m.\u001b[0m\u001b[0m__get_result\u001b[0m\u001b[0;34m(\u001b[0m\u001b[0;34m)\u001b[0m\u001b[0;34m\u001b[0m\u001b[0;34m\u001b[0m\u001b[0m\n\u001b[0m\u001b[1;32m    459\u001b[0m                 \u001b[0;32melse\u001b[0m\u001b[0;34m:\u001b[0m\u001b[0;34m\u001b[0m\u001b[0;34m\u001b[0m\u001b[0m\n\u001b[1;32m    460\u001b[0m                     \u001b[0;32mraise\u001b[0m \u001b[0mTimeoutError\u001b[0m\u001b[0;34m(\u001b[0m\u001b[0;34m)\u001b[0m\u001b[0;34m\u001b[0m\u001b[0;34m\u001b[0m\u001b[0m\n",
            "\u001b[0;32m/usr/lib/python3.10/concurrent/futures/_base.py\u001b[0m in \u001b[0;36m__get_result\u001b[0;34m(self)\u001b[0m\n\u001b[1;32m    401\u001b[0m         \u001b[0;32mif\u001b[0m \u001b[0mself\u001b[0m\u001b[0;34m.\u001b[0m\u001b[0m_exception\u001b[0m\u001b[0;34m:\u001b[0m\u001b[0;34m\u001b[0m\u001b[0;34m\u001b[0m\u001b[0m\n\u001b[1;32m    402\u001b[0m             \u001b[0;32mtry\u001b[0m\u001b[0;34m:\u001b[0m\u001b[0;34m\u001b[0m\u001b[0;34m\u001b[0m\u001b[0m\n\u001b[0;32m--> 403\u001b[0;31m                 \u001b[0;32mraise\u001b[0m \u001b[0mself\u001b[0m\u001b[0;34m.\u001b[0m\u001b[0m_exception\u001b[0m\u001b[0;34m\u001b[0m\u001b[0;34m\u001b[0m\u001b[0m\n\u001b[0m\u001b[1;32m    404\u001b[0m             \u001b[0;32mfinally\u001b[0m\u001b[0;34m:\u001b[0m\u001b[0;34m\u001b[0m\u001b[0;34m\u001b[0m\u001b[0m\n\u001b[1;32m    405\u001b[0m                 \u001b[0;31m# Break a reference cycle with the exception in self._exception\u001b[0m\u001b[0;34m\u001b[0m\u001b[0;34m\u001b[0m\u001b[0m\n",
            "\u001b[0;31mValueError\u001b[0m: Invalid parameter 'learning_rate' for estimator RandomForestClassifier(random_state=42). Valid parameters are: ['bootstrap', 'ccp_alpha', 'class_weight', 'criterion', 'max_depth', 'max_features', 'max_leaf_nodes', 'max_samples', 'min_impurity_decrease', 'min_samples_leaf', 'min_samples_split', 'min_weight_fraction_leaf', 'n_estimators', 'n_jobs', 'oob_score', 'random_state', 'verbose', 'warm_start']."
          ]
        }
      ]
    },
    {
      "cell_type": "markdown",
      "source": [
        "(De repente ha dejado de computar, pero dejamos el resultado que daba antes de que empezase a fallar)"
      ],
      "metadata": {
        "id": "tv0EjhscL6id"
      }
    },
    {
      "cell_type": "code",
      "source": [
        "ypred_gb2 = CV2.predict(x_test_scaled)\n",
        "y_pred_proba_gb2 = CV2.predict_proba(x_test_scaled)"
      ],
      "metadata": {
        "id": "E3QzQ1T98PfU"
      },
      "execution_count": null,
      "outputs": []
    },
    {
      "cell_type": "code",
      "source": [
        "print('ROC-AUC score of the model: {}'.format(roc_auc_score(ytest, y_pred_proba_gb2[:, 1])))\n",
        "print('Accuracy of the model: {}\\n'.format(accuracy_score(ytest, ypred_gb2)))\n",
        "print('Classification report: \\n{}\\n'.format(classification_report(ytest, ypred_gb2)))\n",
        "print('Confusion matrix: \\n{}\\n'.format(confusion_matrix(ytest, ypred_gb2)))\n",
        "print('Confusion matrix normalizada: \\n{}\\n'.format((confusion_matrix(ytest, ypred_gb2))/np.sum(confusion_matrix(ytest, ypred_gb2),axis = 1).reshape(-1,1),2))"
      ],
      "metadata": {
        "colab": {
          "base_uri": "https://localhost:8080/"
        },
        "id": "RCaG1nKj9sCF",
        "outputId": "5bf1d681-2807-40e3-8809-540464f5ddc5"
      },
      "execution_count": null,
      "outputs": [
        {
          "output_type": "stream",
          "name": "stdout",
          "text": [
            "ROC-AUC score of the model: 0.7182960686133558\n",
            "Accuracy of the model: 0.012943162633652222\n",
            "\n",
            "Classification report: \n",
            "              precision    recall  f1-score   support\n",
            "\n",
            "           1       0.01      1.00      0.03        46\n",
            "           2       0.00      0.00      0.00      3508\n",
            "\n",
            "    accuracy                           0.01      3554\n",
            "   macro avg       0.01      0.50      0.01      3554\n",
            "weighted avg       0.00      0.01      0.00      3554\n",
            "\n",
            "\n",
            "Confusion matrix: \n",
            "[[  46    0]\n",
            " [3508    0]]\n",
            "\n",
            "Confusion matrix normalizada: \n",
            "[[1. 0.]\n",
            " [1. 0.]]\n",
            "\n"
          ]
        }
      ]
    },
    {
      "cell_type": "markdown",
      "source": [
        "Podemos comprobar como la optimización del modelo no ha sido del todo efectiva, con el modelo incial conseguíamos unos resultados mejores, por lo que ese será nuestro modelo final.\n",
        "\n",
        "En conclusión, el proyecto de generar un modelo para predecir accidentes ha enfrentado desafíos en términos de eficacia. A pesar de los esfuerzos realizados, el modelo no ha logrado proporcionar resultados satisfactorios en la tarea de predicción de accidentes. Estas dificultades pueden deberse a la falta de ajuste del umbral de clasificación, lo que afecta el equilibrio entre precisión y exhaustividad. Además, la incapacidad para estudiar el overfitting limita la capacidad del modelo para generalizar correctamente a nuevos datos. Estos resultados resaltan la necesidad de seguir explorando y mejorando el enfoque utilizado, considerando técnicas adicionales y recopilando datos más relevantes para fortalecer el rendimiento del modelo en futuras iteraciones del proyecto."
      ],
      "metadata": {
        "id": "AHyNwBuG7EA7"
      }
    }
  ],
  "metadata": {
    "colab": {
      "provenance": []
    },
    "kernelspec": {
      "display_name": "Python 3",
      "name": "python3"
    },
    "language_info": {
      "name": "python"
    }
  },
  "nbformat": 4,
  "nbformat_minor": 0
}